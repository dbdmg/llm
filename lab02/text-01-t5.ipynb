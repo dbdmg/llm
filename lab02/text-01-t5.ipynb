{
  "cells": [
    {
      "cell_type": "markdown",
      "metadata": {
        "id": "Emewq5No9EMQ"
      },
      "source": [
        "## Tokenization\n"
      ]
    },
    {
      "cell_type": "markdown",
      "metadata": {
        "id": "3U7UTMZc9EMS"
      },
      "source": [
        "For transformers, a fundamental step is to convert the input text into a sequence of tokens. Tokenizers are used for this purpose. Different tokenization techniques can be used (e.g., Byte-Pair Encoding).\n",
        "\n",
        "These tokenizers need to be trained on some corpus (e.g., to figure out what the most common words are). However, the Hugging Face library provides pre-trained tokenizers that can be used out of the box.\n",
        "\n",
        "Generally, each model has its own tokenizer. For example, the `BertTokenizer` is used for BERT models, and the `GPT2Tokenizer` is used for GPT-2 models.\n",
        "\n",
        "\n",
        "Since we will be using T5 for this exercise, we should be using the `T5Tokenizer` class. However, HuggingFace provides a common `AutoTokenizer` class that can be used to load the appropriate tokenizer for a given model  (do note, however, that the returned class will be the \"correct\" one!)."
      ]
    },
    {
      "cell_type": "code",
      "execution_count": 97,
      "metadata": {
        "collapsed": true,
        "colab": {
          "base_uri": "https://localhost:8080/",
          "height": 377
        },
        "id": "1hnZ1dh99EMS",
        "outputId": "e73a0fe1-f37b-48b5-ada6-9fb86c510d6e"
      },
      "outputs": [
        {
          "output_type": "execute_result",
          "data": {
            "text/plain": [
              "transformers.models.t5.tokenization_t5_fast.T5TokenizerFast"
            ],
            "text/html": [
              "<div style=\"max-width:800px; border: 1px solid var(--colab-border-color);\"><style>\n",
              "      pre.function-repr-contents {\n",
              "        overflow-x: auto;\n",
              "        padding: 8px 12px;\n",
              "        max-height: 500px;\n",
              "      }\n",
              "\n",
              "      pre.function-repr-contents.function-repr-contents-collapsed {\n",
              "        cursor: pointer;\n",
              "        max-height: 100px;\n",
              "      }\n",
              "    </style>\n",
              "    <pre style=\"white-space: initial; background:\n",
              "         var(--colab-secondary-surface-color); padding: 8px 12px;\n",
              "         border-bottom: 1px solid var(--colab-border-color);\"><b>transformers.models.t5.tokenization_t5_fast.T5TokenizerFast</b><br/>def __call__(text: Union[TextInput, PreTokenizedInput, list[TextInput], list[PreTokenizedInput], None]=None, text_pair: Optional[Union[TextInput, PreTokenizedInput, list[TextInput], list[PreTokenizedInput]]]=None, text_target: Union[TextInput, PreTokenizedInput, list[TextInput], list[PreTokenizedInput], None]=None, text_pair_target: Optional[Union[TextInput, PreTokenizedInput, list[TextInput], list[PreTokenizedInput]]]=None, add_special_tokens: bool=True, padding: Union[bool, str, PaddingStrategy]=False, truncation: Union[bool, str, TruncationStrategy, None]=None, max_length: Optional[int]=None, stride: int=0, is_split_into_words: bool=False, pad_to_multiple_of: Optional[int]=None, padding_side: Optional[str]=None, return_tensors: Optional[Union[str, TensorType]]=None, return_token_type_ids: Optional[bool]=None, return_attention_mask: Optional[bool]=None, return_overflowing_tokens: bool=False, return_special_tokens_mask: bool=False, return_offsets_mapping: bool=False, return_length: bool=False, verbose: bool=True, **kwargs) -&gt; BatchEncoding</pre><pre class=\"function-repr-contents function-repr-contents-collapsed\" style=\"\"><a class=\"filepath\" style=\"display:none\" href=\"#\">/usr/local/lib/python3.12/dist-packages/transformers/models/t5/tokenization_t5_fast.py</a>Construct a &quot;fast&quot; T5 tokenizer (backed by HuggingFace&#x27;s *tokenizers* library). Based on\n",
              "[Unigram](https://huggingface.co/docs/tokenizers/python/latest/components.html?highlight=unigram#models).\n",
              "\n",
              "This tokenizer inherits from [`PreTrainedTokenizerFast`] which contains most of the main methods. Users should\n",
              "refer to this superclass for more information regarding those methods.\n",
              "\n",
              "Args:\n",
              "    vocab_file (`str`):\n",
              "        [SentencePiece](https://github.com/google/sentencepiece) file (generally has a *.spm* extension) that\n",
              "        contains the vocabulary necessary to instantiate a tokenizer.\n",
              "    eos_token (`str`, *optional*, defaults to `&quot;&lt;/s&gt;&quot;`):\n",
              "        The end of sequence token.\n",
              "\n",
              "        &lt;Tip&gt;\n",
              "\n",
              "        When building a sequence using special tokens, this is not the token that is used for the end of sequence.\n",
              "        The token used is the `sep_token`.\n",
              "\n",
              "        &lt;/Tip&gt;\n",
              "\n",
              "    unk_token (`str`, *optional*, defaults to `&quot;&lt;unk&gt;&quot;`):\n",
              "        The unknown token. A token that is not in the vocabulary cannot be converted to an ID and is set to be this\n",
              "        token instead.\n",
              "    pad_token (`str`, *optional*, defaults to `&quot;&lt;pad&gt;&quot;`):\n",
              "        The token used for padding, for example when batching sequences of different lengths.\n",
              "    extra_ids (`int`, *optional*, defaults to 100):\n",
              "        Add a number of extra ids added to the vocabulary for use as sentinels. These tokens are accessible as\n",
              "        &quot;&lt;extra_id_{%d}&gt;&quot; where &quot;{%d}&quot; is a number between 0 and extra_ids-1. These tokens can be retrieved by\n",
              "        calling get_sentinel_tokens method and token ids can be by calling get_sentinel_token_ids method\n",
              "    additional_special_tokens (`list[str]`, *optional*):\n",
              "        Additional special tokens used by the tokenizer.\n",
              "    add_prefix_space (`bool`, *optional*):\n",
              "        Whether or not the tokenizer should automatically add a prefix space\n",
              "    from_slow (`book`, *optional*, defaults to `False`):\n",
              "        Whether or not the tokenizer should be converted from a slow one. If `add_prefix_space` is set, this will be set to `True`.</pre>\n",
              "      <script>\n",
              "      if (google.colab.kernel.accessAllowed && google.colab.files && google.colab.files.view) {\n",
              "        for (const element of document.querySelectorAll('.filepath')) {\n",
              "          element.style.display = 'block'\n",
              "          element.onclick = (event) => {\n",
              "            event.preventDefault();\n",
              "            event.stopPropagation();\n",
              "            google.colab.files.view(element.textContent, 41);\n",
              "          };\n",
              "        }\n",
              "      }\n",
              "      for (const element of document.querySelectorAll('.function-repr-contents')) {\n",
              "        element.onclick = (event) => {\n",
              "          event.preventDefault();\n",
              "          event.stopPropagation();\n",
              "          element.classList.toggle('function-repr-contents-collapsed');\n",
              "        };\n",
              "      }\n",
              "      </script>\n",
              "      </div>"
            ]
          },
          "metadata": {},
          "execution_count": 97
        }
      ],
      "source": [
        "from transformers import AutoTokenizer\n",
        "\n",
        "model_name = \"google-t5/t5-base\"\n",
        "\n",
        "tokenizer = AutoTokenizer.from_pretrained(model_name)\n",
        "\n",
        "# TODO: print the type of the tokenizer\n",
        "type(tokenizer)"
      ]
    },
    {
      "cell_type": "markdown",
      "metadata": {
        "id": "_zVMOPr99EMT"
      },
      "source": [
        "### Encoding/Decoding"
      ]
    },
    {
      "cell_type": "markdown",
      "metadata": {
        "id": "A_l8Xhj49EMT"
      },
      "source": [
        "Tokenization can be carried out by passing a string that we want to tokenize. The tokenizer implements the `__call__` method, so we can call the tokenizer directly, as follows.\n",
        "\n",
        "Note that the output is a dictionary, which generally has the following keys:\n",
        "\n",
        "- `input_ids`: The tokenized input text (a list of token IDs by default).\n",
        "- `attention_mask`: A mask that indicates which elements in the input text are tokens and which are padding tokens. For now, we can ignore this (there is no padding). It will instead become useful when we encode batches of sentences of different lengths at the same time."
      ]
    },
    {
      "cell_type": "code",
      "execution_count": 98,
      "metadata": {
        "colab": {
          "base_uri": "https://localhost:8080/"
        },
        "id": "UChClsBL9EMT",
        "outputId": "38ad8c1d-417c-45f0-82ab-a311848f6861"
      },
      "outputs": [
        {
          "output_type": "stream",
          "name": "stdout",
          "text": [
            "{'input_ids': [21820, 6, 48, 19, 3, 9, 7142, 55, 1], 'attention_mask': [1, 1, 1, 1, 1, 1, 1, 1, 1]}\n"
          ]
        }
      ],
      "source": [
        "sentence = \"hello, this is a sentence!\"\n",
        "\n",
        "# TODO: use the tokenizer to tokenize the sentence and print the result\n",
        "tokens = tokenizer.__call__(sentence)\n",
        "print(tokens)"
      ]
    },
    {
      "cell_type": "markdown",
      "metadata": {
        "id": "sck2VZ1q9EMT"
      },
      "source": [
        "We can reverse the encoding operation (i.e., going from token IDs to strings) by using the `decode` method of the tokenizer."
      ]
    },
    {
      "cell_type": "code",
      "execution_count": 99,
      "metadata": {
        "colab": {
          "base_uri": "https://localhost:8080/",
          "height": 36
        },
        "id": "LCSvb82T9EMU",
        "outputId": "a5005989-3fbd-49a5-dc3f-b2f9202b64ee"
      },
      "outputs": [
        {
          "output_type": "execute_result",
          "data": {
            "text/plain": [
              "'hello, this is a sentence!</s>'"
            ],
            "application/vnd.google.colaboratory.intrinsic+json": {
              "type": "string"
            }
          },
          "metadata": {},
          "execution_count": 99
        }
      ],
      "source": [
        "tokenizer.decode(tokens[\"input_ids\"])"
      ]
    },
    {
      "cell_type": "markdown",
      "metadata": {
        "id": "Zx3m0n5P9EMU"
      },
      "source": [
        "Note that we have an extra part at the end of the string, which is the special token `</s>`. This token is used to indicate the end of the input text (EOS). This token is automatically added by the tokenizer when encoding the input text."
      ]
    },
    {
      "cell_type": "markdown",
      "metadata": {
        "id": "TnZBVySA9EMU"
      },
      "source": [
        "To learn what the mapping between tokens and token IDs is, we can get the tokenizer's vocabulary (`.get_vocab()`), which provides the mapping between tokens and respective IDs.\n",
        "\n",
        "For convenience, we build also a reverse vocabulary (i.e., from IDs to tokens)."
      ]
    },
    {
      "cell_type": "code",
      "execution_count": 157,
      "metadata": {
        "colab": {
          "base_uri": "https://localhost:8080/"
        },
        "id": "9t2RBzUY9EMU",
        "outputId": "6a769676-dbda-48d3-c123-791ad1be8abd"
      },
      "outputs": [
        {
          "output_type": "stream",
          "name": "stdout",
          "text": [
            "10 random words from the vocabulary:\n",
            "chev\n",
            "établissement\n",
            "▁receptor\n",
            "illion\n",
            "▁Melissa\n",
            "▁W\n",
            "▁aprobare\n",
            "▁lună\n",
            "▁pairs\n",
            "▁Shah\n"
          ]
        }
      ],
      "source": [
        "import random\n",
        "\n",
        "vocabulary = tokenizer.get_vocab()\n",
        "\n",
        "# TODO: print 10 random words from the vocabulary\n",
        "reverse_vocab = {value: key  for key, value in vocabulary.items()}\n",
        "\n",
        "vocab_keys = list(vocabulary.keys())\n",
        "random_words = random.sample(vocab_keys, 10)\n",
        "\n",
        "print(\"10 random words from the vocabulary:\")\n",
        "for word in random_words:\n",
        "    print(word)"
      ]
    },
    {
      "cell_type": "code",
      "execution_count": 101,
      "metadata": {
        "colab": {
          "base_uri": "https://localhost:8080/"
        },
        "id": "rhfCkVxU9EMU",
        "outputId": "ba8412c5-910e-4fa5-f950-cb60104cc2af"
      },
      "outputs": [
        {
          "output_type": "stream",
          "name": "stdout",
          "text": [
            "Total vocabulary size: 32100\n"
          ]
        }
      ],
      "source": [
        "print(\"Total vocabulary size:\", len(vocabulary))"
      ]
    },
    {
      "cell_type": "markdown",
      "metadata": {
        "id": "w9yQe5759EMU"
      },
      "source": [
        "We have a total of 32100. For T5, that's 32000 tokens + 100 special tokens (<extra_id_0>, <extra_id_1>, ..., <extra_id_99>) -- used for the tasks that T5 was trained on."
      ]
    },
    {
      "cell_type": "markdown",
      "metadata": {
        "id": "9ulIplwj9EMU"
      },
      "source": [
        "Let's see what the token id for the special token `</s>` is."
      ]
    },
    {
      "cell_type": "code",
      "execution_count": 102,
      "metadata": {
        "colab": {
          "base_uri": "https://localhost:8080/"
        },
        "id": "zGSflvDA9EMU",
        "outputId": "0939690a-9323-4528-8d99-8764f7e15092"
      },
      "outputs": [
        {
          "output_type": "execute_result",
          "data": {
            "text/plain": [
              "1"
            ]
          },
          "metadata": {},
          "execution_count": 102
        }
      ],
      "source": [
        "vocabulary[\"</s>\"]"
      ]
    },
    {
      "cell_type": "markdown",
      "metadata": {
        "id": "ddYqhEQl9EMU"
      },
      "source": [
        "And indeed, note that our `tokens` has a 1 showing up at the end!"
      ]
    },
    {
      "cell_type": "code",
      "execution_count": 103,
      "metadata": {
        "colab": {
          "base_uri": "https://localhost:8080/"
        },
        "id": "39Alh2h69EMU",
        "outputId": "e696b5df-08f6-4b28-941a-7dce467c29af"
      },
      "outputs": [
        {
          "output_type": "execute_result",
          "data": {
            "text/plain": [
              "[21820, 6, 48, 19, 3, 9, 7142, 55, 1]"
            ]
          },
          "metadata": {},
          "execution_count": 103
        }
      ],
      "source": [
        "tokens[\"input_ids\"]"
      ]
    },
    {
      "cell_type": "markdown",
      "metadata": {
        "id": "MaC3vW6W9EMU"
      },
      "source": [
        "We can include special tokens inside of the strings themselves. For instance:"
      ]
    },
    {
      "cell_type": "code",
      "execution_count": 104,
      "metadata": {
        "colab": {
          "base_uri": "https://localhost:8080/"
        },
        "id": "0O7hThYr9EMU",
        "outputId": "a681d538-9d05-4ed9-ca6d-706d9d01189a"
      },
      "outputs": [
        {
          "output_type": "execute_result",
          "data": {
            "text/plain": [
              "{'input_ids': [21820, 55, 1, 1, 1], 'attention_mask': [1, 1, 1, 1, 1]}"
            ]
          },
          "metadata": {},
          "execution_count": 104
        }
      ],
      "source": [
        "tokenizer(\"hello!</s></s>\")"
      ]
    },
    {
      "cell_type": "markdown",
      "metadata": {
        "id": "KjjjHwlb9EMV"
      },
      "source": [
        "Here, we have 2 `</s>` tokens (the ones we specified), plus an additional one that was added by the tokenizer."
      ]
    },
    {
      "cell_type": "markdown",
      "metadata": {
        "id": "O7fAzAzQ9EMV"
      },
      "source": [
        "Instead of getting token IDs directly, we may look at the tokens being produced, directly. We use the `tokenize()` method in this case."
      ]
    },
    {
      "cell_type": "code",
      "execution_count": 105,
      "metadata": {
        "colab": {
          "base_uri": "https://localhost:8080/"
        },
        "id": "gn7eKdnH9EMV",
        "outputId": "16994200-20c5-426e-fdf6-91bd0eb08343"
      },
      "outputs": [
        {
          "output_type": "execute_result",
          "data": {
            "text/plain": [
              "['▁hello', ',', '▁this', '▁is', '▁', 'a', '▁sentence', '!']"
            ]
          },
          "metadata": {},
          "execution_count": 105
        }
      ],
      "source": [
        "tokenizer.tokenize(sentence)"
      ]
    },
    {
      "cell_type": "markdown",
      "metadata": {
        "id": "R5Y0buCU9EMV"
      },
      "source": [
        "What's up with those `_`? They simply represent words that are starting after spaces. This helps us understand whether a token is being used at the beginning of a sentence, or if it's in the middle of a word."
      ]
    },
    {
      "cell_type": "code",
      "execution_count": 106,
      "metadata": {
        "colab": {
          "base_uri": "https://localhost:8080/"
        },
        "id": "nsRM142d9EMV",
        "outputId": "bb491bab-2f70-41f8-ce39-9ab417a3595f"
      },
      "outputs": [
        {
          "output_type": "stream",
          "name": "stdout",
          "text": [
            "['▁hello', '▁', ',', 'world']\n",
            "['▁hello', '▁', ',', '▁world']\n"
          ]
        }
      ],
      "source": [
        "print(tokenizer.tokenize(\"hello    ,world\"))\n",
        "print(tokenizer.tokenize(\"hello    , world\"))"
      ]
    },
    {
      "cell_type": "markdown",
      "metadata": {
        "id": "DIP1mllb9EMV"
      },
      "source": [
        "In the above case, `_hello` is the token for the word \"hello\" at the beginning of the sentence. However, the word \"world\" is mapped to two different tokens, depending on whether there is a space before the word or not.\n",
        "\n",
        "Notice also how multiple spaces are compacted into a single one!\n",
        "\n",
        "These are all tokenizer-specific details. The tokenizer is responsible for deciding how to tokenize the input text. You may observe different behaviors for different tokenizers."
      ]
    },
    {
      "cell_type": "markdown",
      "metadata": {
        "id": "JXpF7JOJ9EMV"
      },
      "source": [
        "### Special tokens\n",
        "\n",
        "Each model typically has its own special tokens. Some are necessary for the training process, while others can be beneficial at inference time.\n",
        "\n",
        "Special attributes are available in the tokenizer class to access these special tokens. Some examples are:\n",
        "\n",
        "- `pad_token` is the token used for padding (as discussed later),\n",
        "- `bos_token` and `eos_token` tokens are used to indicate the beginning and end of the input text, respectively,\n",
        "- `mask_token` is used for masking tokens during training (e.g., for the masked LM task, with BERT),\n",
        "- `sep_token` is used to separate sentences in the input text (e.g., next sentence prediction, with BERT),\n",
        "- `cls_token` is used to indicate the beginning of the input text (e.g., for classification tasks, with BERT),\n",
        "- `unk_token` is used to indicate unknown tokens (i.e., tokens that are not in the vocabulary).\n",
        "\n",
        "Of course, not all tokenizers will use all tokens. So those attributes will be set to None, if not used.\n",
        "\n",
        "For instance, T5 has EOS and PAD tokens, but no BOS token."
      ]
    },
    {
      "cell_type": "code",
      "execution_count": 107,
      "metadata": {
        "colab": {
          "base_uri": "https://localhost:8080/"
        },
        "id": "b2NRK3AU9EMV",
        "outputId": "96fcca51-0fe1-4a43-92dd-ea7339e2aeae"
      },
      "outputs": [
        {
          "output_type": "execute_result",
          "data": {
            "text/plain": [
              "('</s>', '<pad>', None)"
            ]
          },
          "metadata": {},
          "execution_count": 107
        }
      ],
      "source": [
        "tokenizer.eos_token, tokenizer.pad_token, tokenizer.bos_token"
      ]
    },
    {
      "cell_type": "markdown",
      "metadata": {
        "id": "IukdWzTy9EMV"
      },
      "source": [
        "The `_id` suffix is used to indicate the corresponding token ID (None if not applicable)."
      ]
    },
    {
      "cell_type": "code",
      "execution_count": 108,
      "metadata": {
        "colab": {
          "base_uri": "https://localhost:8080/"
        },
        "id": "a_aUeGgm9EMV",
        "outputId": "eac24de1-748e-4081-c2df-652aca323c67"
      },
      "outputs": [
        {
          "output_type": "execute_result",
          "data": {
            "text/plain": [
              "(1, 0, None)"
            ]
          },
          "metadata": {},
          "execution_count": 108
        }
      ],
      "source": [
        "tokenizer.eos_token_id, tokenizer.pad_token_id, tokenizer.bos_token_id"
      ]
    },
    {
      "cell_type": "markdown",
      "metadata": {
        "id": "VCi82etm9EMV"
      },
      "source": [
        "### Batch encoding/decoding\n",
        "\n",
        "In general (especially at training time) we will want to encode multiple sentences at once (e.g., an entire batch of sentences).\n",
        "\n",
        "We can pass a list of sentences to be encoded to the tokenizer."
      ]
    },
    {
      "cell_type": "code",
      "execution_count": 109,
      "metadata": {
        "colab": {
          "base_uri": "https://localhost:8080/"
        },
        "id": "tKHzhaKc9EMV",
        "outputId": "43d0ca67-6d3b-4fef-8fff-3fbe38efd617"
      },
      "outputs": [
        {
          "output_type": "stream",
          "name": "stdout",
          "text": [
            "{'input_ids': [[48, 19, 8, 166, 7142, 1], [1446, 6, 48, 19, 8, 511, 5932, 55, 1]], 'attention_mask': [[1, 1, 1, 1, 1, 1], [1, 1, 1, 1, 1, 1, 1, 1, 1]]}\n",
            "instead, this is the second sequence!</s>\n"
          ]
        }
      ],
      "source": [
        "sentences = [\n",
        "    \"this is the first sentence\",\n",
        "    \"instead, this is the second sequence!\"\n",
        "]\n",
        "\n",
        "#TODO: use the tokenizer to tokenize the sentences and print the result\n",
        "tokens = tokenizer.__call__(sentences)\n",
        "print(tokens)\n",
        "print(tokenizer.decode(tokens[\"input_ids\"][1]))"
      ]
    },
    {
      "cell_type": "markdown",
      "metadata": {
        "id": "qEUajitW9EMV"
      },
      "source": [
        "Of course, sentences of different lengths have a different number of tokens! However, tensors (that will be used by the model) need to have the same number of elements along each dimension.\n",
        "\n",
        "To do this, we can use padding: all sentences will be padded to the length of the longest sentence in the batch. This is done by adding `pad` tokens (`<pad>`, for T5).\n",
        "\n",
        "However, since the pad tokens are not part of the input text, we need to let the model know that it should not pay attention to them. That's what the `attention_mask` is for!"
      ]
    },
    {
      "cell_type": "code",
      "execution_count": 110,
      "metadata": {
        "id": "ah7DPXP49EMV"
      },
      "outputs": [],
      "source": [
        "#TODO: use the tokenizer to tokenize the sentences with padding and print the result (use padding=True)\n",
        "tokens = tokenizer.__call__(sentences, padding=True)"
      ]
    },
    {
      "cell_type": "markdown",
      "metadata": {
        "id": "t-HtM2No9EMW"
      },
      "source": [
        "The first sentence is padded to the same length as the second sentence, with 0's (remember, the ID for `<pad>`!).\n",
        "\n",
        "The attention mask for the first sentence also contains 0's for the padding tokens: the model will ignore them when processing the input text.\n",
        "\n",
        "Since now all sentences have the same length, we can stack them into a single tensor. Luckily, the tokenizer can already do this for us, we just need to ask.\n"
      ]
    },
    {
      "cell_type": "code",
      "execution_count": 111,
      "metadata": {
        "colab": {
          "base_uri": "https://localhost:8080/"
        },
        "id": "A_tXyLcO9EMW",
        "outputId": "15019ddf-dc59-4fac-b16d-a2c40551dbc7"
      },
      "outputs": [
        {
          "output_type": "stream",
          "name": "stdout",
          "text": [
            "[[48, 19, 8, 166, 7142, 1, 0, 0, 0], [1446, 6, 48, 19, 8, 511, 5932, 55, 1]]\n",
            "[[1, 1, 1, 1, 1, 1, 0, 0, 0], [1, 1, 1, 1, 1, 1, 1, 1, 1]]\n"
          ]
        }
      ],
      "source": [
        "print(tokens[\"input_ids\"])\n",
        "print(tokens[\"attention_mask\"])"
      ]
    },
    {
      "cell_type": "markdown",
      "metadata": {
        "id": "ZvMDN-9h9EMW"
      },
      "source": [
        "For completeness, we can also decode batches of sentences, with `tokenizer.batch_decode()`."
      ]
    },
    {
      "cell_type": "code",
      "execution_count": 112,
      "metadata": {
        "colab": {
          "base_uri": "https://localhost:8080/"
        },
        "id": "1Pb4x9ME9EMW",
        "outputId": "14958e6b-3886-484b-99e3-e95a851340bd"
      },
      "outputs": [
        {
          "output_type": "execute_result",
          "data": {
            "text/plain": [
              "['this is the first sentence</s><pad><pad><pad>',\n",
              " 'instead, this is the second sequence!</s>']"
            ]
          },
          "metadata": {},
          "execution_count": 112
        }
      ],
      "source": [
        "tokenizer.batch_decode(tokens[\"input_ids\"])"
      ]
    },
    {
      "cell_type": "markdown",
      "metadata": {
        "id": "WE005DXW9EMW"
      },
      "source": [
        "## Model analysis"
      ]
    },
    {
      "cell_type": "markdown",
      "metadata": {
        "id": "P3wNvRbG9EMW"
      },
      "source": [
        "Now we can go ahead and finally load our T5 model. We once again use a pretrained version available on HuggingFace.\n",
        "\n",
        "In general, we could use the `AutoModel` class for the loading, of the model. However, that version of the model does not include the specific heads for the tasks that T5 was trained on.\n",
        "\n",
        "The transformers library can make our life easier by defining a family of `AutoModel...` classes.\n",
        "\n",
        "For instance, the following are some commonly adopted classes:\n",
        "- `AutoModel`: the base class for all models,\n",
        "- `AutoModelForSequenceClassification`: a model for sequence classification tasks. It consists of a base model plus a classification head (linear layer + softmax). Note that, generally, the classification head is initialized randomly, and it needs to be trained on the specific task (but the library will let you know with a warning),\n",
        "- `AutoModelForCaualLM`: a model for causal language modeling tasks (e.g., GPT-2), where we generate the output tokens one by one,\n",
        "- `AutoModelForMaskedLM`: a model for masked language modeling tasks (e.g., BERT), where we predict the masked tokens in the input text,\n",
        "- `AutoModelForTokenClassification`: a model for token classification tasks (e.g., NER), where we classify each token in the input text.\n",
        "- `AutoModelForSeq2SeqLM`: a model for sequence-to-sequence tasks (e.g., T5), where we generate the output tokens one by one in an autoregressive manner, conditioned on the input sequence.\n",
        "\n",
        "In our specific case, we will use the `AutoModelForSeq2SeqLM` class to be able to generate new tokens."
      ]
    },
    {
      "cell_type": "code",
      "execution_count": 113,
      "metadata": {
        "colab": {
          "base_uri": "https://localhost:8080/",
          "height": 186
        },
        "id": "RwLvZrhC9EMe",
        "outputId": "826b6b3b-79d8-4778-bf18-d26036ccbe0b"
      },
      "outputs": [
        {
          "output_type": "execute_result",
          "data": {
            "text/plain": [
              "transformers.models.t5.modeling_t5.T5ForConditionalGeneration"
            ],
            "text/html": [
              "<div style=\"max-width:800px; border: 1px solid var(--colab-border-color);\"><style>\n",
              "      pre.function-repr-contents {\n",
              "        overflow-x: auto;\n",
              "        padding: 8px 12px;\n",
              "        max-height: 500px;\n",
              "      }\n",
              "\n",
              "      pre.function-repr-contents.function-repr-contents-collapsed {\n",
              "        cursor: pointer;\n",
              "        max-height: 100px;\n",
              "      }\n",
              "    </style>\n",
              "    <pre style=\"white-space: initial; background:\n",
              "         var(--colab-secondary-surface-color); padding: 8px 12px;\n",
              "         border-bottom: 1px solid var(--colab-border-color);\"><b>transformers.models.t5.modeling_t5.T5ForConditionalGeneration</b><br/>def _wrapped_call_impl(*args, **kwargs)</pre><pre class=\"function-repr-contents function-repr-contents-collapsed\" style=\"\"><a class=\"filepath\" style=\"display:none\" href=\"#\">/usr/local/lib/python3.12/dist-packages/transformers/models/t5/modeling_t5.py</a>T5 Model with a `language modeling` head on top.\n",
              "\n",
              "This model inherits from [`PreTrainedModel`]. Check the superclass documentation for the generic methods the\n",
              "library implements for all its model (such as downloading or saving, resizing the input embeddings, pruning heads\n",
              "etc.)\n",
              "\n",
              "This model is also a PyTorch [torch.nn.Module](https://pytorch.org/docs/stable/nn.html#torch.nn.Module) subclass.\n",
              "Use it as a regular PyTorch Module and refer to the PyTorch documentation for all matter related to general usage\n",
              "and behavior.\n",
              "\n",
              "Parameters:\n",
              "    config ([`T5Config`]):\n",
              "        Model configuration class with all the parameters of the model. Initializing with a config file does not\n",
              "        load the weights associated with the model, only the configuration. Check out the\n",
              "        [`~PreTrainedModel.from_pretrained`] method to load the model weights.</pre>\n",
              "      <script>\n",
              "      if (google.colab.kernel.accessAllowed && google.colab.files && google.colab.files.view) {\n",
              "        for (const element of document.querySelectorAll('.filepath')) {\n",
              "          element.style.display = 'block'\n",
              "          element.onclick = (event) => {\n",
              "            event.preventDefault();\n",
              "            event.stopPropagation();\n",
              "            google.colab.files.view(element.textContent, 1538);\n",
              "          };\n",
              "        }\n",
              "      }\n",
              "      for (const element of document.querySelectorAll('.function-repr-contents')) {\n",
              "        element.onclick = (event) => {\n",
              "          event.preventDefault();\n",
              "          event.stopPropagation();\n",
              "          element.classList.toggle('function-repr-contents-collapsed');\n",
              "        };\n",
              "      }\n",
              "      </script>\n",
              "      </div>"
            ]
          },
          "metadata": {},
          "execution_count": 113
        }
      ],
      "source": [
        "from transformers import AutoModelForSeq2SeqLM\n",
        "\n",
        "model = AutoModelForSeq2SeqLM.from_pretrained(model_name)\n",
        "\n",
        "# TODO: print the type of the model\n",
        "type(model)"
      ]
    },
    {
      "cell_type": "markdown",
      "metadata": {
        "id": "zgH35siS9EMe"
      },
      "source": [
        "To better understand the model, we can take a look at the model's configuration. The configuration contains all the hyperparameters of the model. The configuration is available as a dictionary, and we can access the values by using the attribute notation.\n",
        "\n",
        "You can find the model's configuration object in the `config` attribute of the model. Or, if you only need the configuration, you can directly load it using the `AutoConfig` class.\n",
        "\n",
        "```python\n",
        "from transformers import AutoConfig\n",
        "\n",
        "config = AutoConfig.from_pretrained(model_name)\n",
        "```"
      ]
    },
    {
      "cell_type": "code",
      "execution_count": 114,
      "metadata": {
        "colab": {
          "base_uri": "https://localhost:8080/"
        },
        "id": "5G0vg9St9EMe",
        "outputId": "ea73cd6c-8896-479b-887d-1ca7fc1bcaaa"
      },
      "outputs": [
        {
          "output_type": "execute_result",
          "data": {
            "text/plain": [
              "T5Config {\n",
              "  \"architectures\": [\n",
              "    \"T5ForConditionalGeneration\"\n",
              "  ],\n",
              "  \"classifier_dropout\": 0.0,\n",
              "  \"d_ff\": 3072,\n",
              "  \"d_kv\": 64,\n",
              "  \"d_model\": 768,\n",
              "  \"decoder_start_token_id\": 0,\n",
              "  \"dense_act_fn\": \"relu\",\n",
              "  \"dropout_rate\": 0.1,\n",
              "  \"dtype\": \"float32\",\n",
              "  \"eos_token_id\": 1,\n",
              "  \"feed_forward_proj\": \"relu\",\n",
              "  \"initializer_factor\": 1.0,\n",
              "  \"is_encoder_decoder\": true,\n",
              "  \"is_gated_act\": false,\n",
              "  \"layer_norm_epsilon\": 1e-06,\n",
              "  \"model_type\": \"t5\",\n",
              "  \"n_positions\": 512,\n",
              "  \"num_decoder_layers\": 12,\n",
              "  \"num_heads\": 12,\n",
              "  \"num_layers\": 12,\n",
              "  \"output_past\": true,\n",
              "  \"pad_token_id\": 0,\n",
              "  \"relative_attention_max_distance\": 128,\n",
              "  \"relative_attention_num_buckets\": 32,\n",
              "  \"task_specific_params\": {\n",
              "    \"summarization\": {\n",
              "      \"early_stopping\": true,\n",
              "      \"length_penalty\": 2.0,\n",
              "      \"max_length\": 200,\n",
              "      \"min_length\": 30,\n",
              "      \"no_repeat_ngram_size\": 3,\n",
              "      \"num_beams\": 4,\n",
              "      \"prefix\": \"summarize: \"\n",
              "    },\n",
              "    \"translation_en_to_de\": {\n",
              "      \"early_stopping\": true,\n",
              "      \"max_length\": 300,\n",
              "      \"num_beams\": 4,\n",
              "      \"prefix\": \"translate English to German: \"\n",
              "    },\n",
              "    \"translation_en_to_fr\": {\n",
              "      \"early_stopping\": true,\n",
              "      \"max_length\": 300,\n",
              "      \"num_beams\": 4,\n",
              "      \"prefix\": \"translate English to French: \"\n",
              "    },\n",
              "    \"translation_en_to_ro\": {\n",
              "      \"early_stopping\": true,\n",
              "      \"max_length\": 300,\n",
              "      \"num_beams\": 4,\n",
              "      \"prefix\": \"translate English to Romanian: \"\n",
              "    }\n",
              "  },\n",
              "  \"transformers_version\": \"4.57.0\",\n",
              "  \"use_cache\": true,\n",
              "  \"vocab_size\": 32128\n",
              "}"
            ]
          },
          "metadata": {},
          "execution_count": 114
        }
      ],
      "source": [
        "model.config"
      ]
    },
    {
      "cell_type": "markdown",
      "metadata": {
        "id": "rSsU3lJf9EMf"
      },
      "source": [
        "Lots of information going on here. We can just take a few key aspects:\n",
        "\n",
        "- `d_kv` = 64. This is the dimension of keys $d_k$ (so also queries) and values $d_v$ in the attention mechanism. It is common, to keep things simple, to use the same number of dimensions for keys, queries, and values (even though this is not strictly necessary).\n",
        "- `d_model` = 768. This is the dimension of the output of each transformer block.\n",
        "- `d_ff` = 3072. This is the dimension of the feedforward network in each transformer block. We will see that the feedforward network is composed of two linear layers with a ReLU activation in between (`d_model -> d_ff -> d_model`).\n",
        "- `num_layers` = 12. This is the number of transformer blocks in the model (both encoder and decoder).\n",
        "- `num_heads` = 12. This is the number of attention heads in the multi-head attention mechanism. Each head will produce a different representation of the input text, and the results will be concatenated together. Remember that the output of each attention head is concatenated. We have 12 heads, each producing a 64-dimensional output, so the final output will be 12 * 64 = 768-dimensional."
      ]
    },
    {
      "cell_type": "markdown",
      "metadata": {
        "id": "OArYAuhj9EMf"
      },
      "source": [
        "We can now inspect the model to better understand its architecture."
      ]
    },
    {
      "cell_type": "code",
      "execution_count": 115,
      "metadata": {
        "colab": {
          "base_uri": "https://localhost:8080/"
        },
        "id": "6nGqfe-m9EMf",
        "outputId": "f03474d5-2087-4cc8-bf6c-d2b66cd2a470"
      },
      "outputs": [
        {
          "output_type": "execute_result",
          "data": {
            "text/plain": [
              "T5ForConditionalGeneration(\n",
              "  (shared): Embedding(32128, 768)\n",
              "  (encoder): T5Stack(\n",
              "    (embed_tokens): Embedding(32128, 768)\n",
              "    (block): ModuleList(\n",
              "      (0): T5Block(\n",
              "        (layer): ModuleList(\n",
              "          (0): T5LayerSelfAttention(\n",
              "            (SelfAttention): T5Attention(\n",
              "              (q): Linear(in_features=768, out_features=768, bias=False)\n",
              "              (k): Linear(in_features=768, out_features=768, bias=False)\n",
              "              (v): Linear(in_features=768, out_features=768, bias=False)\n",
              "              (o): Linear(in_features=768, out_features=768, bias=False)\n",
              "              (relative_attention_bias): Embedding(32, 12)\n",
              "            )\n",
              "            (layer_norm): T5LayerNorm()\n",
              "            (dropout): Dropout(p=0.1, inplace=False)\n",
              "          )\n",
              "          (1): T5LayerFF(\n",
              "            (DenseReluDense): T5DenseActDense(\n",
              "              (wi): Linear(in_features=768, out_features=3072, bias=False)\n",
              "              (wo): Linear(in_features=3072, out_features=768, bias=False)\n",
              "              (dropout): Dropout(p=0.1, inplace=False)\n",
              "              (act): ReLU()\n",
              "            )\n",
              "            (layer_norm): T5LayerNorm()\n",
              "            (dropout): Dropout(p=0.1, inplace=False)\n",
              "          )\n",
              "        )\n",
              "      )\n",
              "      (1-11): 11 x T5Block(\n",
              "        (layer): ModuleList(\n",
              "          (0): T5LayerSelfAttention(\n",
              "            (SelfAttention): T5Attention(\n",
              "              (q): Linear(in_features=768, out_features=768, bias=False)\n",
              "              (k): Linear(in_features=768, out_features=768, bias=False)\n",
              "              (v): Linear(in_features=768, out_features=768, bias=False)\n",
              "              (o): Linear(in_features=768, out_features=768, bias=False)\n",
              "            )\n",
              "            (layer_norm): T5LayerNorm()\n",
              "            (dropout): Dropout(p=0.1, inplace=False)\n",
              "          )\n",
              "          (1): T5LayerFF(\n",
              "            (DenseReluDense): T5DenseActDense(\n",
              "              (wi): Linear(in_features=768, out_features=3072, bias=False)\n",
              "              (wo): Linear(in_features=3072, out_features=768, bias=False)\n",
              "              (dropout): Dropout(p=0.1, inplace=False)\n",
              "              (act): ReLU()\n",
              "            )\n",
              "            (layer_norm): T5LayerNorm()\n",
              "            (dropout): Dropout(p=0.1, inplace=False)\n",
              "          )\n",
              "        )\n",
              "      )\n",
              "    )\n",
              "    (final_layer_norm): T5LayerNorm()\n",
              "    (dropout): Dropout(p=0.1, inplace=False)\n",
              "  )\n",
              "  (decoder): T5Stack(\n",
              "    (embed_tokens): Embedding(32128, 768)\n",
              "    (block): ModuleList(\n",
              "      (0): T5Block(\n",
              "        (layer): ModuleList(\n",
              "          (0): T5LayerSelfAttention(\n",
              "            (SelfAttention): T5Attention(\n",
              "              (q): Linear(in_features=768, out_features=768, bias=False)\n",
              "              (k): Linear(in_features=768, out_features=768, bias=False)\n",
              "              (v): Linear(in_features=768, out_features=768, bias=False)\n",
              "              (o): Linear(in_features=768, out_features=768, bias=False)\n",
              "              (relative_attention_bias): Embedding(32, 12)\n",
              "            )\n",
              "            (layer_norm): T5LayerNorm()\n",
              "            (dropout): Dropout(p=0.1, inplace=False)\n",
              "          )\n",
              "          (1): T5LayerCrossAttention(\n",
              "            (EncDecAttention): T5Attention(\n",
              "              (q): Linear(in_features=768, out_features=768, bias=False)\n",
              "              (k): Linear(in_features=768, out_features=768, bias=False)\n",
              "              (v): Linear(in_features=768, out_features=768, bias=False)\n",
              "              (o): Linear(in_features=768, out_features=768, bias=False)\n",
              "            )\n",
              "            (layer_norm): T5LayerNorm()\n",
              "            (dropout): Dropout(p=0.1, inplace=False)\n",
              "          )\n",
              "          (2): T5LayerFF(\n",
              "            (DenseReluDense): T5DenseActDense(\n",
              "              (wi): Linear(in_features=768, out_features=3072, bias=False)\n",
              "              (wo): Linear(in_features=3072, out_features=768, bias=False)\n",
              "              (dropout): Dropout(p=0.1, inplace=False)\n",
              "              (act): ReLU()\n",
              "            )\n",
              "            (layer_norm): T5LayerNorm()\n",
              "            (dropout): Dropout(p=0.1, inplace=False)\n",
              "          )\n",
              "        )\n",
              "      )\n",
              "      (1-11): 11 x T5Block(\n",
              "        (layer): ModuleList(\n",
              "          (0): T5LayerSelfAttention(\n",
              "            (SelfAttention): T5Attention(\n",
              "              (q): Linear(in_features=768, out_features=768, bias=False)\n",
              "              (k): Linear(in_features=768, out_features=768, bias=False)\n",
              "              (v): Linear(in_features=768, out_features=768, bias=False)\n",
              "              (o): Linear(in_features=768, out_features=768, bias=False)\n",
              "            )\n",
              "            (layer_norm): T5LayerNorm()\n",
              "            (dropout): Dropout(p=0.1, inplace=False)\n",
              "          )\n",
              "          (1): T5LayerCrossAttention(\n",
              "            (EncDecAttention): T5Attention(\n",
              "              (q): Linear(in_features=768, out_features=768, bias=False)\n",
              "              (k): Linear(in_features=768, out_features=768, bias=False)\n",
              "              (v): Linear(in_features=768, out_features=768, bias=False)\n",
              "              (o): Linear(in_features=768, out_features=768, bias=False)\n",
              "            )\n",
              "            (layer_norm): T5LayerNorm()\n",
              "            (dropout): Dropout(p=0.1, inplace=False)\n",
              "          )\n",
              "          (2): T5LayerFF(\n",
              "            (DenseReluDense): T5DenseActDense(\n",
              "              (wi): Linear(in_features=768, out_features=3072, bias=False)\n",
              "              (wo): Linear(in_features=3072, out_features=768, bias=False)\n",
              "              (dropout): Dropout(p=0.1, inplace=False)\n",
              "              (act): ReLU()\n",
              "            )\n",
              "            (layer_norm): T5LayerNorm()\n",
              "            (dropout): Dropout(p=0.1, inplace=False)\n",
              "          )\n",
              "        )\n",
              "      )\n",
              "    )\n",
              "    (final_layer_norm): T5LayerNorm()\n",
              "    (dropout): Dropout(p=0.1, inplace=False)\n",
              "  )\n",
              "  (lm_head): Linear(in_features=768, out_features=32128, bias=False)\n",
              ")"
            ]
          },
          "metadata": {},
          "execution_count": 115
        }
      ],
      "source": [
        "model"
      ]
    },
    {
      "cell_type": "markdown",
      "metadata": {
        "id": "Geux3gEm9EMf"
      },
      "source": [
        "We see that the model has a `shared` Embedding layer, an `encoder` and a `decoder`, and a final `lm_head`.\n",
        "\n",
        "We can look into the token embedding first.\n"
      ]
    },
    {
      "cell_type": "markdown",
      "metadata": {
        "id": "uJwh45a69EMf"
      },
      "source": [
        "### Tokens embedding\n"
      ]
    },
    {
      "cell_type": "code",
      "execution_count": 116,
      "metadata": {
        "colab": {
          "base_uri": "https://localhost:8080/"
        },
        "id": "xGzs2Tp09EMf",
        "outputId": "b8d6f181-8f10-44ed-b155-5def1a54c40f"
      },
      "outputs": [
        {
          "output_type": "execute_result",
          "data": {
            "text/plain": [
              "Embedding(32128, 768)"
            ]
          },
          "metadata": {},
          "execution_count": 116
        }
      ],
      "source": [
        "model.shared"
      ]
    },
    {
      "cell_type": "markdown",
      "metadata": {
        "id": "LYuHNH-69EMf"
      },
      "source": [
        "First, we can verify that this `shared` embedding layer, as the name suggests, is shared between the encoder and the decoder.\n",
        "\n",
        "We do so by checking the id of the embedding layer with the embedding layers found in the encoder and decoder (`model.encoder.embed_tokens` and `model.decoder.embed_tokens`)."
      ]
    },
    {
      "cell_type": "code",
      "execution_count": 117,
      "metadata": {
        "colab": {
          "base_uri": "https://localhost:8080/"
        },
        "id": "nTLxtUmP9EMf",
        "outputId": "57bc423c-3b8e-48dd-a43f-d5b2c28a6345"
      },
      "outputs": [
        {
          "output_type": "execute_result",
          "data": {
            "text/plain": [
              "True"
            ]
          },
          "metadata": {},
          "execution_count": 117
        }
      ],
      "source": [
        "id(model.shared) == id(model.encoder.embed_tokens) and id(model.shared) == id(model.decoder.embed_tokens)"
      ]
    },
    {
      "cell_type": "markdown",
      "metadata": {
        "id": "iWihRVte9EMf"
      },
      "source": [
        "Next, we note that the embedding layer has 32128 tokens.\n",
        "\n",
        "This is not exactly the number of tokens we saw before (32100). The extra 28 tokens are \"leftovers\". 32128 = 251 * 128 is a more \"GPU friendly\" number, and it's used to speed up the computation (same reason why we often see batch sizes that are powers of 2)."
      ]
    },
    {
      "cell_type": "code",
      "execution_count": 118,
      "metadata": {
        "id": "cOx5XJEG9EMf"
      },
      "outputs": [],
      "source": [
        "words = [\n",
        "    \"chair\",\n",
        "    \"table\",\n",
        "    \"plate\",\n",
        "    \"knife\",\n",
        "    \"spoon\",\n",
        "    \"horse\",\n",
        "    \"goat\",\n",
        "    \"sheep\",\n",
        "    \"cat\",\n",
        "    \"dog\",\n",
        "]"
      ]
    },
    {
      "cell_type": "code",
      "execution_count": 119,
      "metadata": {
        "colab": {
          "base_uri": "https://localhost:8080/"
        },
        "id": "r-_1OVv79EMf",
        "outputId": "9313407c-f103-4d0d-e74d-ee699b7abd97"
      },
      "outputs": [
        {
          "output_type": "stream",
          "name": "stdout",
          "text": [
            "tensor([ 3533,   953,  3829, 10821, 14987,  4952, 18174, 15184,  1712,  1782])\n",
            "(10, 768)\n"
          ]
        }
      ],
      "source": [
        "word_tokens = tokenizer(words, return_tensors=\"pt\", padding=True)[\"input_ids\"][:, 0]\n",
        "print(word_tokens)\n",
        "token_embeddings = model.shared(word_tokens).cpu().detach().numpy()\n",
        "print(token_embeddings.shape)"
      ]
    },
    {
      "cell_type": "code",
      "execution_count": 120,
      "metadata": {
        "colab": {
          "base_uri": "https://localhost:8080/",
          "height": 445
        },
        "id": "O4K-lRVv9EMg",
        "outputId": "9e91e483-161d-47e1-92f4-a459e2bfe097"
      },
      "outputs": [
        {
          "output_type": "display_data",
          "data": {
            "text/plain": [
              "<Figure size 500x500 with 1 Axes>"
            ],
            "image/png": "[encoded data removed]"
          },
          "metadata": {}
        }
      ],
      "source": [
        "from sklearn.decomposition import PCA\n",
        "import matplotlib.pyplot as plt\n",
        "\n",
        "pca = PCA(n_components=2)\n",
        "X_pca = pca.fit_transform(token_embeddings)\n",
        "\n",
        "fig, ax = plt.subplots(figsize=(5,5))\n",
        "ax.scatter(X_pca[:, 0], X_pca[:, 1])\n",
        "for i, word in enumerate(words):\n",
        "    ax.text(X_pca[i, 0]+5, X_pca[i, 1]+5, word)"
      ]
    },
    {
      "cell_type": "code",
      "execution_count": 121,
      "metadata": {
        "colab": {
          "base_uri": "https://localhost:8080/",
          "height": 441
        },
        "id": "E5Nn1YQz9EMg",
        "outputId": "4c198381-bba9-4b09-e3a0-6ccd43fd88be"
      },
      "outputs": [
        {
          "output_type": "display_data",
          "data": {
            "text/plain": [
              "<Figure size 500x500 with 2 Axes>"
            ],
            "image/png": "[encoded data removed]"
          },
          "metadata": {}
        }
      ],
      "source": [
        "from sklearn.metrics.pairwise import cosine_similarity\n",
        "\n",
        "cosine_similarity(token_embeddings)\n",
        "fig, ax = plt.subplots(figsize=(5,5))\n",
        "cax = ax.imshow(cosine_similarity(token_embeddings), cmap=\"coolwarm\")\n",
        "fig.colorbar(cax)\n",
        "plt.xticks(range(len(words)), words, rotation=90)\n",
        "plt.yticks(range(len(words)), words);"
      ]
    },
    {
      "cell_type": "markdown",
      "metadata": {
        "id": "tOY3-wzy9EMg"
      },
      "source": [
        "### Encoder\n"
      ]
    },
    {
      "cell_type": "markdown",
      "metadata": {
        "id": "fa1-npCi9EMg"
      },
      "source": [
        "The model's encoder contains various transformer layers (each one attention, feed-forward, and normalization layers)."
      ]
    },
    {
      "cell_type": "code",
      "execution_count": 122,
      "metadata": {
        "colab": {
          "base_uri": "https://localhost:8080/"
        },
        "id": "LnxjX8kT9EMg",
        "outputId": "fb897fa6-3b63-4e7f-ba1d-3eef3821b17a"
      },
      "outputs": [
        {
          "output_type": "execute_result",
          "data": {
            "text/plain": [
              "T5Stack(\n",
              "  (embed_tokens): Embedding(32128, 768)\n",
              "  (block): ModuleList(\n",
              "    (0): T5Block(\n",
              "      (layer): ModuleList(\n",
              "        (0): T5LayerSelfAttention(\n",
              "          (SelfAttention): T5Attention(\n",
              "            (q): Linear(in_features=768, out_features=768, bias=False)\n",
              "            (k): Linear(in_features=768, out_features=768, bias=False)\n",
              "            (v): Linear(in_features=768, out_features=768, bias=False)\n",
              "            (o): Linear(in_features=768, out_features=768, bias=False)\n",
              "            (relative_attention_bias): Embedding(32, 12)\n",
              "          )\n",
              "          (layer_norm): T5LayerNorm()\n",
              "          (dropout): Dropout(p=0.1, inplace=False)\n",
              "        )\n",
              "        (1): T5LayerFF(\n",
              "          (DenseReluDense): T5DenseActDense(\n",
              "            (wi): Linear(in_features=768, out_features=3072, bias=False)\n",
              "            (wo): Linear(in_features=3072, out_features=768, bias=False)\n",
              "            (dropout): Dropout(p=0.1, inplace=False)\n",
              "            (act): ReLU()\n",
              "          )\n",
              "          (layer_norm): T5LayerNorm()\n",
              "          (dropout): Dropout(p=0.1, inplace=False)\n",
              "        )\n",
              "      )\n",
              "    )\n",
              "    (1-11): 11 x T5Block(\n",
              "      (layer): ModuleList(\n",
              "        (0): T5LayerSelfAttention(\n",
              "          (SelfAttention): T5Attention(\n",
              "            (q): Linear(in_features=768, out_features=768, bias=False)\n",
              "            (k): Linear(in_features=768, out_features=768, bias=False)\n",
              "            (v): Linear(in_features=768, out_features=768, bias=False)\n",
              "            (o): Linear(in_features=768, out_features=768, bias=False)\n",
              "          )\n",
              "          (layer_norm): T5LayerNorm()\n",
              "          (dropout): Dropout(p=0.1, inplace=False)\n",
              "        )\n",
              "        (1): T5LayerFF(\n",
              "          (DenseReluDense): T5DenseActDense(\n",
              "            (wi): Linear(in_features=768, out_features=3072, bias=False)\n",
              "            (wo): Linear(in_features=3072, out_features=768, bias=False)\n",
              "            (dropout): Dropout(p=0.1, inplace=False)\n",
              "            (act): ReLU()\n",
              "          )\n",
              "          (layer_norm): T5LayerNorm()\n",
              "          (dropout): Dropout(p=0.1, inplace=False)\n",
              "        )\n",
              "      )\n",
              "    )\n",
              "  )\n",
              "  (final_layer_norm): T5LayerNorm()\n",
              "  (dropout): Dropout(p=0.1, inplace=False)\n",
              ")"
            ]
          },
          "metadata": {},
          "execution_count": 122
        }
      ],
      "source": [
        "model.encoder"
      ]
    },
    {
      "cell_type": "markdown",
      "metadata": {
        "id": "-7r8TyYp9EMg"
      },
      "source": [
        "The `block` attribute is a list of `T5Block` modules, and contains the actual transformer layers. Indeed, we can check (as previously stated) that we have 12 encoder layers in the encoder."
      ]
    },
    {
      "cell_type": "code",
      "execution_count": 123,
      "metadata": {
        "colab": {
          "base_uri": "https://localhost:8080/"
        },
        "id": "lpHUsCHj9EMg",
        "outputId": "43ee94dc-90a0-451d-b478-634d13ab62df"
      },
      "outputs": [
        {
          "output_type": "execute_result",
          "data": {
            "text/plain": [
              "12"
            ]
          },
          "metadata": {},
          "execution_count": 123
        }
      ],
      "source": [
        "len(model.encoder.block)"
      ]
    },
    {
      "cell_type": "markdown",
      "metadata": {
        "id": "LQviacrE9EMg"
      },
      "source": [
        "Each of the modules inside of the `block` is composed of a `T5LayerSelfAttention` module (attention layer), followed by a `T5LayerFF` module (feed-forward layer).\n",
        "\n",
        "Remember that there are some other details (e.g., normalization layers, or dropouts) that are shown below, but we will not discuss them in detail here.\n",
        "\n",
        "As a reminder, this is the architecture of a single encoder block.\n",
        "\n",
        "![encoder.png](https://github.com/fraco03/llm/blob/main/lab02/images/encoder.png?raw=1)"
      ]
    },
    {
      "cell_type": "code",
      "execution_count": 124,
      "metadata": {
        "colab": {
          "base_uri": "https://localhost:8080/"
        },
        "id": "vetSNV219EMg",
        "outputId": "cc4f1948-e05e-474c-8721-e7836979f894"
      },
      "outputs": [
        {
          "output_type": "execute_result",
          "data": {
            "text/plain": [
              "T5Block(\n",
              "  (layer): ModuleList(\n",
              "    (0): T5LayerSelfAttention(\n",
              "      (SelfAttention): T5Attention(\n",
              "        (q): Linear(in_features=768, out_features=768, bias=False)\n",
              "        (k): Linear(in_features=768, out_features=768, bias=False)\n",
              "        (v): Linear(in_features=768, out_features=768, bias=False)\n",
              "        (o): Linear(in_features=768, out_features=768, bias=False)\n",
              "        (relative_attention_bias): Embedding(32, 12)\n",
              "      )\n",
              "      (layer_norm): T5LayerNorm()\n",
              "      (dropout): Dropout(p=0.1, inplace=False)\n",
              "    )\n",
              "    (1): T5LayerFF(\n",
              "      (DenseReluDense): T5DenseActDense(\n",
              "        (wi): Linear(in_features=768, out_features=3072, bias=False)\n",
              "        (wo): Linear(in_features=3072, out_features=768, bias=False)\n",
              "        (dropout): Dropout(p=0.1, inplace=False)\n",
              "        (act): ReLU()\n",
              "      )\n",
              "      (layer_norm): T5LayerNorm()\n",
              "      (dropout): Dropout(p=0.1, inplace=False)\n",
              "    )\n",
              "  )\n",
              ")"
            ]
          },
          "metadata": {},
          "execution_count": 124
        }
      ],
      "source": [
        "model.encoder.block[0]"
      ]
    },
    {
      "cell_type": "markdown",
      "metadata": {
        "id": "hG7eZCQn9EMg"
      },
      "source": [
        "Notice that the $W_q$, $W_k$, and $W_v$ matrices are 768x768. But, we stated that each attention is 64-dimensional, so they should be 768x64!\n",
        "\n",
        "However, remember that we have 12 heads: instead of producing 12 different heads, we instead efficiently represent all matrices inside of a single matrix. In addition, there is no need for concatenating the results: the output will already be the concatenation of all heads.\n",
        "\n",
        "The $W_o$ matrix is 768x768, i.e. `d_kv`*`num_heads` x `d_model`, as expected."
      ]
    },
    {
      "cell_type": "markdown",
      "metadata": {
        "id": "s4lKoea89EMg"
      },
      "source": [
        "### Decoder\n",
        "\n",
        "We can inspect the decoder in the same way. Remember the decoder's architecture!\n",
        "\n",
        "![decoder.png](https://github.com/fraco03/llm/blob/main/lab02/images/decoder.png?raw=1)"
      ]
    },
    {
      "cell_type": "code",
      "execution_count": 125,
      "metadata": {
        "colab": {
          "base_uri": "https://localhost:8080/"
        },
        "id": "fKgbx_bg9EMg",
        "outputId": "4e4b7ef9-ebc4-4d46-f7c2-44b23f9f2d2a"
      },
      "outputs": [
        {
          "output_type": "execute_result",
          "data": {
            "text/plain": [
              "T5Block(\n",
              "  (layer): ModuleList(\n",
              "    (0): T5LayerSelfAttention(\n",
              "      (SelfAttention): T5Attention(\n",
              "        (q): Linear(in_features=768, out_features=768, bias=False)\n",
              "        (k): Linear(in_features=768, out_features=768, bias=False)\n",
              "        (v): Linear(in_features=768, out_features=768, bias=False)\n",
              "        (o): Linear(in_features=768, out_features=768, bias=False)\n",
              "        (relative_attention_bias): Embedding(32, 12)\n",
              "      )\n",
              "      (layer_norm): T5LayerNorm()\n",
              "      (dropout): Dropout(p=0.1, inplace=False)\n",
              "    )\n",
              "    (1): T5LayerCrossAttention(\n",
              "      (EncDecAttention): T5Attention(\n",
              "        (q): Linear(in_features=768, out_features=768, bias=False)\n",
              "        (k): Linear(in_features=768, out_features=768, bias=False)\n",
              "        (v): Linear(in_features=768, out_features=768, bias=False)\n",
              "        (o): Linear(in_features=768, out_features=768, bias=False)\n",
              "      )\n",
              "      (layer_norm): T5LayerNorm()\n",
              "      (dropout): Dropout(p=0.1, inplace=False)\n",
              "    )\n",
              "    (2): T5LayerFF(\n",
              "      (DenseReluDense): T5DenseActDense(\n",
              "        (wi): Linear(in_features=768, out_features=3072, bias=False)\n",
              "        (wo): Linear(in_features=3072, out_features=768, bias=False)\n",
              "        (dropout): Dropout(p=0.1, inplace=False)\n",
              "        (act): ReLU()\n",
              "      )\n",
              "      (layer_norm): T5LayerNorm()\n",
              "      (dropout): Dropout(p=0.1, inplace=False)\n",
              "    )\n",
              "  )\n",
              ")"
            ]
          },
          "metadata": {},
          "execution_count": 125
        }
      ],
      "source": [
        "model.decoder.block[0]"
      ]
    },
    {
      "cell_type": "markdown",
      "metadata": {
        "id": "vwDg9iSd9EMh"
      },
      "source": [
        "Indeed, we find the expected architecture.\n",
        "\n",
        "An initial self-attention module, followed by a multi-head attention one (`T5LayerCrossAttention`), and finally a feed-forward module.\n",
        "\n",
        "Note that, although there is a dedicated class for cross-attention, the module still makes use of the same `T5Attention` class we also used for self-attention. This is because nothing changes in the attention mechanism itself: only the inputs are different."
      ]
    },
    {
      "cell_type": "markdown",
      "metadata": {
        "id": "AvPirrJm9EMh"
      },
      "source": [
        "Finally, note that the model's `lm_head` is a linear layer that takes the output of the decoder (768-dimensional) and maps it to the vocabulary size (32128)."
      ]
    },
    {
      "cell_type": "code",
      "execution_count": 126,
      "metadata": {
        "colab": {
          "base_uri": "https://localhost:8080/"
        },
        "id": "izb9-wUx9EMh",
        "outputId": "f010cb89-d921-4f59-cf46-6b8f11ee6d17"
      },
      "outputs": [
        {
          "output_type": "execute_result",
          "data": {
            "text/plain": [
              "Linear(in_features=768, out_features=32128, bias=False)"
            ]
          },
          "metadata": {},
          "execution_count": 126
        }
      ],
      "source": [
        "model.lm_head"
      ]
    },
    {
      "cell_type": "markdown",
      "metadata": {
        "id": "e5VmkSo79EMh"
      },
      "source": [
        "## Token generation\n",
        "\n",
        "Let's now focus on the token generation process.\n",
        "\n",
        "Remember, we are working with an encoder-decoder architecture. The encoder processes the input text, and the decoder generates the output text.\n",
        "\n",
        "The input for the encoder is the tokenized input text. We also need to specify an input for the decoder. The decoder's input will be the currently generated sequence thus far. For the first iteration, there is nothing already generated, so we need to specify a special token to indicate the beginning of the sequence (BOS). For T5, the token will be `<pad_token>`."
      ]
    },
    {
      "cell_type": "code",
      "execution_count": 144,
      "metadata": {
        "id": "CLpSG3in9EMh"
      },
      "outputs": [],
      "source": [
        "import torch\n",
        "\n",
        "input_sentence = \"translate english to german: hello, how are you?\"\n",
        "\n",
        "#TODO: use the tokenizer to tokenize the input sentence as a tensor\n",
        "tokens = tokenizer.__call__(input_sentence, return_tensors='pt')\n",
        "\n",
        "decoder_input_ids = torch.tensor([[ tokenizer.pad_token_id ]])"
      ]
    },
    {
      "cell_type": "code",
      "execution_count": 145,
      "metadata": {
        "colab": {
          "base_uri": "https://localhost:8080/"
        },
        "id": "ncVF981B9EMh",
        "outputId": "fdb15aad-54ac-4590-bf5c-3e016860d276"
      },
      "outputs": [
        {
          "output_type": "stream",
          "name": "stdout",
          "text": [
            "Encoder's input\n",
            "tensor([[13959, 22269,    12, 13692,    10, 21820,     6,   149,    33,    25,\n",
            "            58,     1]])\n",
            "\n",
            "Decoder's input\n",
            "tensor([[0]])\n"
          ]
        }
      ],
      "source": [
        "print(\"Encoder's input\")\n",
        "print(tokens[\"input_ids\"])\n",
        "\n",
        "print()\n",
        "print(\"Decoder's input\")\n",
        "print(decoder_input_ids)"
      ]
    },
    {
      "cell_type": "markdown",
      "metadata": {
        "id": "8kAq9in89EMh"
      },
      "source": [
        "To generate the first output token (after `<pad_token>`), we call the model's __call__ method (or `forward` method) with the input text and the decoder's input."
      ]
    },
    {
      "cell_type": "code",
      "execution_count": 146,
      "metadata": {
        "colab": {
          "base_uri": "https://localhost:8080/"
        },
        "id": "G-2VcKX09EMh",
        "outputId": "4be99d7e-005d-4514-9468-09e18c897da0"
      },
      "outputs": [
        {
          "output_type": "stream",
          "name": "stdout",
          "text": [
            "odict_keys(['logits', 'past_key_values', 'encoder_last_hidden_state'])\n"
          ]
        }
      ],
      "source": [
        "# **tokens passes the dictionary as keyword arguments (input_ids=..., attention_mask=...)\n",
        "output = model(**tokens, decoder_input_ids=decoder_input_ids)\n",
        "print(output.keys())"
      ]
    },
    {
      "cell_type": "markdown",
      "metadata": {
        "id": "VAc8lrGM9EMh"
      },
      "source": [
        "We get three outputs:\n",
        "\n",
        "- `logits`: The logits for each token in the vocabulary. The logits are the output of the linear layer (the `lm_head`) that maps the decoder's output to the vocabulary size. The logits are used to compute the probabilities of each token.\n",
        "\n",
        "- `past_key_values`: The past key-values of the decoder. This is used to speed up the generation process for future tokens. Remember: the decoder is autoregressive, so we generate one token at a time. Since each token can only pay attention to past tokens, it means that the predictions made for earlier tokens will not change. Thus, we can cache them and not re-compute them. So, if we pas `past_key_values` to the model the next time we call it, it will be faster.\n",
        "\n",
        "- `encoder_last_hidden_state`: The hidden states of the last layer of the encoder. This is not used for generating the next token, but we may find it useful for other tasks (e.g., summarization)."
      ]
    },
    {
      "cell_type": "code",
      "execution_count": 147,
      "metadata": {
        "colab": {
          "base_uri": "https://localhost:8080/"
        },
        "id": "Z3SSgjdZ9EMh",
        "outputId": "c0c1fe17-43ce-4e35-ab24-8ab6946aedf7"
      },
      "outputs": [
        {
          "output_type": "stream",
          "name": "stdout",
          "text": [
            "torch.Size([1, 1, 32128])\n"
          ]
        }
      ],
      "source": [
        "print(output.logits.shape)"
      ]
    },
    {
      "cell_type": "markdown",
      "metadata": {
        "id": "8yi_pgOs9EMh"
      },
      "source": [
        "The shape of the logits is 1x1x32128. The first dimension is the batch size, the second dimension is the number of tokens in the output sequence (we are still at a single generated token), and the third dimension is the number of tokens in the vocabulary.\n",
        "\n",
        "So what's the next word going to be? We can use greedy decoding to take the token with the highest probability."
      ]
    },
    {
      "cell_type": "code",
      "execution_count": 148,
      "metadata": {
        "colab": {
          "base_uri": "https://localhost:8080/"
        },
        "id": "G9iWlaVK9EMi",
        "outputId": "44f6ba6c-4ec9-45d9-8b78-971b8bb89717"
      },
      "outputs": [
        {
          "output_type": "stream",
          "name": "stdout",
          "text": [
            "Max probability token: 2501\n",
            "Corresponding token: Hall\n"
          ]
        }
      ],
      "source": [
        "max_proba_token = output.logits[0,0].argmax()\n",
        "print(\"Max probability token:\", max_proba_token.item())\n",
        "print(\"Corresponding token:\", tokenizer.decode(max_proba_token))"
      ]
    },
    {
      "cell_type": "markdown",
      "metadata": {
        "id": "jo1m3PV_9EMi"
      },
      "source": [
        "Looks like we're on the right track. We have a new token, which we can add to our `decoder_input_ids` tensor and continue with the next iteration.\n"
      ]
    },
    {
      "cell_type": "code",
      "execution_count": 149,
      "metadata": {
        "colab": {
          "base_uri": "https://localhost:8080/"
        },
        "id": "ZaqkR8729EMi",
        "outputId": "31ce4cab-9a01-4d63-a002-b17be8362640"
      },
      "outputs": [
        {
          "output_type": "stream",
          "name": "stdout",
          "text": [
            "tensor([[   0, 2501]])\n"
          ]
        }
      ],
      "source": [
        "# .view() acts like .reshape(), but assumes that the tensor is contiguous in memory (& is faster)\n",
        "decoder_input_ids = torch.hstack([decoder_input_ids, max_proba_token.view(1, 1)])\n",
        "print(decoder_input_ids)"
      ]
    },
    {
      "cell_type": "code",
      "execution_count": 151,
      "metadata": {
        "colab": {
          "base_uri": "https://localhost:8080/"
        },
        "id": "JVjHrZe69EMi",
        "outputId": "36f17731-5f6e-4858-c106-43eca9519642"
      },
      "outputs": [
        {
          "output_type": "execute_result",
          "data": {
            "text/plain": [
              "torch.Size([1, 2, 32128])"
            ]
          },
          "metadata": {},
          "execution_count": 151
        }
      ],
      "source": [
        "#TODO: use the model to generate the next token\n",
        "output = model(**tokens, decoder_input_ids=decoder_input_ids)\n",
        "output.logits.shape"
      ]
    },
    {
      "cell_type": "markdown",
      "metadata": {
        "id": "bQ_jbXnN9EMi"
      },
      "source": [
        "Now the output has shape 1x2x32128. We have generated two tokens!\n",
        "\n",
        "The first one, remember, will necessarily be the same as the one we produced before, since the masking mechanism prevents the model from seeing any following token.\n",
        "\n",
        "But just to be sure, let's decode both tokens."
      ]
    },
    {
      "cell_type": "code",
      "execution_count": 158,
      "metadata": {
        "colab": {
          "base_uri": "https://localhost:8080/"
        },
        "id": "rETVa0Q_9EMi",
        "outputId": "8dcd35f1-62b6-48c8-a24b-fbad111a6dde"
      },
      "outputs": [
        {
          "output_type": "stream",
          "name": "stdout",
          "text": [
            "Token ids tensor([2501,   32])\n",
            "Mapped tokens ['▁Hall', 'o']\n",
            "Decoded string Hallo\n"
          ]
        }
      ],
      "source": [
        "# 0 -> first (and only) batch\n",
        "max_proba_tokens = output.logits[0].argmax(axis=1)\n",
        "print(\"Token ids\", max_proba_tokens)\n",
        "print(\"Mapped tokens\", list(map(reverse_vocab.get, max_proba_tokens.tolist())))\n",
        "print(\"Decoded string\", tokenizer.decode(max_proba_tokens))"
      ]
    },
    {
      "cell_type": "markdown",
      "metadata": {
        "id": "s2wpApcP9EMi"
      },
      "source": [
        "We are onto something. We could go ahead and generate more tokens manually.\n",
        "\n",
        "However, we can implement our own generation loop."
      ]
    },
    {
      "cell_type": "code",
      "execution_count": 159,
      "metadata": {
        "colab": {
          "base_uri": "https://localhost:8080/"
        },
        "id": "CI1IddmA9EMi",
        "outputId": "58cc2c36-ec66-463c-9165-88ce18825655"
      },
      "outputs": [
        {
          "output_type": "execute_result",
          "data": {
            "text/plain": [
              "['<pad> Hallo, wie sind Sie?</s>']"
            ]
          },
          "metadata": {},
          "execution_count": 159
        }
      ],
      "source": [
        "# greedy deoding\n",
        "tokenizer.batch_decode(model.generate(**tokens, do_sample=True))"
      ]
    },
    {
      "cell_type": "code",
      "execution_count": 160,
      "metadata": {
        "colab": {
          "base_uri": "https://localhost:8080/"
        },
        "id": "ph6GwGyV9EMi",
        "outputId": "1c5f813c-c328-4baf-eed5-a0221e88cf63"
      },
      "outputs": [
        {
          "output_type": "execute_result",
          "data": {
            "text/plain": [
              "tensor([2501,   32])"
            ]
          },
          "metadata": {},
          "execution_count": 160
        }
      ],
      "source": [
        "output.logits[0].argmax(axis=1)"
      ]
    },
    {
      "cell_type": "code",
      "execution_count": 161,
      "metadata": {
        "colab": {
          "base_uri": "https://localhost:8080/"
        },
        "id": "jkI2kc2Y9EMi",
        "outputId": "d415a485-07d9-42ae-c720-e5ae19d48aba"
      },
      "outputs": [
        {
          "output_type": "stream",
          "name": "stdout",
          "text": [
            "Step 1: Hall\n",
            "Step 2: Hallo\n",
            "Step 3: Hallo,\n",
            "Step 4: Hallo, wie\n",
            "Step 5: Hallo, wie sind\n",
            "Step 6: Hallo, wie sind Sie\n",
            "Step 7: Hallo, wie sind Sie?\n",
            "Step 8: Hallo, wie sind Sie?</s>\n"
          ]
        }
      ],
      "source": [
        "\n",
        "decoder_input_ids = torch.tensor([[ tokenizer.pad_token_id ]])\n",
        "\n",
        "max_length = 50\n",
        "i = 0\n",
        "\n",
        "while i < max_length and decoder_input_ids[0,-1] != tokenizer.eos_token_id:\n",
        "    output = model(**tokens, decoder_input_ids=decoder_input_ids)\n",
        "    max_proba_tokens = output.logits[0].argmax(axis=1)\n",
        "    print(f\"Step {i+1}: {tokenizer.decode(max_proba_tokens)}\")\n",
        "    decoder_input_ids = torch.hstack([decoder_input_ids, max_proba_tokens[-1].view(1, 1)])\n",
        "    i += 1"
      ]
    },
    {
      "cell_type": "markdown",
      "metadata": {
        "id": "UCPHrCpg9EMi"
      },
      "source": [
        "Note that we are introducing a `max_length` parameter. This is just in case, to prevent the model from generating an infinite sequence.\n",
        "\n",
        "Now, turns out that the model has a `generate()` method that does exactly what we just did."
      ]
    },
    {
      "cell_type": "code",
      "execution_count": 162,
      "metadata": {
        "colab": {
          "base_uri": "https://localhost:8080/"
        },
        "id": "VCYbK6W99EMj",
        "outputId": "0ef3f5d7-e5e6-40e6-e355-44b516bf6023"
      },
      "outputs": [
        {
          "output_type": "execute_result",
          "data": {
            "text/plain": [
              "['<pad> Hallo, wie sind Sie?</s>']"
            ]
          },
          "metadata": {},
          "execution_count": 162
        }
      ],
      "source": [
        "#TODO: use the model to generate a translation of the input sentence\n",
        "out_tokens = model.generate(**tokens)\n",
        "tokenizer.batch_decode(out_tokens)"
      ]
    },
    {
      "cell_type": "markdown",
      "metadata": {
        "id": "vs_a4tM69EMj"
      },
      "source": [
        "You may also empirically verify that `model.generate()` is faster than the manual loop. This is because there are some optimizations in the `generate()` method that make the generation process faster (e.g., caching the encoder's outputs, or the previous decoder's hidden states)."
      ]
    },
    {
      "cell_type": "markdown",
      "metadata": {
        "id": "We61wPJg9EMj"
      },
      "source": [
        "## Cross-attention\n",
        "\n",
        "We can now run the previous code, but now let's compute the cross-attention weights. This will help us understand what the model is paying attention to in the input sequence, when generating the next token.\n",
        "\n",
        "To compute the attention weights, we need to reload the model, passing the `output_attentions=True` parameter. This will make the model return the attention weights for each layer."
      ]
    },
    {
      "cell_type": "code",
      "execution_count": 164,
      "metadata": {
        "id": "8aT9vny_9EMj"
      },
      "outputs": [],
      "source": [
        "#TODO: load the model that returns also the output of the attentions (output_attentions=True)\n",
        "model = AutoModelForSeq2SeqLM.from_pretrained(model_name, output_attentions=True)"
      ]
    },
    {
      "cell_type": "code",
      "execution_count": 180,
      "metadata": {
        "colab": {
          "base_uri": "https://localhost:8080/"
        },
        "id": "j6EMFUH19EMj",
        "outputId": "dcb33771-63f2-498a-b02b-63c34b891116"
      },
      "outputs": [
        {
          "output_type": "stream",
          "name": "stdout",
          "text": [
            "odict_keys(['logits', 'past_key_values', 'decoder_attentions', 'cross_attentions', 'encoder_last_hidden_state', 'encoder_attentions'])\n"
          ]
        }
      ],
      "source": [
        "# re-prepare encoder tokens and decoder tokens\n",
        "# input_sentence = \"translate from english to german: hello how are you?\"\n",
        "input_sentence = \"translate english to german: hello how are you?\"\n",
        "\n",
        "#TODO: use the tokenizer to tokenize the input sentence as a tensor\n",
        "tokens = tokenizer(input_sentence, return_tensors=\"pt\")\n",
        "\n",
        "#TODO: create the token for the decoder input (start with the <pad> token -> tokenizer.pad_token_id)\n",
        "decoder_input_ids = torch.tensor([[tokenizer.pad_token_id]])\n",
        "\n",
        "#TODO: use the model to generate the output putting the decoder_input_ids as the first token (decoder_input_ids=decoder_input_ids)\n",
        "output = model(**tokens, decoder_input_ids=decoder_input_ids)\n",
        "print(output.keys())"
      ]
    },
    {
      "cell_type": "code",
      "execution_count": 183,
      "metadata": {
        "colab": {
          "base_uri": "https://localhost:8080/"
        },
        "id": "YvomG9k-9EMj",
        "outputId": "c8e6437e-9349-44b1-9e6c-e9d3fb3c5eeb"
      },
      "outputs": [
        {
          "output_type": "execute_result",
          "data": {
            "text/plain": [
              "['<pad> Hallo, wie sind Sie?</s>']"
            ]
          },
          "metadata": {},
          "execution_count": 183
        }
      ],
      "source": [
        "#TODO: pass in the tokenizer.batch_decode the output of the model to get the translation of the input sentence\n",
        "# `tokenizer.batch_decode() is the funnction that decodes the tokenized output of the model into a string`\n",
        "tokenizer.batch_decode(model.generate(**tokens))"
      ]
    },
    {
      "cell_type": "markdown",
      "metadata": {
        "id": "9GoWVRqP9EMj"
      },
      "source": [
        "In addition to the previous values, we now have `decoder_attentions`, `cross_attentions`, and `encoder_attentions`.\n",
        "\n",
        "The names are self-explanatory. We will focus on the cross-attention to understand encoder-decoder interactions.\n",
        "\n",
        "Each of the decoder's layers has a corresponding cross-attention layer. So we expect to have 12 cross-attention layers. Indeed, the `cross_attention` is a tuple, with 12 elements."
      ]
    },
    {
      "cell_type": "code",
      "execution_count": 184,
      "metadata": {
        "colab": {
          "base_uri": "https://localhost:8080/"
        },
        "id": "PZJrXgy29EMj",
        "outputId": "a2cca794-b30d-4823-f089-c96613b3eb6a"
      },
      "outputs": [
        {
          "output_type": "execute_result",
          "data": {
            "text/plain": [
              "(tuple, 12)"
            ]
          },
          "metadata": {},
          "execution_count": 184
        }
      ],
      "source": [
        "type(output.cross_attentions), len(output.cross_attentions)"
      ]
    },
    {
      "cell_type": "markdown",
      "metadata": {
        "id": "1T-PYuV-9EMj"
      },
      "source": [
        "The shape of any one of these attentions is the following: 1x12x1x13. Remember:\n",
        "\n",
        "- the first 1 is the batch size (a single sentence),\n",
        "- 12 are the attention heads, each one producing an attention mask,\n",
        "- 1 is the number of tokens passed as input to the decoder (just BOS, for now),\n",
        "- 11 is the number of tokens in the input sequence."
      ]
    },
    {
      "cell_type": "code",
      "execution_count": 185,
      "metadata": {
        "colab": {
          "base_uri": "https://localhost:8080/"
        },
        "id": "CVzGcfez9EMj",
        "outputId": "dab38047-ed3e-4907-ea8b-03ab04e45508"
      },
      "outputs": [
        {
          "output_type": "execute_result",
          "data": {
            "text/plain": [
              "torch.Size([1, 12, 1, 11])"
            ]
          },
          "metadata": {},
          "execution_count": 185
        }
      ],
      "source": [
        "output.cross_attentions[0].shape"
      ]
    },
    {
      "cell_type": "markdown",
      "metadata": {
        "id": "o3uifAbR9EMj"
      },
      "source": [
        "Let's look at the first layer's attentions.\n",
        "\n",
        "We can see that for early stages the attention is mostly focused on identifying the task (\"translate\", \"english\", \"german\").\n",
        "\n",
        "Interestingly, \"german\" gets attention from many of the heads, whereas \"translate\" and \"english\" are less attended to. We can expect this to be the case since T5 has been trained on various tasks, one of which was translation from english to other languages."
      ]
    },
    {
      "cell_type": "code",
      "execution_count": 195,
      "metadata": {
        "colab": {
          "base_uri": "https://localhost:8080/",
          "height": 427
        },
        "id": "RxRjd4yV9EMj",
        "outputId": "74a8ead6-2448-4fa2-8de5-e44f2ea599ce"
      },
      "outputs": [
        {
          "output_type": "display_data",
          "data": {
            "text/plain": [
              "<Figure size 400x400 with 1 Axes>"
            ],
            "image/png": "[encoded data removed]"
          },
          "metadata": {}
        }
      ],
      "source": [
        "fig, ax = plt.subplots(figsize=(4,4))\n",
        "ax.imshow(output.cross_attentions[0][0, :, 0].detach().numpy())\n",
        "input_tokens = tokenizer.tokenize(input_sentence) + [ \"</s>\" ]\n",
        "ax.set_xticks(range(len(input_tokens)), input_tokens, rotation=90);"
      ]
    },
    {
      "cell_type": "markdown",
      "metadata": {
        "id": "UKr2xj379EMj"
      },
      "source": [
        "We can check the rest of the attentions in the other layers as well.\n",
        "\n",
        "With the exception of the initial layer, the attention on \"translate\" and \"english\" is mostly gone. The attention is now focused on \"german\" and on the first word of the sentence (\"hello\").\n"
      ]
    },
    {
      "cell_type": "code",
      "execution_count": 196,
      "metadata": {
        "colab": {
          "base_uri": "https://localhost:8080/",
          "height": 239
        },
        "id": "pznIrzTl9EMj",
        "outputId": "ef2ebbc1-a24a-42f2-e59a-20e98534128c"
      },
      "outputs": [
        {
          "output_type": "display_data",
          "data": {
            "text/plain": [
              "<Figure size 1400x300 with 10 Axes>"
            ],
            "image/png": "[encoded data removed]"
          },
          "metadata": {}
        }
      ],
      "source": [
        "fig, ax = plt.subplots(1, 10, figsize=(14, 3))\n",
        "\n",
        "ax[0].set_ylabel(\"Attention head\")\n",
        "\n",
        "for i in range(10):\n",
        "    ax[i].imshow(output.cross_attentions[i][0, :, 0].detach().numpy())\n",
        "    input_tokens = tokenizer.tokenize(input_sentence) + [ \"</s>\" ]\n",
        "    ax[i].set_xticks(range(len(input_tokens)), input_tokens, rotation=90);\n",
        "    ax[i].set_yticks([])"
      ]
    },
    {
      "cell_type": "markdown",
      "metadata": {
        "id": "C79ZL_Zw9EMj"
      },
      "source": [
        "As a final exploration, let's check the average attention across layers and heads, for the last token generated throughout the entire sequence.\n",
        "\n",
        "In this way, we can observe how the attention shifts as we generate more tokens."
      ]
    },
    {
      "cell_type": "code",
      "execution_count": 197,
      "metadata": {
        "colab": {
          "base_uri": "https://localhost:8080/"
        },
        "id": "xdL3LblS9EMk",
        "outputId": "8954dd87-1e4e-41ae-9a80-34b5f2c55338"
      },
      "outputs": [
        {
          "output_type": "stream",
          "name": "stdout",
          "text": [
            "Step 1: Hall\n",
            "Step 2: Hallo\n",
            "Step 3: Hallo,\n",
            "Step 4: Hallo, wie\n",
            "Step 5: Hallo, wie sind\n",
            "Step 6: Hallo, wie sind Sie\n",
            "Step 7: Hallo, wie sind Sie?\n",
            "Step 8: Hallo, wie sind Sie?</s>\n"
          ]
        }
      ],
      "source": [
        "decoder_input_ids = torch.tensor([[ tokenizer.pad_token_id ]])\n",
        "\n",
        "attns = []\n",
        "\n",
        "max_length = 50\n",
        "i = 0\n",
        "\n",
        "while i < max_length and decoder_input_ids[0,-1] != tokenizer.eos_token_id:\n",
        "    output = model(**tokens, decoder_input_ids=decoder_input_ids)\n",
        "    max_proba_tokens = output.logits[0].argmax(axis=1)\n",
        "    print(f\"Step {i+1}: {tokenizer.decode(max_proba_tokens)}\")\n",
        "    decoder_input_ids = torch.hstack([decoder_input_ids, max_proba_tokens[-1].view(1, 1)])\n",
        "    attns.append(output.cross_attentions)\n",
        "    i += 1"
      ]
    },
    {
      "cell_type": "markdown",
      "metadata": {
        "id": "7HKtGSDr9EMk"
      },
      "source": [
        "Note: taking the average across all heads and all layers may not necessarily be the best approach (for instance, some interesting aspects may be lost in this aggregation). However, it should give us a general idea of what the model is focusing on."
      ]
    },
    {
      "cell_type": "code",
      "execution_count": 199,
      "metadata": {
        "colab": {
          "base_uri": "https://localhost:8080/",
          "height": 420
        },
        "id": "I1aj7RFV9EMk",
        "outputId": "c8e224d1-df11-429d-fc96-d61ee8cffdd4"
      },
      "outputs": [
        {
          "output_type": "display_data",
          "data": {
            "text/plain": [
              "<Figure size 500x500 with 1 Axes>"
            ],
            "image/png": "[encoded data removed]"
          },
          "metadata": {}
        }
      ],
      "source": [
        "fig, ax = plt.subplots(figsize=(5, 5))\n",
        "ax.imshow(torch.stack([ torch.stack(a).mean(axis=(0, 1, 2))[-1] for a in attns ]).detach().numpy())\n",
        "ax.set_xlabel(\"Input token\")\n",
        "ax.set_ylabel(\"Generated token\")\n",
        "\n",
        "# torch.stack([ torch.stack(a).mean(axis=(0, 1, 2))[-1] for a in attns ]).detach().numpy()\n",
        "# for a in attns: Stiamo iterando sulla lista attns. Ricorda che attns è una lista dove ogni elemento a è una tupla di 12 tensori di cross-attention (uno per ogni strato del decoder), per un singolo passo di generazione del token (dal loop nella cella xdL3LblS9EMk). Quindi, a rappresenta le attenzioni per un singolo token generato.\n",
        "# torch.stack(a): Ogni a è una tupla di 12 tensori di attenzione cross-layer. torch.stack(a) li impila lungo una nuova dimensione (la dimensione 0). L'output è un tensore di forma [num_decoder_layers, batch_size, num_heads, decoder_seq_len, encoder_seq_len]. Nel nostro caso, questo sarà [12, 1, 12, numero_token_decoder, 11] (dove numero_token_decoder aumenta ad ogni passo del ciclo).\n",
        "# .mean(axis=(0, 1, 2)): Calcoliamo la media dei pesi di attenzione lungo le dimensioni 0, 1 e 2.\n",
        "# axis=0: Media su tutti gli strati del decoder (12 strati).\n",
        "# axis=1: Media sul batch (nel nostro caso, un singolo elemento del batch).\n",
        "# axis=2: Media su tutte le teste di attenzione (12 teste). Il risultato di questa media ha forma [numero_token_decoder, encoder_seq_len]. Per ogni token che il decoder ha generato finora, abbiamo un vettore che mostra l'attenzione media verso ogni token di input dell'encoder.\n",
        "# [-1]: Selezioniamo l'ultimo elemento lungo la prima dimensione (la dimensione del decoder_seq_len). Questo ci dà il vettore di attenzione media solo per l'ultimo token generato a quel passo del ciclo. Questo vettore ha forma [encoder_seq_len] (nel nostro caso, 11).\n",
        "# [ ... for a in attns ]: Questa è la comprehension di lista che raccoglie i risultati del passo precedente (il vettore di attenzione media per l'ultimo token generato) per ogni passo di generazione nel ciclo xdL3LblS9EMk. Il risultato è una lista di tensori, dove ogni tensore nella lista è il vettore di attenzione media per l'ultimo token generato a quel particolare passo del ciclo.\n",
        "# torch.stack(...): Impiliamo questi vettori (uno per ogni passo di generazione) lungo una nuova dimensione. Il risultato è un tensore di forma [numero_totale_token_generati, encoder_seq_len]. Questa matrice mostra come l'attenzione verso i token di input dell'encoder è cambiata man mano che venivano generati i token di output.\n",
        "# .detach().numpy(): Convertiamo il tensore risultante in un array NumPy per poterlo visualizzare con matplotlib.pyplot.imshow(). .detach() e .numpy() hanno lo stesso scopo spiegato in precedenza: ottenere i valori numerici senza legami con il grafo di backpropagation.\n",
        "\n",
        "input_tokens = tokenizer.tokenize(input_sentence) + [ \"</s>\" ]\n",
        "output_tokens = tokenizer.tokenize(tokenizer.decode(output.logits[0].argmax(axis=1)))\n",
        "ax.set_xticks(range(len(input_tokens)), input_tokens, rotation=90)\n",
        "ax.set_yticks(range(len(output_tokens)), output_tokens);"
      ]
    },
    {
      "cell_type": "markdown",
      "metadata": {
        "id": "woRyxrlB9EMk"
      },
      "source": [
        "Indeed, when Hall|o|, is generated, the most attention is paid to the word \"hello\". Then the attention shifts to the rest of the sentence gradually. This shows how the decoder can focus on different parts of the input sequence as it generates different parts of the output sequence!"
      ]
    }
  ],
  "metadata": {
    "kernelspec": {
      "display_name": "Python 3",
      "language": "python",
      "name": "python3"
    },
    "language_info": {
      "codemirror_mode": {
        "name": "ipython",
        "version": 3
      },
      "file_extension": ".py",
      "mimetype": "text/x-python",
      "name": "python",
      "nbconvert_exporter": "python",
      "pygments_lexer": "ipython3",
      "version": "3.10.12"
    },
    "colab": {
      "provenance": []
    }
  },
  "nbformat": 4,
  "nbformat_minor": 0
}