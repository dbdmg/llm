{
 "cells": [
  {
   "cell_type": "markdown",
   "metadata": {},
   "source": [
    "## Tokenization\n"
   ]
  },
  {
   "cell_type": "markdown",
   "metadata": {},
   "source": [
    "For transformers, a fundamental step is to convert the input text into a sequence of tokens. Tokenizers are used for this purpose. Different tokenization techniques can be used (e.g., Byte-Pair Encoding). \n",
    "\n",
    "These tokenizers need to be trained on some corpus (e.g., to figure out what the most common words are). However, the Hugging Face library provides pre-trained tokenizers that can be used out of the box.\n",
    "\n",
    "Generally, each model has its own tokenizer. For example, the `BertTokenizer` is used for BERT models, and the `GPT2Tokenizer` is used for GPT-2 models. \n",
    "\n",
    "\n",
    "Since we will be using T5 for this exercise, we should be using the `T5Tokenizer` class. However, HuggingFace provides a common `AutoTokenizer` class that can be used to load the appropriate tokenizer for a given model  (do note, however, that the returned class will be the \"correct\" one!)."
   ]
  },
  {
   "cell_type": "code",
   "execution_count": 2,
   "metadata": {},
   "outputs": [
    {
     "name": "stdout",
     "output_type": "stream",
     "text": [
      "<class 'transformers.models.t5.tokenization_t5_fast.T5TokenizerFast'>\n"
     ]
    }
   ],
   "source": [
    "from transformers import AutoTokenizer\n",
    "\n",
    "model_name = \"google-t5/t5-base\"\n",
    "model_name = \"t5-small\"\n",
    "\n",
    "tokenizer = AutoTokenizer.from_pretrained(model_name)\n",
    "print(type(tokenizer))\n",
    "\n",
    "from transformers import AutoModelForSeq2SeqLM\n",
    "\n",
    "model = AutoModelForSeq2SeqLM.from_pretrained(model_name)"
   ]
  },
  {
   "cell_type": "code",
   "execution_count": 3,
   "metadata": {},
   "outputs": [
    {
     "data": {
      "text/plain": [
       "T5ForConditionalGeneration(\n",
       "  (shared): Embedding(32128, 512)\n",
       "  (encoder): T5Stack(\n",
       "    (embed_tokens): Embedding(32128, 512)\n",
       "    (block): ModuleList(\n",
       "      (0): T5Block(\n",
       "        (layer): ModuleList(\n",
       "          (0): T5LayerSelfAttention(\n",
       "            (SelfAttention): T5Attention(\n",
       "              (q): Linear(in_features=512, out_features=512, bias=False)\n",
       "              (k): Linear(in_features=512, out_features=512, bias=False)\n",
       "              (v): Linear(in_features=512, out_features=512, bias=False)\n",
       "              (o): Linear(in_features=512, out_features=512, bias=False)\n",
       "              (relative_attention_bias): Embedding(32, 8)\n",
       "            )\n",
       "            (layer_norm): T5LayerNorm()\n",
       "            (dropout): Dropout(p=0.1, inplace=False)\n",
       "          )\n",
       "          (1): T5LayerFF(\n",
       "            (DenseReluDense): T5DenseActDense(\n",
       "              (wi): Linear(in_features=512, out_features=2048, bias=False)\n",
       "              (wo): Linear(in_features=2048, out_features=512, bias=False)\n",
       "              (dropout): Dropout(p=0.1, inplace=False)\n",
       "              (act): ReLU()\n",
       "            )\n",
       "            (layer_norm): T5LayerNorm()\n",
       "            (dropout): Dropout(p=0.1, inplace=False)\n",
       "          )\n",
       "        )\n",
       "      )\n",
       "      (1-5): 5 x T5Block(\n",
       "        (layer): ModuleList(\n",
       "          (0): T5LayerSelfAttention(\n",
       "            (SelfAttention): T5Attention(\n",
       "              (q): Linear(in_features=512, out_features=512, bias=False)\n",
       "              (k): Linear(in_features=512, out_features=512, bias=False)\n",
       "              (v): Linear(in_features=512, out_features=512, bias=False)\n",
       "              (o): Linear(in_features=512, out_features=512, bias=False)\n",
       "            )\n",
       "            (layer_norm): T5LayerNorm()\n",
       "            (dropout): Dropout(p=0.1, inplace=False)\n",
       "          )\n",
       "          (1): T5LayerFF(\n",
       "            (DenseReluDense): T5DenseActDense(\n",
       "              (wi): Linear(in_features=512, out_features=2048, bias=False)\n",
       "              (wo): Linear(in_features=2048, out_features=512, bias=False)\n",
       "              (dropout): Dropout(p=0.1, inplace=False)\n",
       "              (act): ReLU()\n",
       "            )\n",
       "            (layer_norm): T5LayerNorm()\n",
       "            (dropout): Dropout(p=0.1, inplace=False)\n",
       "          )\n",
       "        )\n",
       "      )\n",
       "    )\n",
       "    (final_layer_norm): T5LayerNorm()\n",
       "    (dropout): Dropout(p=0.1, inplace=False)\n",
       "  )\n",
       "  (decoder): T5Stack(\n",
       "    (embed_tokens): Embedding(32128, 512)\n",
       "    (block): ModuleList(\n",
       "      (0): T5Block(\n",
       "        (layer): ModuleList(\n",
       "          (0): T5LayerSelfAttention(\n",
       "            (SelfAttention): T5Attention(\n",
       "              (q): Linear(in_features=512, out_features=512, bias=False)\n",
       "              (k): Linear(in_features=512, out_features=512, bias=False)\n",
       "              (v): Linear(in_features=512, out_features=512, bias=False)\n",
       "              (o): Linear(in_features=512, out_features=512, bias=False)\n",
       "              (relative_attention_bias): Embedding(32, 8)\n",
       "            )\n",
       "            (layer_norm): T5LayerNorm()\n",
       "            (dropout): Dropout(p=0.1, inplace=False)\n",
       "          )\n",
       "          (1): T5LayerCrossAttention(\n",
       "            (EncDecAttention): T5Attention(\n",
       "              (q): Linear(in_features=512, out_features=512, bias=False)\n",
       "              (k): Linear(in_features=512, out_features=512, bias=False)\n",
       "              (v): Linear(in_features=512, out_features=512, bias=False)\n",
       "              (o): Linear(in_features=512, out_features=512, bias=False)\n",
       "            )\n",
       "            (layer_norm): T5LayerNorm()\n",
       "            (dropout): Dropout(p=0.1, inplace=False)\n",
       "          )\n",
       "          (2): T5LayerFF(\n",
       "            (DenseReluDense): T5DenseActDense(\n",
       "              (wi): Linear(in_features=512, out_features=2048, bias=False)\n",
       "              (wo): Linear(in_features=2048, out_features=512, bias=False)\n",
       "              (dropout): Dropout(p=0.1, inplace=False)\n",
       "              (act): ReLU()\n",
       "            )\n",
       "            (layer_norm): T5LayerNorm()\n",
       "            (dropout): Dropout(p=0.1, inplace=False)\n",
       "          )\n",
       "        )\n",
       "      )\n",
       "      (1-5): 5 x T5Block(\n",
       "        (layer): ModuleList(\n",
       "          (0): T5LayerSelfAttention(\n",
       "            (SelfAttention): T5Attention(\n",
       "              (q): Linear(in_features=512, out_features=512, bias=False)\n",
       "              (k): Linear(in_features=512, out_features=512, bias=False)\n",
       "              (v): Linear(in_features=512, out_features=512, bias=False)\n",
       "              (o): Linear(in_features=512, out_features=512, bias=False)\n",
       "            )\n",
       "            (layer_norm): T5LayerNorm()\n",
       "            (dropout): Dropout(p=0.1, inplace=False)\n",
       "          )\n",
       "          (1): T5LayerCrossAttention(\n",
       "            (EncDecAttention): T5Attention(\n",
       "              (q): Linear(in_features=512, out_features=512, bias=False)\n",
       "              (k): Linear(in_features=512, out_features=512, bias=False)\n",
       "              (v): Linear(in_features=512, out_features=512, bias=False)\n",
       "              (o): Linear(in_features=512, out_features=512, bias=False)\n",
       "            )\n",
       "            (layer_norm): T5LayerNorm()\n",
       "            (dropout): Dropout(p=0.1, inplace=False)\n",
       "          )\n",
       "          (2): T5LayerFF(\n",
       "            (DenseReluDense): T5DenseActDense(\n",
       "              (wi): Linear(in_features=512, out_features=2048, bias=False)\n",
       "              (wo): Linear(in_features=2048, out_features=512, bias=False)\n",
       "              (dropout): Dropout(p=0.1, inplace=False)\n",
       "              (act): ReLU()\n",
       "            )\n",
       "            (layer_norm): T5LayerNorm()\n",
       "            (dropout): Dropout(p=0.1, inplace=False)\n",
       "          )\n",
       "        )\n",
       "      )\n",
       "    )\n",
       "    (final_layer_norm): T5LayerNorm()\n",
       "    (dropout): Dropout(p=0.1, inplace=False)\n",
       "  )\n",
       "  (lm_head): Linear(in_features=512, out_features=32128, bias=False)\n",
       ")"
      ]
     },
     "execution_count": 3,
     "metadata": {},
     "output_type": "execute_result"
    }
   ],
   "source": [
    "model"
   ]
  },
  {
   "cell_type": "markdown",
   "metadata": {},
   "source": [
    "### Encoding/Decoding"
   ]
  },
  {
   "cell_type": "markdown",
   "metadata": {},
   "source": [
    "Tokenization can be carried out by passing a string that we want to tokenize. The tokenizer implements the `__call__` method, so we can call the tokenizer directly, as follows.\n",
    "\n",
    "Note that the output is a dictionary, which generally has the following keys:\n",
    "\n",
    "- `input_ids`: The tokenized input text (a list of token IDs by default). \n",
    "- `attention_mask`: A mask that indicates which elements in the input text are tokens and which are padding tokens. For now, we can ignore this (there is no padding). It will instead become useful when we encode batches of sentences of different lengths at the same time."
   ]
  },
  {
   "cell_type": "code",
   "execution_count": 2,
   "metadata": {},
   "outputs": [
    {
     "name": "stdout",
     "output_type": "stream",
     "text": [
      "{'input_ids': [21820, 6, 48, 19, 3, 9, 7142, 55, 1], 'attention_mask': [1, 1, 1, 1, 1, 1, 1, 1, 1]}\n"
     ]
    }
   ],
   "source": [
    "sentence = \"hello, this is a sentence!\"\n",
    "tokens = tokenizer(sentence)\n",
    "print(tokens)"
   ]
  },
  {
   "cell_type": "markdown",
   "metadata": {},
   "source": [
    "We can reverse the encoding operation (i.e., going from token IDs to strings) by using the `decode` method of the tokenizer."
   ]
  },
  {
   "cell_type": "code",
   "execution_count": 3,
   "metadata": {},
   "outputs": [
    {
     "data": {
      "text/plain": [
       "'hello, this is a sentence!</s>'"
      ]
     },
     "execution_count": 3,
     "metadata": {},
     "output_type": "execute_result"
    }
   ],
   "source": [
    "tokenizer.decode(tokens[\"input_ids\"])"
   ]
  },
  {
   "cell_type": "markdown",
   "metadata": {},
   "source": [
    "Note that we have an extra part at the end of the string, which is the special token `</s>`. This token is used to indicate the end of the input text (EOS). This token is automatically added by the tokenizer when encoding the input text."
   ]
  },
  {
   "cell_type": "markdown",
   "metadata": {},
   "source": [
    "To learn what the mapping between tokens and token IDs is, we can get the tokenizer's vocabulary (`.get_vocab()`), which provides the mapping between tokens and respective IDs. \n",
    "\n",
    "For convenience, we build also a reverse vocabulary (i.e., from IDs to tokens). "
   ]
  },
  {
   "cell_type": "code",
   "execution_count": 4,
   "metadata": {},
   "outputs": [
    {
     "data": {
      "text/plain": [
       "{'111': 15866,\n",
       " '▁bénéfici': 15972,\n",
       " '▁bin': 2701,\n",
       " 'kot': 15414,\n",
       " 'let': 1655,\n",
       " '▁Ausgangs': 29251,\n",
       " 'HAR': 25430,\n",
       " 'RM': 7336,\n",
       " '▁professor': 5812,\n",
       " '▁Expect': 19539}"
      ]
     },
     "execution_count": 4,
     "metadata": {},
     "output_type": "execute_result"
    }
   ],
   "source": [
    "import random \n",
    "\n",
    "vocabulary = tokenizer.get_vocab()\n",
    "reverse_vocab = { v: k for k, v in vocabulary.items() }\n",
    "\n",
    "vocab_keys = list(vocabulary.keys())\n",
    "\n",
    "\n",
    "random.shuffle(vocab_keys)\n",
    "\n",
    "# Show 10 random words from the vocabulary\n",
    "{ k: vocabulary[k] for k in vocab_keys[:10] }"
   ]
  },
  {
   "cell_type": "code",
   "execution_count": 5,
   "metadata": {},
   "outputs": [
    {
     "name": "stdout",
     "output_type": "stream",
     "text": [
      "Total vocabulary size: 32100\n"
     ]
    }
   ],
   "source": [
    "print(\"Total vocabulary size:\", len(vocabulary))"
   ]
  },
  {
   "cell_type": "markdown",
   "metadata": {},
   "source": [
    "We have a total of 32100. For T5, that's 32000 tokens + 100 special tokens (<extra_id_0>, <extra_id_1>, ..., <extra_id_99>) -- used for the tasks that T5 was trained on."
   ]
  },
  {
   "cell_type": "markdown",
   "metadata": {},
   "source": [
    "Let's see what the token id for the special token `</s>` is."
   ]
  },
  {
   "cell_type": "code",
   "execution_count": 6,
   "metadata": {},
   "outputs": [
    {
     "data": {
      "text/plain": [
       "1"
      ]
     },
     "execution_count": 6,
     "metadata": {},
     "output_type": "execute_result"
    }
   ],
   "source": [
    "vocabulary[\"</s>\"]"
   ]
  },
  {
   "cell_type": "markdown",
   "metadata": {},
   "source": [
    "And indeed, note that our `tokens` has a 1 showing up at the end!"
   ]
  },
  {
   "cell_type": "code",
   "execution_count": 7,
   "metadata": {},
   "outputs": [
    {
     "data": {
      "text/plain": [
       "[21820, 6, 48, 19, 3, 9, 7142, 55, 1]"
      ]
     },
     "execution_count": 7,
     "metadata": {},
     "output_type": "execute_result"
    }
   ],
   "source": [
    "tokens[\"input_ids\"]"
   ]
  },
  {
   "cell_type": "markdown",
   "metadata": {},
   "source": [
    "We can include special tokens inside of the strings themselves. For instance:"
   ]
  },
  {
   "cell_type": "code",
   "execution_count": 8,
   "metadata": {},
   "outputs": [
    {
     "data": {
      "text/plain": [
       "{'input_ids': [21820, 55, 1, 1, 1], 'attention_mask': [1, 1, 1, 1, 1]}"
      ]
     },
     "execution_count": 8,
     "metadata": {},
     "output_type": "execute_result"
    }
   ],
   "source": [
    "tokenizer(\"hello!</s></s>\")"
   ]
  },
  {
   "cell_type": "markdown",
   "metadata": {},
   "source": [
    "Here, we have 2 `</s>` tokens (the ones we specified), plus an additional one that was added by the tokenizer."
   ]
  },
  {
   "cell_type": "markdown",
   "metadata": {},
   "source": [
    "Instead of getting token IDs directly, we may look at the tokens being produced, directly. We use the `tokenize()` method in this case. "
   ]
  },
  {
   "cell_type": "code",
   "execution_count": 9,
   "metadata": {},
   "outputs": [
    {
     "data": {
      "text/plain": [
       "['▁hello', ',', '▁this', '▁is', '▁', 'a', '▁sentence', '!']"
      ]
     },
     "execution_count": 9,
     "metadata": {},
     "output_type": "execute_result"
    }
   ],
   "source": [
    "tokenizer.tokenize(sentence)"
   ]
  },
  {
   "cell_type": "markdown",
   "metadata": {},
   "source": [
    "What's up with those `_`? They simply represent words that are starting after spaces. This helps us understand whether a token is being used at the beginning of a sentence, or if it's in the middle of a word."
   ]
  },
  {
   "cell_type": "code",
   "execution_count": 10,
   "metadata": {},
   "outputs": [
    {
     "name": "stdout",
     "output_type": "stream",
     "text": [
      "['▁hello', '▁', ',', 'world']\n",
      "['▁hello', '▁', ',', '▁world']\n"
     ]
    }
   ],
   "source": [
    "print(tokenizer.tokenize(\"hello    ,world\"))\n",
    "print(tokenizer.tokenize(\"hello    , world\"))"
   ]
  },
  {
   "cell_type": "markdown",
   "metadata": {},
   "source": [
    "In the above case, `_hello` is the token for the word \"hello\" at the beginning of the sentence. However, the word \"world\" is mapped to two different tokens, depending on whether there is a space before the word or not. \n",
    "\n",
    "Notice also how multiple spaces are compacted into a single one!\n",
    "\n",
    "These are all tokenizer-specific details. The tokenizer is responsible for deciding how to tokenize the input text. You may observe different behaviors for different tokenizers."
   ]
  },
  {
   "cell_type": "markdown",
   "metadata": {},
   "source": [
    "### Special tokens\n",
    "\n",
    "Each model typically has its own special tokens. Some are necessary for the training process, while others can be beneficial at inference time.\n",
    "\n",
    "Special attributes are available in the tokenizer class to access these special tokens. Some examples are:\n",
    "\n",
    "- `pad_token` is the token used for padding (as discussed later),\n",
    "- `bos_token` and `eos_token` tokens are used to indicate the beginning and end of the input text, respectively,\n",
    "- `mask_token` is used for masking tokens during training (e.g., for the masked LM task, with BERT),\n",
    "- `sep_token` is used to separate sentences in the input text (e.g., next sentence prediction, with BERT),\n",
    "- `cls_token` is used to indicate the beginning of the input text (e.g., for classification tasks, with BERT),\n",
    "- `unk_token` is used to indicate unknown tokens (i.e., tokens that are not in the vocabulary).\n",
    "\n",
    "Of course, not all tokenizers will use all tokens. So those attributes will be set to None, if not used.\n",
    "\n",
    "For instance, T5 has EOS and PAD tokens, but no BOS token."
   ]
  },
  {
   "cell_type": "code",
   "execution_count": 11,
   "metadata": {},
   "outputs": [
    {
     "data": {
      "text/plain": [
       "('</s>', '<pad>', None)"
      ]
     },
     "execution_count": 11,
     "metadata": {},
     "output_type": "execute_result"
    }
   ],
   "source": [
    "tokenizer.eos_token, tokenizer.pad_token, tokenizer.bos_token"
   ]
  },
  {
   "cell_type": "markdown",
   "metadata": {},
   "source": [
    "The `_id` suffix is used to indicate the corresponding token ID (None if not applicable)."
   ]
  },
  {
   "cell_type": "code",
   "execution_count": 12,
   "metadata": {},
   "outputs": [
    {
     "data": {
      "text/plain": [
       "(1, 0, None)"
      ]
     },
     "execution_count": 12,
     "metadata": {},
     "output_type": "execute_result"
    }
   ],
   "source": [
    "tokenizer.eos_token_id, tokenizer.pad_token_id, tokenizer.bos_token_id"
   ]
  },
  {
   "cell_type": "markdown",
   "metadata": {},
   "source": [
    "### Batch encoding/decoding\n",
    "\n",
    "In general (especially at training time) we will want to encode multiple sentences at once (e.g., an entire batch of sentences).\n",
    "\n",
    "We can pass a list of sentences to be encoded to the tokenizer. "
   ]
  },
  {
   "cell_type": "code",
   "execution_count": 13,
   "metadata": {},
   "outputs": [
    {
     "name": "stdout",
     "output_type": "stream",
     "text": [
      "[48, 19, 8, 166, 7142, 1]\n",
      "[1446, 6, 48, 19, 8, 511, 5932, 55, 1]\n"
     ]
    }
   ],
   "source": [
    "sentences = [\n",
    "    \"this is the first sentence\",\n",
    "    \"instead, this is the second sequence!\"\n",
    "]\n",
    "tokens = tokenizer(sentences)\n",
    "\n",
    "for tok in tokens[\"input_ids\"]:\n",
    "    print(tok)"
   ]
  },
  {
   "cell_type": "markdown",
   "metadata": {},
   "source": [
    "Of course, sentences of different lengths have a different number of tokens! However, tensors (that will be used by the model) need to have the same number of elements along each dimension. \n",
    "\n",
    "To do this, we can use padding: all sentences will be padded to the length of the longest sentence in the batch. This is done by adding `pad` tokens (`<pad>`, for T5). \n",
    "\n",
    "However, since the pad tokens are not part of the input text, we need to let the model know that it should not pay attention to them. That's what the `attention_mask` is for! "
   ]
  },
  {
   "cell_type": "code",
   "execution_count": 14,
   "metadata": {},
   "outputs": [
    {
     "name": "stdout",
     "output_type": "stream",
     "text": [
      "[48, 19, 8, 166, 7142, 1, 0, 0, 0] [1, 1, 1, 1, 1, 1, 0, 0, 0]\n",
      "[1446, 6, 48, 19, 8, 511, 5932, 55, 1] [1, 1, 1, 1, 1, 1, 1, 1, 1]\n"
     ]
    }
   ],
   "source": [
    "tokens = tokenizer(sentences, padding=True)\n",
    "\n",
    "for tok, att in zip(tokens[\"input_ids\"], tokens[\"attention_mask\"]):\n",
    "    print(tok, att)"
   ]
  },
  {
   "cell_type": "markdown",
   "metadata": {},
   "source": [
    "The first sentence is padded to the same length as the second sentence, with 0's (remember, the ID for `<pad>`!). \n",
    "\n",
    "The attention mask for the first sentence also contains 0's for the padding tokens: the model will ignore them when processing the input text.\n",
    "\n",
    "Since now all sentences have the same length, we can stack them into a single tensor. Luckily, the tokenizer can already do this for us, we just need to ask. \n"
   ]
  },
  {
   "cell_type": "code",
   "execution_count": 15,
   "metadata": {},
   "outputs": [
    {
     "name": "stdout",
     "output_type": "stream",
     "text": [
      "tensor([[  48,   19,    8,  166, 7142,    1,    0,    0,    0],\n",
      "        [1446,    6,   48,   19,    8,  511, 5932,   55,    1]])\n",
      "tensor([[1, 1, 1, 1, 1, 1, 0, 0, 0],\n",
      "        [1, 1, 1, 1, 1, 1, 1, 1, 1]])\n",
      "torch.Size([2, 9])\n"
     ]
    }
   ],
   "source": [
    "# note: we pass return_tensors=\"pt\" to get PyTorch tensors\n",
    "# (the library also supports TensorFlow tensors, but we\n",
    "# don't care about them!)\n",
    "tokens = tokenizer(sentences, padding=True, return_tensors=\"pt\")\n",
    "print(tokens[\"input_ids\"])\n",
    "print(tokens[\"attention_mask\"])\n",
    "print(tokens[\"input_ids\"].shape)"
   ]
  },
  {
   "cell_type": "markdown",
   "metadata": {},
   "source": [
    "For completeness, we can also decode batches of sentences, with `tokenizer.batch_decode()`."
   ]
  },
  {
   "cell_type": "code",
   "execution_count": 16,
   "metadata": {},
   "outputs": [
    {
     "data": {
      "text/plain": [
       "['this is the first sentence</s><pad><pad><pad>',\n",
       " 'instead, this is the second sequence!</s>']"
      ]
     },
     "execution_count": 16,
     "metadata": {},
     "output_type": "execute_result"
    }
   ],
   "source": [
    "tokenizer.batch_decode(tokens[\"input_ids\"])"
   ]
  },
  {
   "cell_type": "markdown",
   "metadata": {},
   "source": [
    "## Model analysis"
   ]
  },
  {
   "cell_type": "markdown",
   "metadata": {},
   "source": [
    "Now we can go ahead and finally load our T5 model. We once again use a pretrained version available on HuggingFace. \n",
    "\n",
    "In general, we could use the `AutoModel` class for the loading, of the model. However, that version of the model does not include the specific heads for the tasks that T5 was trained on.\n",
    "\n",
    "The transformers library can make our life easier by defining a family of `AutoModel...` classes. \n",
    "\n",
    "For instance, the following are some commonly adopted classes:\n",
    "- `AutoModel`: the base class for all models,\n",
    "- `AutoModelForSequenceClassification`: a model for sequence classification tasks. It consists of a base model plus a classification head (linear layer + softmax). Note that, generally, the classification head is initialized randomly, and it needs to be trained on the specific task (but the library will let you know with a warning),\n",
    "- `AutoModelForCaualLM`: a model for causal language modeling tasks (e.g., GPT-2), where we generate the output tokens one by one,\n",
    "- `AutoModelForMaskedLM`: a model for masked language modeling tasks (e.g., BERT), where we predict the masked tokens in the input text,\n",
    "- `AutoModelForTokenClassification`: a model for token classification tasks (e.g., NER), where we classify each token in the input text.\n",
    "- `AutoModelForSeq2SeqLM`: a model for sequence-to-sequence tasks (e.g., T5), where we generate the output tokens one by one in an autoregressive manner, conditioned on the input sequence.\n",
    "\n",
    "In our specific case, we will use the `AutoModelForSeq2SeqLM` class to be able to generate new tokens. "
   ]
  },
  {
   "cell_type": "code",
   "execution_count": 17,
   "metadata": {},
   "outputs": [
    {
     "name": "stdout",
     "output_type": "stream",
     "text": [
      "<class 'transformers.models.t5.modeling_t5.T5ForConditionalGeneration'>\n"
     ]
    }
   ],
   "source": [
    "from transformers import AutoModelForSeq2SeqLM\n",
    "\n",
    "model = AutoModelForSeq2SeqLM.from_pretrained(model_name)\n",
    "print(type(model))"
   ]
  },
  {
   "cell_type": "markdown",
   "metadata": {},
   "source": [
    "To better understand the model, we can take a look at the model's configuration. The configuration contains all the hyperparameters of the model. The configuration is available as a dictionary, and we can access the values by using the attribute notation.\n",
    "\n",
    "You can find the model's configuration object in the `config` attribute of the model. Or, if you only need the configuration, you can directly load it using the `AutoConfig` class.\n",
    "\n",
    "```python\n",
    "from transformers import AutoConfig\n",
    "\n",
    "config = AutoConfig.from_pretrained(model_name)\n",
    "```"
   ]
  },
  {
   "cell_type": "code",
   "execution_count": 18,
   "metadata": {},
   "outputs": [
    {
     "data": {
      "text/plain": [
       "T5Config {\n",
       "  \"_name_or_path\": \"google-t5/t5-base\",\n",
       "  \"architectures\": [\n",
       "    \"T5ForConditionalGeneration\"\n",
       "  ],\n",
       "  \"classifier_dropout\": 0.0,\n",
       "  \"d_ff\": 3072,\n",
       "  \"d_kv\": 64,\n",
       "  \"d_model\": 768,\n",
       "  \"decoder_start_token_id\": 0,\n",
       "  \"dense_act_fn\": \"relu\",\n",
       "  \"dropout_rate\": 0.1,\n",
       "  \"eos_token_id\": 1,\n",
       "  \"feed_forward_proj\": \"relu\",\n",
       "  \"initializer_factor\": 1.0,\n",
       "  \"is_encoder_decoder\": true,\n",
       "  \"is_gated_act\": false,\n",
       "  \"layer_norm_epsilon\": 1e-06,\n",
       "  \"model_type\": \"t5\",\n",
       "  \"n_positions\": 512,\n",
       "  \"num_decoder_layers\": 12,\n",
       "  \"num_heads\": 12,\n",
       "  \"num_layers\": 12,\n",
       "  \"output_past\": true,\n",
       "  \"pad_token_id\": 0,\n",
       "  \"relative_attention_max_distance\": 128,\n",
       "  \"relative_attention_num_buckets\": 32,\n",
       "  \"task_specific_params\": {\n",
       "    \"summarization\": {\n",
       "      \"early_stopping\": true,\n",
       "      \"length_penalty\": 2.0,\n",
       "      \"max_length\": 200,\n",
       "      \"min_length\": 30,\n",
       "      \"no_repeat_ngram_size\": 3,\n",
       "      \"num_beams\": 4,\n",
       "      \"prefix\": \"summarize: \"\n",
       "    },\n",
       "    \"translation_en_to_de\": {\n",
       "      \"early_stopping\": true,\n",
       "      \"max_length\": 300,\n",
       "      \"num_beams\": 4,\n",
       "      \"prefix\": \"translate English to German: \"\n",
       "    },\n",
       "    \"translation_en_to_fr\": {\n",
       "      \"early_stopping\": true,\n",
       "      \"max_length\": 300,\n",
       "      \"num_beams\": 4,\n",
       "      \"prefix\": \"translate English to French: \"\n",
       "    },\n",
       "    \"translation_en_to_ro\": {\n",
       "      \"early_stopping\": true,\n",
       "      \"max_length\": 300,\n",
       "      \"num_beams\": 4,\n",
       "      \"prefix\": \"translate English to Romanian: \"\n",
       "    }\n",
       "  },\n",
       "  \"transformers_version\": \"4.45.2\",\n",
       "  \"use_cache\": true,\n",
       "  \"vocab_size\": 32128\n",
       "}"
      ]
     },
     "execution_count": 18,
     "metadata": {},
     "output_type": "execute_result"
    }
   ],
   "source": [
    "model.config"
   ]
  },
  {
   "cell_type": "markdown",
   "metadata": {},
   "source": [
    "Lots of information going on here. We can just take a few key aspects:\n",
    "\n",
    "- `d_kv` = 64. This is the dimension of keys $d_k$ (so also queries) and values $d_v$ in the attention mechanism. It is common, to keep things simple, to use the same number of dimensions for keys, queries, and values (even though this is not strictly necessary). \n",
    "- `d_model` = 768. This is the dimension of the output of each transformer block.\n",
    "- `d_ff` = 3072. This is the dimension of the feedforward network in each transformer block. We will see that the feedforward network is composed of two linear layers with a ReLU activation in between (`d_model -> d_ff -> d_model`).\n",
    "- `num_layers` = 12. This is the number of transformer blocks in the model (both encoder and decoder).\n",
    "- `num_heads` = 12. This is the number of attention heads in the multi-head attention mechanism. Each head will produce a different representation of the input text, and the results will be concatenated together. Remember that the output of each attention head is concatenated. We have 12 heads, each producing a 64-dimensional output, so the final output will be 12 * 64 = 768-dimensional."
   ]
  },
  {
   "cell_type": "markdown",
   "metadata": {},
   "source": [
    "We can now inspect the model to better understand its architecture."
   ]
  },
  {
   "cell_type": "code",
   "execution_count": 19,
   "metadata": {},
   "outputs": [
    {
     "data": {
      "text/plain": [
       "T5Stack(\n",
       "  (embed_tokens): Embedding(32128, 768)\n",
       "  (block): ModuleList(\n",
       "    (0): T5Block(\n",
       "      (layer): ModuleList(\n",
       "        (0): T5LayerSelfAttention(\n",
       "          (SelfAttention): T5Attention(\n",
       "            (q): Linear(in_features=768, out_features=768, bias=False)\n",
       "            (k): Linear(in_features=768, out_features=768, bias=False)\n",
       "            (v): Linear(in_features=768, out_features=768, bias=False)\n",
       "            (o): Linear(in_features=768, out_features=768, bias=False)\n",
       "            (relative_attention_bias): Embedding(32, 12)\n",
       "          )\n",
       "          (layer_norm): T5LayerNorm()\n",
       "          (dropout): Dropout(p=0.1, inplace=False)\n",
       "        )\n",
       "        (1): T5LayerFF(\n",
       "          (DenseReluDense): T5DenseActDense(\n",
       "            (wi): Linear(in_features=768, out_features=3072, bias=False)\n",
       "            (wo): Linear(in_features=3072, out_features=768, bias=False)\n",
       "            (dropout): Dropout(p=0.1, inplace=False)\n",
       "            (act): ReLU()\n",
       "          )\n",
       "          (layer_norm): T5LayerNorm()\n",
       "          (dropout): Dropout(p=0.1, inplace=False)\n",
       "        )\n",
       "      )\n",
       "    )\n",
       "    (1-11): 11 x T5Block(\n",
       "      (layer): ModuleList(\n",
       "        (0): T5LayerSelfAttention(\n",
       "          (SelfAttention): T5Attention(\n",
       "            (q): Linear(in_features=768, out_features=768, bias=False)\n",
       "            (k): Linear(in_features=768, out_features=768, bias=False)\n",
       "            (v): Linear(in_features=768, out_features=768, bias=False)\n",
       "            (o): Linear(in_features=768, out_features=768, bias=False)\n",
       "          )\n",
       "          (layer_norm): T5LayerNorm()\n",
       "          (dropout): Dropout(p=0.1, inplace=False)\n",
       "        )\n",
       "        (1): T5LayerFF(\n",
       "          (DenseReluDense): T5DenseActDense(\n",
       "            (wi): Linear(in_features=768, out_features=3072, bias=False)\n",
       "            (wo): Linear(in_features=3072, out_features=768, bias=False)\n",
       "            (dropout): Dropout(p=0.1, inplace=False)\n",
       "            (act): ReLU()\n",
       "          )\n",
       "          (layer_norm): T5LayerNorm()\n",
       "          (dropout): Dropout(p=0.1, inplace=False)\n",
       "        )\n",
       "      )\n",
       "    )\n",
       "  )\n",
       "  (final_layer_norm): T5LayerNorm()\n",
       "  (dropout): Dropout(p=0.1, inplace=False)\n",
       ")"
      ]
     },
     "execution_count": 19,
     "metadata": {},
     "output_type": "execute_result"
    }
   ],
   "source": [
    "model.encoder"
   ]
  },
  {
   "cell_type": "markdown",
   "metadata": {},
   "source": [
    "We see that the model has a `shared` Embedding layer, an `encoder` and a `decoder`, and a final `lm_head`.\n",
    "\n",
    "We can look into the token embedding first.\n"
   ]
  },
  {
   "cell_type": "markdown",
   "metadata": {},
   "source": [
    "### Tokens embedding\n"
   ]
  },
  {
   "cell_type": "code",
   "execution_count": 20,
   "metadata": {},
   "outputs": [
    {
     "data": {
      "text/plain": [
       "Embedding(32128, 768)"
      ]
     },
     "execution_count": 20,
     "metadata": {},
     "output_type": "execute_result"
    }
   ],
   "source": [
    "model.shared"
   ]
  },
  {
   "cell_type": "markdown",
   "metadata": {},
   "source": [
    "First, we can verify that this `shared` embedding layer, as the name suggests, is shared between the encoder and the decoder.\n",
    "\n",
    "We do so by checking the id of the embedding layer with the embedding layers found in the encoder and decoder (`model.encoder.embed_tokens` and `model.decoder.embed_tokens`)."
   ]
  },
  {
   "cell_type": "code",
   "execution_count": 21,
   "metadata": {},
   "outputs": [
    {
     "data": {
      "text/plain": [
       "True"
      ]
     },
     "execution_count": 21,
     "metadata": {},
     "output_type": "execute_result"
    }
   ],
   "source": [
    "id(model.shared) == id(model.encoder.embed_tokens) and id(model.shared) == id(model.decoder.embed_tokens)"
   ]
  },
  {
   "cell_type": "markdown",
   "metadata": {},
   "source": [
    "Next, we note that the embedding layer has 32128 tokens. \n",
    "\n",
    "This is not exactly the number of tokens we saw before (32100). The extra 28 tokens are \"leftovers\". 32128 = 251 * 128 is a more \"GPU friendly\" number, and it's used to speed up the computation (same reason why we often see batch sizes that are powers of 2)."
   ]
  },
  {
   "cell_type": "code",
   "execution_count": 22,
   "metadata": {},
   "outputs": [],
   "source": [
    "words = [\n",
    "    \"chair\",\n",
    "    \"table\",\n",
    "    \"plate\",\n",
    "    \"knife\",\n",
    "    \"spoon\",\n",
    "    \"horse\",\n",
    "    \"goat\",\n",
    "    \"sheep\",\n",
    "    \"cat\",\n",
    "    \"dog\",\n",
    "]"
   ]
  },
  {
   "cell_type": "code",
   "execution_count": 23,
   "metadata": {},
   "outputs": [
    {
     "name": "stdout",
     "output_type": "stream",
     "text": [
      "tensor([ 3533,   953,  3829, 10821, 14987,  4952, 18174, 15184,  1712,  1782])\n",
      "(10, 768)\n"
     ]
    }
   ],
   "source": [
    "word_tokens = tokenizer(words, return_tensors=\"pt\", padding=True)[\"input_ids\"][:, 0]\n",
    "print(word_tokens)\n",
    "token_embeddings = model.shared(word_tokens).cpu().detach().numpy()\n",
    "print(token_embeddings.shape)"
   ]
  },
  {
   "cell_type": "code",
   "execution_count": 24,
   "metadata": {},
   "outputs": [
    {
     "data": {
      "image/png": "[encoded data removed]",
      "text/plain": [
       "<Figure size 500x500 with 1 Axes>"
      ]
     },
     "metadata": {},
     "output_type": "display_data"
    }
   ],
   "source": [
    "from sklearn.decomposition import PCA\n",
    "import matplotlib.pyplot as plt\n",
    "\n",
    "pca = PCA(n_components=2)\n",
    "X_pca = pca.fit_transform(token_embeddings)\n",
    "\n",
    "fig, ax = plt.subplots(figsize=(5,5))\n",
    "ax.scatter(X_pca[:, 0], X_pca[:, 1])\n",
    "for i, word in enumerate(words):\n",
    "    ax.text(X_pca[i, 0]+5, X_pca[i, 1]+5, word)"
   ]
  },
  {
   "cell_type": "code",
   "execution_count": 25,
   "metadata": {},
   "outputs": [
    {
     "data": {
      "image/png": "[encoded data removed]",
      "text/plain": [
       "<Figure size 500x500 with 2 Axes>"
      ]
     },
     "metadata": {},
     "output_type": "display_data"
    }
   ],
   "source": [
    "from sklearn.metrics.pairwise import cosine_similarity\n",
    "\n",
    "cosine_similarity(token_embeddings)\n",
    "fig, ax = plt.subplots(figsize=(5,5))\n",
    "cax = ax.imshow(cosine_similarity(token_embeddings), cmap=\"coolwarm\")\n",
    "fig.colorbar(cax)\n",
    "plt.xticks(range(len(words)), words, rotation=90)\n",
    "plt.yticks(range(len(words)), words);"
   ]
  },
  {
   "cell_type": "markdown",
   "metadata": {},
   "source": [
    "### Encoder\n"
   ]
  },
  {
   "cell_type": "markdown",
   "metadata": {},
   "source": [
    "The model's encoder contains various transformer layers (each one attention, feed-forward, and normalization layers)."
   ]
  },
  {
   "cell_type": "code",
   "execution_count": 26,
   "metadata": {},
   "outputs": [
    {
     "data": {
      "text/plain": [
       "T5Stack(\n",
       "  (embed_tokens): Embedding(32128, 768)\n",
       "  (block): ModuleList(\n",
       "    (0): T5Block(\n",
       "      (layer): ModuleList(\n",
       "        (0): T5LayerSelfAttention(\n",
       "          (SelfAttention): T5Attention(\n",
       "            (q): Linear(in_features=768, out_features=768, bias=False)\n",
       "            (k): Linear(in_features=768, out_features=768, bias=False)\n",
       "            (v): Linear(in_features=768, out_features=768, bias=False)\n",
       "            (o): Linear(in_features=768, out_features=768, bias=False)\n",
       "            (relative_attention_bias): Embedding(32, 12)\n",
       "          )\n",
       "          (layer_norm): T5LayerNorm()\n",
       "          (dropout): Dropout(p=0.1, inplace=False)\n",
       "        )\n",
       "        (1): T5LayerFF(\n",
       "          (DenseReluDense): T5DenseActDense(\n",
       "            (wi): Linear(in_features=768, out_features=3072, bias=False)\n",
       "            (wo): Linear(in_features=3072, out_features=768, bias=False)\n",
       "            (dropout): Dropout(p=0.1, inplace=False)\n",
       "            (act): ReLU()\n",
       "          )\n",
       "          (layer_norm): T5LayerNorm()\n",
       "          (dropout): Dropout(p=0.1, inplace=False)\n",
       "        )\n",
       "      )\n",
       "    )\n",
       "    (1-11): 11 x T5Block(\n",
       "      (layer): ModuleList(\n",
       "        (0): T5LayerSelfAttention(\n",
       "          (SelfAttention): T5Attention(\n",
       "            (q): Linear(in_features=768, out_features=768, bias=False)\n",
       "            (k): Linear(in_features=768, out_features=768, bias=False)\n",
       "            (v): Linear(in_features=768, out_features=768, bias=False)\n",
       "            (o): Linear(in_features=768, out_features=768, bias=False)\n",
       "          )\n",
       "          (layer_norm): T5LayerNorm()\n",
       "          (dropout): Dropout(p=0.1, inplace=False)\n",
       "        )\n",
       "        (1): T5LayerFF(\n",
       "          (DenseReluDense): T5DenseActDense(\n",
       "            (wi): Linear(in_features=768, out_features=3072, bias=False)\n",
       "            (wo): Linear(in_features=3072, out_features=768, bias=False)\n",
       "            (dropout): Dropout(p=0.1, inplace=False)\n",
       "            (act): ReLU()\n",
       "          )\n",
       "          (layer_norm): T5LayerNorm()\n",
       "          (dropout): Dropout(p=0.1, inplace=False)\n",
       "        )\n",
       "      )\n",
       "    )\n",
       "  )\n",
       "  (final_layer_norm): T5LayerNorm()\n",
       "  (dropout): Dropout(p=0.1, inplace=False)\n",
       ")"
      ]
     },
     "execution_count": 26,
     "metadata": {},
     "output_type": "execute_result"
    }
   ],
   "source": [
    "model.encoder"
   ]
  },
  {
   "cell_type": "markdown",
   "metadata": {},
   "source": [
    "The `block` attribute is a list of `T5Block` modules, and contains the actual transformer layers. Indeed, we can check (as previously stated) that we have 12 encoder layers in the encoder. "
   ]
  },
  {
   "cell_type": "code",
   "execution_count": 27,
   "metadata": {},
   "outputs": [
    {
     "data": {
      "text/plain": [
       "T5Block(\n",
       "  (layer): ModuleList(\n",
       "    (0): T5LayerSelfAttention(\n",
       "      (SelfAttention): T5Attention(\n",
       "        (q): Linear(in_features=768, out_features=768, bias=False)\n",
       "        (k): Linear(in_features=768, out_features=768, bias=False)\n",
       "        (v): Linear(in_features=768, out_features=768, bias=False)\n",
       "        (o): Linear(in_features=768, out_features=768, bias=False)\n",
       "        (relative_attention_bias): Embedding(32, 12)\n",
       "      )\n",
       "      (layer_norm): T5LayerNorm()\n",
       "      (dropout): Dropout(p=0.1, inplace=False)\n",
       "    )\n",
       "    (1): T5LayerFF(\n",
       "      (DenseReluDense): T5DenseActDense(\n",
       "        (wi): Linear(in_features=768, out_features=3072, bias=False)\n",
       "        (wo): Linear(in_features=3072, out_features=768, bias=False)\n",
       "        (dropout): Dropout(p=0.1, inplace=False)\n",
       "        (act): ReLU()\n",
       "      )\n",
       "      (layer_norm): T5LayerNorm()\n",
       "      (dropout): Dropout(p=0.1, inplace=False)\n",
       "    )\n",
       "  )\n",
       ")"
      ]
     },
     "execution_count": 27,
     "metadata": {},
     "output_type": "execute_result"
    }
   ],
   "source": [
    "model.encoder.block[0]"
   ]
  },
  {
   "cell_type": "code",
   "execution_count": 28,
   "metadata": {},
   "outputs": [
    {
     "data": {
      "text/plain": [
       "12"
      ]
     },
     "execution_count": 28,
     "metadata": {},
     "output_type": "execute_result"
    }
   ],
   "source": [
    "len(model.encoder.block)"
   ]
  },
  {
   "cell_type": "markdown",
   "metadata": {},
   "source": [
    "Each of the modules inside of the `block` is composed of a `T5LayerSelfAttention` module (attention layer), followed by a `T5LayerFF` module (feed-forward layer).\n",
    "\n",
    "Remember that there are some other details (e.g., normalization layers, or dropouts) that are shown below, but we will not discuss them in detail here.\n",
    "\n",
    "As a reminder, this is the architecture of a single encoder block. \n",
    "\n",
    "![encoder.png](images/encoder.png)"
   ]
  },
  {
   "cell_type": "code",
   "execution_count": 29,
   "metadata": {},
   "outputs": [
    {
     "name": "stdout",
     "output_type": "stream",
     "text": [
      "12 \n",
      "\n",
      " T5Block(\n",
      "  (layer): ModuleList(\n",
      "    (0): T5LayerSelfAttention(\n",
      "      (SelfAttention): T5Attention(\n",
      "        (q): Linear(in_features=768, out_features=768, bias=False)\n",
      "        (k): Linear(in_features=768, out_features=768, bias=False)\n",
      "        (v): Linear(in_features=768, out_features=768, bias=False)\n",
      "        (o): Linear(in_features=768, out_features=768, bias=False)\n",
      "        (relative_attention_bias): Embedding(32, 12)\n",
      "      )\n",
      "      (layer_norm): T5LayerNorm()\n",
      "      (dropout): Dropout(p=0.1, inplace=False)\n",
      "    )\n",
      "    (1): T5LayerFF(\n",
      "      (DenseReluDense): T5DenseActDense(\n",
      "        (wi): Linear(in_features=768, out_features=3072, bias=False)\n",
      "        (wo): Linear(in_features=3072, out_features=768, bias=False)\n",
      "        (dropout): Dropout(p=0.1, inplace=False)\n",
      "        (act): ReLU()\n",
      "      )\n",
      "      (layer_norm): T5LayerNorm()\n",
      "      (dropout): Dropout(p=0.1, inplace=False)\n",
      "    )\n",
      "  )\n",
      ")\n"
     ]
    }
   ],
   "source": [
    "print(len(model.encoder.block), \"\\n\\n\", model.encoder.block[0]) "
   ]
  },
  {
   "cell_type": "markdown",
   "metadata": {},
   "source": [
    "Notice that the $W_q$, $W_k$, and $W_v$ matrices are 768x768. But, we stated that each attention is 64-dimensional, so they should be 768x64!\n",
    "\n",
    "However, remember that we have 12 heads: instead of producing 12 different heads, we instead efficiently represent all matrices inside of a single matrix. In addition, there is no need for concatenating the results: the output will already be the concatenation of all heads.\n",
    "\n",
    "The $W_o$ matrix is 768x768, i.e. `d_kv`*`num_heads` x `d_model`, as expected."
   ]
  },
  {
   "cell_type": "markdown",
   "metadata": {},
   "source": [
    "### Decoder\n",
    "\n",
    "We can inspect the decoder in the same way. Remember the decoder's architecture!\n",
    "\n",
    "![decoder.png](images/decoder.png)"
   ]
  },
  {
   "cell_type": "code",
   "execution_count": 30,
   "metadata": {},
   "outputs": [
    {
     "data": {
      "text/plain": [
       "T5Block(\n",
       "  (layer): ModuleList(\n",
       "    (0): T5LayerSelfAttention(\n",
       "      (SelfAttention): T5Attention(\n",
       "        (q): Linear(in_features=768, out_features=768, bias=False)\n",
       "        (k): Linear(in_features=768, out_features=768, bias=False)\n",
       "        (v): Linear(in_features=768, out_features=768, bias=False)\n",
       "        (o): Linear(in_features=768, out_features=768, bias=False)\n",
       "        (relative_attention_bias): Embedding(32, 12)\n",
       "      )\n",
       "      (layer_norm): T5LayerNorm()\n",
       "      (dropout): Dropout(p=0.1, inplace=False)\n",
       "    )\n",
       "    (1): T5LayerCrossAttention(\n",
       "      (EncDecAttention): T5Attention(\n",
       "        (q): Linear(in_features=768, out_features=768, bias=False)\n",
       "        (k): Linear(in_features=768, out_features=768, bias=False)\n",
       "        (v): Linear(in_features=768, out_features=768, bias=False)\n",
       "        (o): Linear(in_features=768, out_features=768, bias=False)\n",
       "      )\n",
       "      (layer_norm): T5LayerNorm()\n",
       "      (dropout): Dropout(p=0.1, inplace=False)\n",
       "    )\n",
       "    (2): T5LayerFF(\n",
       "      (DenseReluDense): T5DenseActDense(\n",
       "        (wi): Linear(in_features=768, out_features=3072, bias=False)\n",
       "        (wo): Linear(in_features=3072, out_features=768, bias=False)\n",
       "        (dropout): Dropout(p=0.1, inplace=False)\n",
       "        (act): ReLU()\n",
       "      )\n",
       "      (layer_norm): T5LayerNorm()\n",
       "      (dropout): Dropout(p=0.1, inplace=False)\n",
       "    )\n",
       "  )\n",
       ")"
      ]
     },
     "execution_count": 30,
     "metadata": {},
     "output_type": "execute_result"
    }
   ],
   "source": [
    "model.decoder.block[0]"
   ]
  },
  {
   "cell_type": "markdown",
   "metadata": {},
   "source": [
    "Indeed, we find the expected architecture. \n",
    "\n",
    "An initial self-attention module, followed by a multi-head attention one (`T5LayerCrossAttention`), and finally a feed-forward module.\n",
    "\n",
    "Note that, although there is a dedicated class for cross-attention, the module still makes use of the same `T5Attention` class we also used for self-attention. This is because nothing changes in the attention mechanism itself: only the inputs are different."
   ]
  },
  {
   "cell_type": "markdown",
   "metadata": {},
   "source": [
    "Finally, note that the model's `lm_head` is a linear layer that takes the output of the decoder (768-dimensional) and maps it to the vocabulary size (32128)."
   ]
  },
  {
   "cell_type": "code",
   "execution_count": 31,
   "metadata": {},
   "outputs": [
    {
     "data": {
      "text/plain": [
       "Linear(in_features=768, out_features=32128, bias=False)"
      ]
     },
     "execution_count": 31,
     "metadata": {},
     "output_type": "execute_result"
    }
   ],
   "source": [
    "model.lm_head"
   ]
  },
  {
   "cell_type": "markdown",
   "metadata": {},
   "source": [
    "## Token generation\n",
    "\n",
    "Let's now focus on the token generation process.\n",
    "\n",
    "Remember, we are working with an encoder-decoder architecture. The encoder processes the input text, and the decoder generates the output text.\n",
    "\n",
    "The input for the encoder is the tokenized input text. We also need to specify an input for the decoder. The decoder's input will be the currently generated sequence thus far. For the first iteration, there is nothing already generated, so we need to specify a special token to indicate the beginning of the sequence (BOS). For T5, the token will be `<pad_token>`. "
   ]
  },
  {
   "cell_type": "code",
   "execution_count": 32,
   "metadata": {},
   "outputs": [],
   "source": [
    "import torch\n",
    "\n",
    "input_sentence = \"translate english to german: hello, how are you?\"\n",
    "\n",
    "tokens = tokenizer(input_sentence, return_tensors=\"pt\")\n",
    "\n",
    "decoder_input_ids = torch.tensor([[ tokenizer.pad_token_id ]])"
   ]
  },
  {
   "cell_type": "code",
   "execution_count": 33,
   "metadata": {},
   "outputs": [
    {
     "name": "stdout",
     "output_type": "stream",
     "text": [
      "Encoder's input\n",
      "tensor([[13959, 22269,    12, 13692,    10, 21820,     6,   149,    33,    25,\n",
      "            58,     1]])\n",
      "\n",
      "Decoder's input\n",
      "tensor([[0]])\n"
     ]
    }
   ],
   "source": [
    "print(\"Encoder's input\")\n",
    "print(tokens[\"input_ids\"])\n",
    "\n",
    "print()\n",
    "print(\"Decoder's input\")\n",
    "print(decoder_input_ids)"
   ]
  },
  {
   "cell_type": "markdown",
   "metadata": {},
   "source": [
    "To generate the first output token (after `<pad_token>`), we call the model's __call__ method (or `forward` method) with the input text and the decoder's input."
   ]
  },
  {
   "cell_type": "code",
   "execution_count": 34,
   "metadata": {},
   "outputs": [
    {
     "name": "stdout",
     "output_type": "stream",
     "text": [
      "odict_keys(['logits', 'past_key_values', 'encoder_last_hidden_state'])\n"
     ]
    }
   ],
   "source": [
    "# **tokens passes the dictionary as keyword arguments (input_ids=..., attention_mask=...)\n",
    "output = model(**tokens, decoder_input_ids=decoder_input_ids)\n",
    "print(output.keys())"
   ]
  },
  {
   "cell_type": "code",
   "execution_count": 35,
   "metadata": {},
   "outputs": [
    {
     "data": {
      "text/plain": [
       "(tensor([[[[ 8.0751e-01,  5.9590e-01, -4.6880e-01,  4.9266e-01,  1.1197e+00,\n",
       "            -1.2452e+00, -9.0581e-01, -5.2789e-01,  3.6213e-01,  3.6954e-01,\n",
       "            -4.3455e-02, -8.5433e-01, -6.6289e-01, -4.9530e-02,  5.1809e-01,\n",
       "            -8.5448e-01, -4.5317e-01,  5.9210e-01, -2.5630e-01,  9.7839e-04,\n",
       "            -5.9754e-01, -1.8106e+00, -1.5930e+00,  5.2041e-01, -3.8632e-01,\n",
       "             4.0855e-01,  1.7834e+00,  4.0360e-01, -1.1653e+00, -5.5640e-01,\n",
       "            -5.5420e-01,  4.8449e-01, -5.6703e-01,  4.0686e-01, -1.3294e+00,\n",
       "            -4.6914e-01,  4.6921e-01, -3.6158e-01,  5.2256e-01, -3.2758e-01,\n",
       "             3.6369e-01, -1.1385e-01,  4.4046e-01, -1.8292e-01, -4.6193e-01,\n",
       "             2.3514e-02,  1.1758e-01, -5.2525e-01, -5.6002e-01, -7.8300e-01,\n",
       "             2.6148e-01, -2.4737e+00,  4.7007e-01, -2.6592e-01, -1.5485e+00,\n",
       "             3.2745e+00,  9.0812e-01,  7.0409e-01, -2.0157e-02, -8.3044e-02,\n",
       "             6.8403e-01, -7.7884e-01,  5.1766e-01, -3.4012e-01]],\n",
       " \n",
       "          [[-6.6438e-01,  2.5151e+00,  6.8428e-01,  4.4015e-01, -8.3518e-01,\n",
       "            -9.9665e-01,  2.8279e+00, -7.2212e-01, -1.0688e+00, -9.4019e-01,\n",
       "             2.7050e+00, -6.0149e-01, -1.4592e+00, -1.2582e+00, -4.9177e-01,\n",
       "             1.3218e+00, -8.9681e-01,  9.4169e-01, -1.2019e+00, -2.4484e+00,\n",
       "             6.8547e-01, -2.0507e+00,  1.0435e+00,  2.7931e-01,  3.2697e+00,\n",
       "            -3.2134e+00,  3.8625e+00,  1.2923e-01,  1.1023e+00,  6.3996e-01,\n",
       "            -3.6581e-01, -1.7155e-02,  1.1789e+00,  2.0449e+00,  3.4693e+00,\n",
       "            -2.3352e+00,  1.2630e-02,  1.0273e+00, -1.2626e+00, -2.2317e+00,\n",
       "             2.4374e+00,  7.9716e-01,  1.2864e+00, -2.5043e+00, -2.7001e+00,\n",
       "            -8.3859e-01,  7.8593e-01, -1.8879e-01, -3.4402e-01, -5.0461e-01,\n",
       "            -5.2435e-01,  1.2397e+00, -4.4922e-01,  9.8829e-01, -2.1489e+00,\n",
       "            -2.5911e+00,  1.3928e+00,  3.8486e-03,  2.0592e+00, -8.3416e-01,\n",
       "            -3.8336e-01, -1.4383e+00, -1.4259e+00,  1.1669e+00]],\n",
       " \n",
       "          [[ 3.9742e-01, -3.5315e+00,  1.1719e+00, -1.6181e+00,  8.7969e-01,\n",
       "             2.1931e+00, -2.1199e+00,  4.7292e-01,  3.0253e+00, -1.5700e+00,\n",
       "             2.1954e-01,  2.5871e+00,  2.2306e+00, -7.9655e-01, -3.9953e-01,\n",
       "            -2.9191e+00, -2.5449e+00, -3.6712e+00, -3.9486e+00,  1.6595e+00,\n",
       "            -2.1392e-01, -2.1536e-01, -2.2524e+00,  9.9000e-01, -8.9700e-01,\n",
       "            -1.2655e+00, -5.0634e-01,  4.6596e-01,  1.0823e+00, -7.5566e-01,\n",
       "             1.4327e+00, -4.7581e-01,  2.2824e+00,  6.7650e-01,  8.2387e-01,\n",
       "             3.9348e+00, -1.7866e+00,  3.5054e+00,  2.9926e+00, -9.7865e-01,\n",
       "            -3.1659e+00,  5.9384e-01, -3.4197e+00,  1.9262e+00, -2.1253e-01,\n",
       "            -2.2707e+00,  3.4668e-01, -1.3427e+00,  1.8556e+00, -2.1940e+00,\n",
       "             3.2545e+00, -1.2743e+00,  1.6327e+00, -1.3848e+00,  2.2545e-01,\n",
       "             2.5674e+00,  3.1222e+00,  5.4801e-01, -3.8870e+00,  2.1618e+00,\n",
       "             2.3690e+00, -1.1180e+00, -2.0904e+00, -2.4539e+00]],\n",
       " \n",
       "          [[ 5.0950e-01, -1.1539e-01, -4.1786e-01,  1.4453e-02, -1.2190e-01,\n",
       "            -3.5427e-01,  4.8045e-01, -2.0790e-01,  1.0690e-01,  7.2281e-01,\n",
       "             5.6891e-01,  5.6125e-02, -2.2433e-01, -1.7975e-01, -1.0087e-01,\n",
       "             3.4681e-01,  3.3604e-01,  5.7168e+00, -1.1532e-01, -3.5277e-01,\n",
       "             2.9852e-02, -1.4957e+00, -2.0898e-01, -1.3193e-01, -1.0764e+00,\n",
       "            -4.8846e-01, -7.1031e-01,  4.6251e-01,  2.7927e-01, -2.2378e-02,\n",
       "             1.8062e+00, -6.1509e-02, -8.8988e-02,  7.7264e-01,  2.1664e-01,\n",
       "            -4.4970e-01,  3.6892e-01,  6.0727e-01,  4.3108e-02,  3.1033e-01,\n",
       "            -1.1146e-01, -8.9333e-01,  3.4001e-01,  2.1367e-01,  1.2327e-01,\n",
       "            -7.6496e-02,  3.6363e-02, -4.8496e-01, -4.7512e-02, -1.6345e-01,\n",
       "            -3.4160e-01, -4.5084e-01, -2.4742e-01,  1.5852e+00, -5.2016e-01,\n",
       "             1.5665e-01, -1.6863e-01,  1.1154e-01,  4.4352e-01,  3.6107e-01,\n",
       "             5.1278e-02,  9.9771e-01,  2.1851e-01,  3.9310e-01]],\n",
       " \n",
       "          [[ 9.0783e-02, -5.2427e-01, -2.0909e+00, -1.5422e+00,  1.7570e-02,\n",
       "             1.1699e+00, -4.2711e-01, -9.8981e-02,  9.5342e-01,  3.3095e-01,\n",
       "            -4.7372e-01,  5.5016e-01,  1.6081e+00, -7.4873e-01, -4.9377e-01,\n",
       "            -1.2235e+00, -2.1559e+00,  1.6294e+00,  2.4981e+00, -1.5355e+00,\n",
       "            -8.9766e-01, -3.6694e+00, -1.1564e-01, -1.1093e+00,  3.8158e-01,\n",
       "            -1.6573e+00,  8.4503e-01,  8.3904e-01, -8.3633e-02,  1.5096e+00,\n",
       "            -9.2405e-01, -2.6137e-01, -5.2875e-01,  8.0454e-01,  2.6376e-01,\n",
       "             7.3573e-01, -4.6772e-01, -2.1155e-01, -4.6287e-01,  2.1210e-01,\n",
       "             9.4155e-01, -1.5052e+00, -2.0146e-01, -1.3228e-01,  5.7016e-01,\n",
       "            -4.6246e-01, -5.0075e-01, -7.6358e-02,  2.3014e-01, -1.2918e+00,\n",
       "             6.0679e-01,  7.8107e-02,  2.2665e+00,  2.1073e-01,  5.3913e-01,\n",
       "             6.9107e-01,  9.9660e-01, -1.5393e+00, -1.0782e+00,  4.1038e-01,\n",
       "             2.4894e+00, -2.1641e+00, -1.9685e+00, -1.8779e+00]],\n",
       " \n",
       "          [[ 2.8266e-01, -4.0253e-01,  2.1461e-01, -8.5459e-02, -8.8574e-02,\n",
       "             2.0529e-01, -4.9773e+00, -2.6139e-02, -2.5218e-01,  3.5628e-01,\n",
       "            -6.3628e-01,  3.6137e-01, -1.6117e-01, -2.0351e-01,  5.8478e-01,\n",
       "            -2.8578e-01, -2.5785e-01,  2.8788e-01,  1.2133e-01, -1.2644e+00,\n",
       "             1.2791e+00, -1.9451e-01,  4.4943e-01,  1.0352e-01,  3.2953e-01,\n",
       "            -6.6074e-01,  4.9375e-01, -1.6468e-02,  1.1274e-01,  4.0464e-01,\n",
       "            -1.8936e-02, -7.3703e-02, -2.3792e-01, -1.2765e-01,  1.6298e+00,\n",
       "             2.1280e-02, -2.8000e-01, -1.4488e-01, -1.7418e-01,  2.3482e-01,\n",
       "             1.9675e-01,  9.6946e-02, -2.2366e-01,  4.5381e-01, -2.7155e-01,\n",
       "             3.2703e-02, -2.7884e-01,  9.1267e-02,  2.4779e-02,  1.5141e-01,\n",
       "             1.4472e-01,  3.6377e-03, -9.2628e-02, -4.0295e+00, -1.4378e-01,\n",
       "             3.8275e-01, -3.2757e-02, -2.4571e-01, -2.8731e-01,  2.9902e-01,\n",
       "            -2.9039e-01,  1.1138e-01,  4.0494e-02, -3.3153e-01]],\n",
       " \n",
       "          [[ 7.6214e-01, -7.4629e-01, -9.6668e-01,  1.1067e+00,  1.1446e+00,\n",
       "            -9.4385e-01, -1.8795e+00, -9.3064e-01,  1.7300e+00, -1.4664e+00,\n",
       "            -2.3141e-01, -3.5233e+00, -4.5847e+00,  7.1642e-01,  7.4307e-01,\n",
       "            -5.2633e-01, -1.5345e+00,  2.0310e+00,  6.6826e+00,  1.1144e+00,\n",
       "            -1.8575e+00, -1.0726e+00,  6.4875e-01, -1.2714e+00, -7.5589e-01,\n",
       "            -1.0819e-02, -1.4056e+00, -7.1250e-02, -2.6511e+00, -2.2563e+00,\n",
       "            -2.1769e-01, -2.3009e+00, -9.8707e-01,  3.9883e-02, -2.3158e+00,\n",
       "             1.8638e-01,  5.1719e-01, -1.4830e+00, -4.6418e+00, -1.4803e+00,\n",
       "             5.2249e-02,  1.1654e+00, -2.2894e+00, -2.5954e-01,  1.5796e-01,\n",
       "             2.1164e+00, -1.5284e+00, -9.3902e-01,  1.0677e+00, -1.9075e+00,\n",
       "             1.7636e-01, -1.8908e-01,  1.2209e+00,  1.6150e+00,  3.7917e-01,\n",
       "            -6.4760e-01, -2.2319e+00,  7.3769e-01,  4.3802e+00, -1.2444e+00,\n",
       "            -2.1253e+00, -2.7476e+00,  6.3747e-01,  2.2082e+00]],\n",
       " \n",
       "          [[ 1.3045e+00,  6.8440e-01,  2.0830e-01, -5.6155e-02, -2.5631e-01,\n",
       "             4.5208e-02,  1.5704e+00,  1.6998e-01,  2.3718e-01, -7.4239e-01,\n",
       "             6.7178e-01, -1.0560e-02,  1.1381e+00,  1.2160e-01,  7.5119e-01,\n",
       "             2.1111e-01, -3.5777e-01,  7.2123e-01,  2.3249e-02,  3.1410e-02,\n",
       "            -4.3115e-01,  1.4348e-01,  2.0406e-01,  6.2697e-01, -8.2221e-01,\n",
       "             1.0803e+00,  3.1962e-01, -4.7729e-01, -2.4237e-01, -5.6162e-02,\n",
       "            -4.2656e+00, -3.1590e-01,  7.0341e-01, -5.4635e-01, -5.2035e-01,\n",
       "             2.0628e-01, -4.8932e-01,  1.6150e-01, -3.0999e-02,  6.5778e-01,\n",
       "            -3.0612e-01, -7.6944e-02, -1.1452e-01, -1.2565e-01, -3.5534e-01,\n",
       "            -1.8702e-02, -2.4255e-01, -2.2292e-01,  7.9682e-01,  1.7907e-01,\n",
       "            -2.7601e-01, -9.6524e-02, -7.6748e-01,  2.4381e-01,  1.6510e-01,\n",
       "             9.1589e-01,  3.1190e-01, -6.5590e-02, -6.8281e-01, -1.3295e-01,\n",
       "             4.1992e-01,  2.2115e-01,  2.9790e-01, -3.2787e-01]],\n",
       " \n",
       "          [[-3.2410e+00,  5.0518e-01,  3.6045e-01, -7.8661e-02, -5.4112e-01,\n",
       "             3.7795e-01,  4.6643e-01, -2.5400e-01,  2.0056e-01,  2.3854e-01,\n",
       "             3.3020e-01, -1.3828e+00,  5.4292e-01,  1.0491e+00,  9.9038e-01,\n",
       "             7.3971e-01,  1.0515e+00,  4.7411e-01, -9.2982e-02,  5.4541e-02,\n",
       "             8.8933e-01,  6.7825e+00,  7.3178e+00, -1.4407e+00,  2.3846e+00,\n",
       "             2.3838e-01, -3.3341e-01,  1.0003e+00,  6.5478e-02, -1.1081e+00,\n",
       "             2.1046e+00,  2.3697e-01,  2.8534e+00,  9.2585e-01, -4.8854e-01,\n",
       "             9.5412e-01,  6.2626e-01, -9.5322e-01, -3.2681e-01, -2.6051e-01,\n",
       "             1.7154e+00,  1.8847e+00,  5.1519e-01,  6.0730e-01,  3.4397e-01,\n",
       "             3.8271e-01, -4.5334e+00, -1.7938e+00,  4.4969e-01, -5.2151e-01,\n",
       "            -2.7214e-01, -2.6888e+00,  4.8625e-01,  1.0270e+00,  1.2723e+00,\n",
       "             4.1502e-01, -5.2000e-02,  7.6593e-01, -1.8545e-01, -4.4413e-01,\n",
       "            -2.6891e-01, -3.6429e-01, -1.8426e+00, -2.2105e-01]],\n",
       " \n",
       "          [[ 1.7477e+00,  8.0151e-01,  1.1603e+00, -4.3552e-01, -1.7682e+00,\n",
       "             7.7111e-01, -1.7022e+00, -5.1787e-01,  8.6628e-01,  4.6605e-02,\n",
       "            -2.9641e-01,  1.5568e+00, -5.3659e-01, -2.0689e-01,  1.7993e+00,\n",
       "             2.5183e+00,  1.2099e+00, -2.1709e+00,  7.9104e-01, -2.0796e-01,\n",
       "             8.5769e-01,  6.2331e-01, -1.8235e-01, -3.6646e-02, -5.2813e-01,\n",
       "             1.3521e+00, -2.0734e+00,  1.1725e+00,  8.7907e-02, -9.3943e-01,\n",
       "            -1.6128e+00,  2.4609e-01, -1.7574e+00,  4.5855e-01, -4.0243e-01,\n",
       "             2.1226e+00, -5.3734e-01, -5.6601e-01, -2.4444e-01, -7.6732e-01,\n",
       "            -1.3217e+00,  4.6525e-02, -2.5592e+00, -3.9319e-01,  1.2489e-02,\n",
       "            -6.4939e-01,  2.2698e-01,  1.8445e+00, -1.4952e+00,  5.6337e-01,\n",
       "             1.5649e+00, -5.3624e-01, -3.2328e-01,  4.1266e-01,  3.0715e-01,\n",
       "             3.4660e-01, -1.9704e+00, -7.0918e-01, -1.3628e+00, -1.2425e-01,\n",
       "            -4.2060e-01, -9.4223e-01, -1.2174e+00,  9.9721e-01]],\n",
       " \n",
       "          [[-2.3004e+00,  1.1520e-01, -2.6748e+00, -1.7856e-01, -7.5062e-01,\n",
       "            -2.1346e+00, -8.9668e-01, -9.5426e-01, -1.1695e+00, -1.7084e+00,\n",
       "            -6.0532e-01, -3.1650e-01,  3.4158e+00, -3.7582e-01, -9.7813e-01,\n",
       "            -1.0293e+00,  3.7865e-01, -5.9427e-01, -4.0819e-01, -3.2542e-02,\n",
       "            -2.6261e-01,  5.8526e-01, -2.0987e+00,  3.5395e-02,  5.3047e-01,\n",
       "             2.9342e-01, -2.2651e+00,  5.7264e-01, -3.5205e+00,  5.5058e-01,\n",
       "             8.1334e-01, -1.6410e+00, -3.3278e+00, -1.9863e+00, -1.1622e+00,\n",
       "            -9.8207e-01, -6.5927e-01,  6.7355e-01,  6.4456e-01,  1.4903e+00,\n",
       "             6.4345e-02, -1.4957e-01,  7.2424e-01,  1.2147e+00, -1.4314e+00,\n",
       "            -1.2498e+00, -1.7379e+00, -1.7312e+00,  1.3057e-01,  6.6908e-01,\n",
       "            -9.1935e-01,  1.8527e+00,  1.7652e+00, -6.2223e-01,  2.9162e-01,\n",
       "            -2.8171e-01,  1.1985e+00,  1.3022e+00, -1.1550e+00, -2.1856e+00,\n",
       "            -2.3852e-01, -1.1235e+00, -1.4995e+00, -3.5250e-01]],\n",
       " \n",
       "          [[-2.5186e+00,  1.1486e-01, -1.4743e+00,  2.9450e-01, -3.5930e-01,\n",
       "            -1.2206e-01,  9.9522e-01,  2.8087e+00, -5.0892e-01, -1.1018e+00,\n",
       "             1.4972e+00, -4.9256e+00, -1.1725e+00, -2.6221e+00,  3.0782e+00,\n",
       "             3.2935e-01, -7.4319e-01,  3.7398e-01, -1.4291e+00,  9.9068e-01,\n",
       "             5.5225e-01, -9.9546e-01,  7.4577e-01, -1.6923e+00,  1.5145e+00,\n",
       "             1.2164e+00,  3.6171e+00,  1.5088e+00, -2.2028e-01,  5.5169e-01,\n",
       "            -2.8239e+00,  1.2137e+00, -3.3123e+00,  2.1339e+00,  7.7547e-01,\n",
       "             1.7777e+00,  4.0198e+00, -1.9020e+00, -2.0366e+00,  1.4539e+00,\n",
       "            -1.8763e+00, -2.9492e+00,  1.3737e+00,  1.3740e+00,  1.7966e-02,\n",
       "             5.7966e-01,  2.4825e+00, -1.4572e-01, -7.6962e-01, -1.0327e+00,\n",
       "             9.0368e-01,  2.4004e+00, -4.4174e-01,  4.8741e-01,  2.6565e+00,\n",
       "            -3.9589e-02,  6.6115e-01,  1.4014e+00, -1.8060e+00,  2.7097e+00,\n",
       "             9.4462e-01,  6.7022e-02,  3.8745e+00, -9.3342e-01]]]],\n",
       "        grad_fn=<TransposeBackward0>),\n",
       " tensor([[[[ 8.0797e-02,  2.0074e-01,  2.4472e-01, -2.4325e-01,  1.8291e-01,\n",
       "            -4.8938e-02, -7.4334e-02,  8.1350e-01,  5.7112e-01, -1.1500e-01,\n",
       "             1.0180e+00,  3.0636e-01,  2.6027e-01, -1.0666e-01,  1.6973e-01,\n",
       "             4.1651e-01, -7.9239e-01, -1.9766e-01, -7.0111e-02, -8.3550e-02,\n",
       "            -2.6552e-01,  7.8436e-01,  5.5063e-01,  6.5712e-01,  1.0277e+00,\n",
       "             3.3380e-01, -1.2935e-01,  4.2086e-01,  5.8501e-01, -8.7604e-02,\n",
       "            -2.0922e-01, -6.4654e-01, -8.8600e-02, -3.8118e-01, -4.3837e-01,\n",
       "             9.7069e-01,  1.0664e-01,  2.9309e-01, -3.6307e-01,  2.0858e-02,\n",
       "            -3.0823e-01, -4.0209e-01, -8.5255e-02,  1.1139e-01, -7.0446e-01,\n",
       "            -4.5242e-01,  4.0139e-01, -8.4357e-01,  1.7323e-01,  3.4771e-01,\n",
       "            -2.0160e-01, -3.7030e-01,  4.9751e-01, -5.2509e-01,  5.8836e-01,\n",
       "            -5.3463e-02,  2.3889e-01, -4.4121e-01,  2.0628e-01, -1.1870e+00,\n",
       "            -1.4896e+00, -7.7283e-01, -2.0247e+00, -9.7007e-01]],\n",
       " \n",
       "          [[ 1.7627e-03, -1.9782e-02,  2.6943e-02,  7.7908e-02, -4.7563e-01,\n",
       "            -3.7441e-01, -2.1759e-01,  2.2998e-01, -1.0742e-01, -1.0645e-01,\n",
       "            -4.2435e-01,  1.9487e-01, -8.4524e-02, -1.4350e-01, -1.8272e-01,\n",
       "            -2.7574e-01,  2.5960e-01,  1.7819e-01, -2.3473e-01,  1.3425e-01,\n",
       "             6.6344e-02, -1.8181e-01,  1.9246e-01,  2.4808e-02, -1.1681e-01,\n",
       "             8.1471e-03, -2.5204e-01, -2.6440e-01,  2.3750e-02,  3.3835e-01,\n",
       "             4.0400e-05, -4.7966e-01, -3.4478e-01, -1.6870e-01, -3.3250e-01,\n",
       "             9.9180e-02,  2.5390e-01,  1.5437e-01,  1.2244e-01, -1.3855e-01,\n",
       "             5.3972e-01,  3.4389e-01, -1.1905e-02,  2.3492e-01, -2.5889e-01,\n",
       "             4.8083e-03, -4.1535e-01,  4.7595e-01,  5.3232e-02, -1.2940e-01,\n",
       "            -6.0512e-02,  1.9489e-01, -1.4638e-01, -1.3416e-01, -2.8969e-02,\n",
       "             1.3548e-01,  1.9517e-01,  5.5012e-01,  2.6876e-01,  1.7190e-01,\n",
       "            -1.3616e-01,  2.4894e-01,  5.4807e-02,  6.1283e-02]],\n",
       " \n",
       "          [[-4.4625e-02,  1.2959e-02, -1.9856e-02, -2.6958e-04,  4.0933e-02,\n",
       "             1.2990e-02,  4.1003e-02, -3.8616e-02, -1.0357e-01,  2.7255e-02,\n",
       "            -2.6935e-02,  4.9463e-02, -9.8951e-04,  3.7723e-02,  4.8330e-02,\n",
       "            -8.8295e-02, -1.4686e-01,  6.8777e-02, -9.3608e-03, -4.3165e-02,\n",
       "            -8.9443e-02, -4.7257e-04,  1.6622e-01, -2.3621e-01, -1.7492e-01,\n",
       "            -1.3718e-01, -3.2427e-02, -2.4181e-02, -5.0062e-02, -5.6694e-02,\n",
       "             1.3067e-01,  6.4568e-02,  6.5276e-02,  3.7274e-02,  4.2521e-02,\n",
       "            -1.7188e-01, -3.7154e-02,  2.1171e-02, -1.6264e-01,  6.8564e-02,\n",
       "            -5.8675e-02, -9.4102e-02, -9.0568e-02, -1.7186e-02, -1.0426e-01,\n",
       "            -3.9616e-02, -2.0311e-01,  6.6953e-02, -2.1582e-02, -7.0676e-02,\n",
       "            -2.3553e-02, -4.0411e-03,  1.5146e-02,  3.2538e-02, -9.6706e-02,\n",
       "             1.0702e-01,  9.3300e-02, -1.0346e-01,  2.4193e-01, -2.5319e-02,\n",
       "             5.2766e-03,  1.8716e-01, -3.1861e-03, -6.1551e-02]],\n",
       " \n",
       "          [[-5.4209e-01,  9.9976e-01,  2.6016e-01,  1.5369e-01,  1.4414e-01,\n",
       "             2.2966e-02,  2.9196e-03,  2.1060e-01, -1.0437e-01, -9.0935e-02,\n",
       "            -1.0807e-01,  5.9142e-02,  1.2154e-01, -2.1805e-01,  2.4514e-01,\n",
       "             2.1899e-02,  1.3183e-01, -1.2778e-01, -8.6358e-01,  3.0672e-01,\n",
       "             2.4908e-01,  6.8322e-02,  1.1722e+00, -1.7583e-01, -5.9857e-02,\n",
       "            -1.6263e-01,  2.5497e-01, -2.3260e-02,  4.1582e-02, -9.0183e-02,\n",
       "             5.0085e-01,  1.2821e-01, -2.2671e-01,  1.8814e-01, -7.4506e-01,\n",
       "            -2.6312e-02,  2.0441e-01, -5.5000e-02, -1.8323e-01,  1.5548e-01,\n",
       "             1.6746e-01, -3.0651e-01,  1.9743e-01,  4.3043e-02,  1.1696e-01,\n",
       "            -7.1976e-01, -3.5592e-01,  1.4099e-02, -1.0483e-01,  1.1904e-01,\n",
       "            -3.9028e-02,  7.2879e-02, -1.3177e-01,  1.8156e-01, -1.2094e-01,\n",
       "            -3.5317e-02, -1.2503e-01,  1.4616e-01,  6.6480e-02, -2.4411e-01,\n",
       "             1.2972e-01,  5.7931e-02, -6.5680e-02,  1.2916e-01]],\n",
       " \n",
       "          [[ 1.2943e-01, -7.6200e-01,  1.7206e-01,  1.5656e-01,  3.9801e-01,\n",
       "             1.8482e-01, -1.3526e-01,  1.4024e-01, -1.6366e-02,  2.9796e-02,\n",
       "            -2.3639e-02,  6.4088e-02,  2.7776e-01,  2.4756e-01, -1.4608e-01,\n",
       "            -9.1502e-04, -3.0772e-01, -2.2188e-01,  1.4015e-01, -1.6988e-01,\n",
       "            -3.8054e-03, -2.3888e-01,  1.7060e-01, -1.3586e-01,  3.1906e-01,\n",
       "            -2.0570e-01,  1.7172e-01, -3.2992e-02, -1.9828e-02,  4.4786e-02,\n",
       "             1.9112e-01,  1.0814e-02, -1.3935e-02,  1.3276e-02, -2.0193e-01,\n",
       "            -1.5537e-01, -2.6138e-03,  1.1773e-01, -1.5620e-01, -5.5094e-02,\n",
       "             6.3284e-02, -2.2060e-01,  1.8055e-01,  2.0453e-01, -4.5160e-01,\n",
       "            -9.5200e-02, -7.4291e-02, -3.7073e-02, -1.3966e-01, -9.7141e-02,\n",
       "            -2.4110e-01, -2.3115e-01,  6.8520e-02,  2.6149e-01,  2.1589e-01,\n",
       "             9.4176e-02,  2.7245e-02, -3.6339e-02, -1.2104e-01, -3.0385e-01,\n",
       "            -1.2404e-02,  1.7853e-01,  1.6649e-01,  1.3321e-01]],\n",
       " \n",
       "          [[ 2.2194e-01,  7.8477e-02, -1.2938e-01, -3.8282e-01,  1.8455e-02,\n",
       "            -1.4559e-01,  2.4744e-01,  2.0387e-01,  7.2230e-01, -1.2193e-01,\n",
       "            -2.8043e-02, -7.9977e-02,  1.6367e-01,  2.3255e-01, -1.1721e-01,\n",
       "             9.9724e-02,  1.8204e-02,  5.6319e-02, -1.0680e-02,  4.2620e-01,\n",
       "             1.6051e-01,  2.0388e-02, -1.1436e-01, -3.0970e-02, -1.6000e-01,\n",
       "             1.2359e-01,  2.6942e-01,  5.6608e-02,  1.8056e-01,  1.9652e-01,\n",
       "             4.4544e-02, -1.4046e-01,  1.2171e-01, -1.0363e-02,  2.0391e-01,\n",
       "            -1.9505e-01,  2.1203e-01,  8.9177e-02, -2.8597e-02,  1.0333e-01,\n",
       "             9.1204e-02,  9.0809e-02,  1.7146e-01, -9.7472e-02,  1.1316e-01,\n",
       "             1.2505e-01, -1.7954e-01, -3.5788e-01, -4.3298e-03,  5.6174e-01,\n",
       "             9.1996e-02, -7.9028e-03,  5.5515e-02, -5.4020e-02,  1.1152e-01,\n",
       "            -2.7618e-02,  6.7676e-02, -5.5494e-02,  1.3148e-01,  1.0243e-01,\n",
       "             1.9750e-01,  1.1372e-01, -1.5930e-02,  1.4663e-01]],\n",
       " \n",
       "          [[-1.0801e-01, -6.8041e-03, -2.6120e-01,  3.4594e-01, -2.2141e-01,\n",
       "             1.5312e-01,  1.5432e-01, -2.5142e-01, -2.0115e-02, -1.8119e-01,\n",
       "             3.5898e-02, -2.2593e-02,  5.3133e-02, -9.4046e-02, -4.3762e-02,\n",
       "             1.3610e-02, -9.6086e-02,  2.3839e-01,  9.7492e-02, -2.5785e-02,\n",
       "             2.5140e-01,  6.4386e-02, -2.7582e-01,  1.0092e-01, -2.6706e-01,\n",
       "             1.4031e-01, -7.1575e-02, -1.4633e-01,  1.4219e-01,  2.2800e-01,\n",
       "            -6.1523e-04,  3.4564e-02, -7.9565e-02,  2.1669e-02,  4.0308e-02,\n",
       "            -2.5172e-01,  3.4815e-02, -2.0099e-01,  1.9000e-01, -7.9208e-02,\n",
       "            -7.9196e-02, -1.5569e-01, -1.2824e-01, -7.8178e-03, -7.2494e-02,\n",
       "             1.7363e-01,  8.1864e-02,  6.6621e-02, -1.4492e-01,  1.5678e-01,\n",
       "             6.7836e-04,  1.5938e-01,  2.5417e-01,  4.7636e-02, -1.5053e-01,\n",
       "             4.6581e-02, -8.5633e-02,  3.3402e-02, -3.0154e-01, -7.9911e-02,\n",
       "            -4.0526e-02,  5.3540e-02,  1.4217e-01,  1.0859e-01]],\n",
       " \n",
       "          [[ 2.9188e-01, -1.1506e-01, -4.3853e-01,  1.3075e-01,  4.8307e-01,\n",
       "             1.1964e+00,  2.7231e-02, -6.4482e-01,  9.8903e-01,  1.3257e+00,\n",
       "            -5.0732e-02, -3.3604e-02,  2.5618e-01,  2.0894e-01,  2.7593e-01,\n",
       "            -1.4529e-01, -1.1414e-01,  4.6590e-01, -3.7445e-01,  3.7356e-02,\n",
       "             6.9563e-02,  1.2788e-01,  8.3144e-02, -1.9421e-01,  2.0081e-01,\n",
       "             3.5820e-01,  5.8533e-01, -1.5087e+00, -3.4789e-01, -2.5592e-01,\n",
       "             1.0959e-01,  1.5187e-01, -6.1999e-02,  6.2518e-01, -1.9485e-02,\n",
       "             7.2366e-02,  1.5218e-02, -4.0080e-01, -4.4024e-01,  1.8379e-01,\n",
       "            -1.6654e-01, -1.5152e-01,  5.8154e-01, -5.0357e-01, -5.4405e-01,\n",
       "            -1.4347e-01,  2.1822e-01,  6.4796e-01,  2.8207e-01,  1.5754e-01,\n",
       "            -3.4576e-02, -4.4722e-02, -1.5084e-01, -5.2411e-01,  2.5869e-01,\n",
       "             7.4176e-02, -9.6719e-01,  1.4684e-01, -5.0677e-01, -2.4988e-02,\n",
       "             7.1612e-01, -2.6534e-01,  3.1793e-01,  4.9131e-02]],\n",
       " \n",
       "          [[-1.6762e-02, -7.9350e-02, -3.6105e-04,  4.6305e-02, -9.6491e-02,\n",
       "             5.9346e-02, -7.1426e-02, -7.8099e-03, -5.4436e-02,  2.4633e-02,\n",
       "            -3.3978e-02, -1.9640e-02,  1.9175e-02, -5.6442e-02, -8.5125e-02,\n",
       "            -6.4302e-02, -2.2469e-02,  8.7482e-02,  8.6593e-02,  8.4085e-02,\n",
       "             1.0859e-02,  4.5617e-02, -1.2698e-01, -1.7134e-02,  1.1434e-01,\n",
       "             8.4611e-02,  4.4113e-02, -4.7900e-02, -6.0785e-02,  7.8928e-02,\n",
       "             1.1938e-01, -9.4878e-03,  5.8613e-02,  5.3111e-02,  1.0973e-01,\n",
       "            -1.1226e-01,  3.9057e-02,  5.8362e-02,  2.1100e-01,  1.6548e-02,\n",
       "            -8.4022e-02,  5.5279e-03, -5.1316e-02, -1.4678e-02, -7.9064e-02,\n",
       "             3.2555e-02, -7.3481e-04,  1.6399e-02,  3.4009e-02, -7.5496e-02,\n",
       "            -2.4077e-02,  8.3410e-02,  4.1017e-02,  8.9220e-02,  9.0721e-02,\n",
       "            -8.5430e-03, -7.0503e-03, -1.0142e-01,  7.9759e-02,  9.8976e-02,\n",
       "             1.1605e-01,  1.2545e-01, -8.9708e-03,  5.2697e-02]],\n",
       " \n",
       "          [[-2.3982e-01, -1.3169e-01,  3.2156e-02,  1.7660e-01,  9.1645e-02,\n",
       "             5.8097e-01,  1.3339e-02,  2.1003e-01, -4.5831e-01,  1.2958e-01,\n",
       "            -2.6269e-01, -1.1898e-01,  9.6358e-02,  2.1011e-01,  1.1993e-01,\n",
       "             1.3110e-02, -4.6368e-02,  1.2328e-01, -2.2957e-01, -1.3870e-02,\n",
       "            -7.9470e-02,  3.1644e-01, -1.0792e-01, -5.3631e-02,  4.9484e-01,\n",
       "             1.3330e-01,  1.2382e-01, -3.4223e-03, -2.1619e-01,  2.6146e-01,\n",
       "            -1.2689e-01, -1.6147e-01, -1.4804e-01, -1.3646e-01,  1.0854e-01,\n",
       "            -9.7067e-02,  3.5785e-01,  8.9237e-02,  2.1423e-01,  2.4389e-01,\n",
       "             1.5940e-01,  3.2069e-02,  1.9676e-01, -5.6327e-02,  2.0485e-01,\n",
       "             1.3444e-02,  1.6842e-02,  2.2784e-01,  4.0129e-01,  1.2056e-01,\n",
       "             7.0940e-02,  2.4394e-01, -7.6701e-02, -1.1353e-02, -1.8868e-01,\n",
       "             1.3078e-01, -7.5254e-02,  1.0736e-01,  1.7850e-01,  7.3289e-02,\n",
       "             8.0353e-02,  1.1096e-01, -4.4823e-01, -2.8592e-02]],\n",
       " \n",
       "          [[ 4.7808e-02,  1.6043e-01,  1.9411e-01, -3.5388e-01, -1.8258e-01,\n",
       "             2.5250e-01, -1.5961e-01,  7.6818e-02, -2.8257e-02,  5.4075e-02,\n",
       "             5.8154e-02, -1.7131e-03, -1.9450e-01,  1.9972e-01, -6.6186e-02,\n",
       "             5.4210e-02,  1.2594e-01,  6.1755e-02, -2.1846e-01,  1.3807e-01,\n",
       "            -4.4412e-01, -1.9590e-01, -1.4987e-01, -2.0674e-01, -5.6138e-02,\n",
       "             8.9590e-02, -2.5925e-01,  5.1154e-01, -1.6762e-01,  1.0806e-01,\n",
       "             2.1920e-02, -2.1882e-01,  2.2043e-01,  1.2553e-03,  5.5780e-01,\n",
       "             9.5284e-02, -4.7863e-02, -2.7520e-01, -9.4578e-02, -5.1578e-02,\n",
       "             6.2054e-02, -1.6798e-01, -6.9172e-02,  2.4798e-01, -5.0535e-02,\n",
       "             3.4402e-01,  1.6275e-01, -1.0098e-01,  6.3632e-02,  1.6692e-01,\n",
       "            -2.2720e-01,  2.5772e-01,  8.6055e-02,  2.0026e-01, -1.3933e-01,\n",
       "            -1.2364e-01,  1.3289e-01, -9.8049e-02,  9.2380e-02, -4.1722e-02,\n",
       "             1.4436e-02, -1.9647e-01, -2.8476e-02,  8.5031e-02]],\n",
       " \n",
       "          [[ 1.2667e-01,  7.9926e-05, -3.0136e-01, -7.9022e-02, -7.7791e-02,\n",
       "             1.3259e-01,  6.2304e-02,  6.8550e-02,  5.9033e-03, -2.6698e-01,\n",
       "            -2.6618e-02,  4.4693e-01, -2.4522e-01,  2.6941e-01,  7.4814e-02,\n",
       "             2.3134e-01,  2.4143e-01,  4.9123e-02, -2.0139e-01, -1.0233e-01,\n",
       "            -1.9566e-01,  6.7435e-03, -2.4720e-01,  3.1130e-01,  6.7376e-02,\n",
       "             3.1983e-01, -1.3359e-01, -4.4695e-02, -3.6666e-01, -5.3598e-03,\n",
       "            -3.3652e-02,  8.3703e-02, -1.5011e-01, -9.1771e-02,  4.5850e-02,\n",
       "            -6.2353e-01,  8.0132e-02,  1.9764e-01, -2.4046e-01,  2.6481e-01,\n",
       "            -8.0565e-01, -1.5412e-01,  4.5156e-01,  2.3525e-02,  1.6931e-01,\n",
       "             6.3958e-02, -2.2726e-01, -6.9550e-01, -2.9862e-01, -1.4588e-01,\n",
       "             3.1967e-01, -3.0589e-01,  1.7580e-01,  2.5594e-01, -4.0182e-02,\n",
       "            -3.3957e-01,  2.5401e-01, -1.9983e-02,  2.6592e-01,  4.8156e-01,\n",
       "             4.6104e-01,  2.3895e-01, -3.3603e-01, -1.5230e-01]]]],\n",
       "        grad_fn=<TransposeBackward0>),\n",
       " tensor([[[[-0.8833, -3.4285, -2.6623,  ...,  2.5274,  1.7202,  0.3825],\n",
       "           [-0.8820, -3.3164, -2.7943,  ...,  2.7805,  2.0013,  0.4679],\n",
       "           [ 0.0560, -0.5999, -1.7023,  ..., -0.3690,  2.1554,  0.9853],\n",
       "           ...,\n",
       "           [-0.7338,  0.7384,  1.0374,  ..., -0.4609,  1.6293, -0.7096],\n",
       "           [ 0.8477,  3.5175,  2.5856,  ...,  0.6772,  1.6858,  2.9344],\n",
       "           [-0.0284, -0.4705, -1.6890,  ..., -0.3350,  2.0269,  1.0855]],\n",
       " \n",
       "          [[ 1.2067, -1.1755, -1.7359,  ..., -3.4384,  2.8740,  3.1621],\n",
       "           [ 1.2819, -1.2006, -1.8315,  ..., -3.4382,  2.8235,  3.2538],\n",
       "           [ 1.0451,  0.8339,  1.1047,  ..., -1.0590, -0.6443,  0.1340],\n",
       "           ...,\n",
       "           [-0.1506,  3.0533,  1.0543,  ..., -3.7167, -0.1186, -1.3183],\n",
       "           [ 3.6786,  1.7855, -1.8197,  ..., -2.9233,  3.0090,  2.1756],\n",
       "           [ 1.1482,  0.9745,  1.0276,  ..., -1.1499, -0.1299,  0.1975]],\n",
       " \n",
       "          [[-1.3356, -3.2764,  0.4654,  ..., -0.0838,  0.9318,  2.6222],\n",
       "           [-1.4291, -3.3263,  0.4244,  ..., -0.1107,  1.0453,  2.5619],\n",
       "           [-0.5920,  1.8882, -0.8635,  ..., -0.2092,  1.3109, -0.5959],\n",
       "           ...,\n",
       "           [-1.5569,  0.4766, -3.4092,  ...,  2.9051,  1.4852, -1.6452],\n",
       "           [-0.5781,  0.9036, -0.8686,  ...,  4.3938, -1.6213,  0.1727],\n",
       "           [-0.7968,  1.9476, -1.0103,  ..., -0.1296,  1.2826, -0.8542]],\n",
       " \n",
       "          ...,\n",
       " \n",
       "          [[ 0.1696, -0.5412,  1.7966,  ...,  0.1816, -0.3421,  0.2772],\n",
       "           [ 0.1152, -0.3554,  1.6868,  ..., -0.1288, -0.3592,  0.4552],\n",
       "           [-0.1441, -0.2058,  0.1195,  ...,  2.9829, -1.3462,  1.1441],\n",
       "           ...,\n",
       "           [-0.1740,  1.9438, -3.4006,  ..., -0.9166, -0.4565,  2.7548],\n",
       "           [ 0.0888,  0.7551, -0.0578,  ...,  0.5793,  0.0394,  0.3661],\n",
       "           [-0.1908, -0.1121,  0.2200,  ...,  2.7549, -1.3313,  1.4044]],\n",
       " \n",
       "          [[ 2.2790, -2.1983,  3.3456,  ...,  2.1606,  0.2568,  2.1034],\n",
       "           [ 2.3940, -2.0056,  3.2450,  ...,  2.0575,  0.0957,  2.3639],\n",
       "           [-2.0265, -0.5143, -0.5704,  ...,  1.2961, -0.5049,  0.5696],\n",
       "           ...,\n",
       "           [-0.0866, -1.8152,  1.1813,  ..., -0.6559,  3.8467,  2.7601],\n",
       "           [-2.0442,  0.3130, -0.6248,  ..., -0.8157,  1.1541,  2.3263],\n",
       "           [-2.0124, -0.6749, -0.4197,  ...,  1.2078, -0.5234,  0.6094]],\n",
       " \n",
       "          [[ 0.0355,  1.5408,  1.4124,  ...,  0.1390,  0.5162,  1.1741],\n",
       "           [ 0.1263,  1.3292,  1.2091,  ...,  0.1735,  0.5965,  1.2579],\n",
       "           [ 1.0181, -1.0758, -2.3781,  ..., -1.3200, -1.1017, -0.1400],\n",
       "           ...,\n",
       "           [ 1.6813,  0.2705, -1.0450,  ...,  1.6297,  1.3547, -1.2880],\n",
       "           [ 4.4294, -1.4234, -3.3829,  ...,  1.1412,  1.6729, -0.8468],\n",
       "           [ 1.3255, -1.1553, -2.6243,  ..., -1.2533, -0.9824, -0.2783]]]],\n",
       "        grad_fn=<TransposeBackward0>),\n",
       " tensor([[[[ 2.1199e+00,  7.1074e-01, -5.7262e-01,  ...,  2.7415e-01,\n",
       "             1.5512e+00, -9.0206e-01],\n",
       "           [ 2.1946e+00,  7.8159e-01, -5.2954e-01,  ...,  4.4648e-01,\n",
       "             1.6276e+00, -1.0188e+00],\n",
       "           [-3.3860e-01, -5.0269e-01,  3.4490e-02,  ..., -1.4326e-01,\n",
       "            -5.1407e-01,  7.0888e-01],\n",
       "           ...,\n",
       "           [ 1.8744e+00,  1.2563e+00, -1.4942e+00,  ..., -1.3610e+00,\n",
       "            -2.1300e-01, -1.3640e+00],\n",
       "           [-2.7385e+00, -4.8814e-01, -1.2955e+00,  ...,  2.9135e-01,\n",
       "             3.3240e+00, -3.2585e-01],\n",
       "           [-5.3958e-01, -4.3387e-01, -1.4851e-02,  ..., -1.3113e-01,\n",
       "            -2.7604e-01,  5.1229e-01]],\n",
       " \n",
       "          [[ 7.6884e-01,  9.3737e-01,  1.3761e+00,  ..., -3.5549e-01,\n",
       "            -2.2543e+00, -9.8809e-01],\n",
       "           [ 8.2928e-01,  7.3308e-01,  1.4128e+00,  ..., -2.5766e-01,\n",
       "            -2.2315e+00, -9.7039e-01],\n",
       "           [-5.4192e-02, -1.5818e+00,  1.0449e-01,  ..., -1.1137e+00,\n",
       "             1.7126e-01,  3.9157e-01],\n",
       "           ...,\n",
       "           [ 1.8626e+00,  7.2521e-01,  2.2106e-01,  ...,  2.0449e+00,\n",
       "             9.7623e-01,  3.8910e-01],\n",
       "           [ 1.4948e+00,  2.8191e+00, -2.6480e-01,  ...,  9.5330e-01,\n",
       "            -1.3485e+00,  1.5104e+00],\n",
       "           [ 2.9976e-02, -1.2991e+00,  1.5138e-02,  ..., -1.0777e+00,\n",
       "            -9.0376e-02,  4.9368e-01]],\n",
       " \n",
       "          [[ 1.3984e-01, -6.2729e-01,  8.6467e-03,  ..., -1.7042e+00,\n",
       "             1.4291e+00,  1.9218e+00],\n",
       "           [ 6.3867e-02, -6.2375e-01,  2.2235e-01,  ..., -1.7725e+00,\n",
       "             1.4436e+00,  1.8826e+00],\n",
       "           [ 1.7338e-01,  2.8319e-01, -2.1849e-02,  ...,  2.5853e-01,\n",
       "             3.4624e-01, -2.4574e-03],\n",
       "           ...,\n",
       "           [-1.4421e+00, -2.6326e+00, -8.2715e-01,  ..., -8.8910e-01,\n",
       "            -1.0672e+00, -1.4648e+00],\n",
       "           [-3.7513e+00, -1.5993e+00, -1.1272e+00,  ..., -1.0667e+00,\n",
       "            -7.9915e-01,  1.4089e+00],\n",
       "           [ 2.5099e-02,  2.1600e-01,  2.8052e-02,  ...,  1.9175e-01,\n",
       "             2.7883e-01, -9.6705e-03]],\n",
       " \n",
       "          ...,\n",
       " \n",
       "          [[-1.9051e+00,  7.9994e-01,  8.5855e-01,  ..., -1.1350e+00,\n",
       "            -1.1743e-01, -6.9277e-01],\n",
       "           [-2.0302e+00,  5.8409e-01,  6.0054e-01,  ..., -1.1550e+00,\n",
       "            -1.3007e-01, -6.2273e-01],\n",
       "           [ 4.2256e-01,  6.2395e-01, -1.8954e-01,  ...,  7.1390e-03,\n",
       "             1.7433e-01, -2.3006e-01],\n",
       "           ...,\n",
       "           [ 2.5571e+00,  1.2648e+00,  3.2510e+00,  ...,  2.5416e+00,\n",
       "            -8.7473e-01,  8.5933e-01],\n",
       "           [ 7.6204e-01, -1.9827e+00,  3.1289e-01,  ...,  2.1675e+00,\n",
       "            -1.2232e+00,  5.3278e-01],\n",
       "           [ 3.8165e-01,  6.0063e-01, -2.3451e-01,  ...,  6.3892e-02,\n",
       "             7.0873e-02, -2.4476e-01]],\n",
       " \n",
       "          [[-9.5679e-01,  7.0689e-01, -6.0956e-01,  ..., -5.3139e-01,\n",
       "             2.1485e+00, -1.2376e+00],\n",
       "           [-9.8320e-01,  5.8990e-01, -4.9026e-01,  ..., -5.0267e-01,\n",
       "             2.2650e+00, -1.4207e+00],\n",
       "           [ 1.2842e-01, -3.7059e-01,  3.3575e-02,  ...,  2.7189e-01,\n",
       "            -7.4538e-01,  2.9209e-01],\n",
       "           ...,\n",
       "           [ 2.3686e-01,  2.4515e-01, -1.5723e+00,  ..., -1.5072e+00,\n",
       "             4.9502e+00, -2.7947e-01],\n",
       "           [-1.3569e-01, -7.6175e-01, -8.4120e-01,  ..., -2.6934e+00,\n",
       "             4.4840e+00, -9.4139e-02],\n",
       "           [ 7.0420e-02, -2.3866e-01,  2.7070e-02,  ...,  7.5615e-03,\n",
       "            -8.1057e-01,  2.6353e-01]],\n",
       " \n",
       "          [[ 8.1678e-01,  1.9366e+00, -2.3153e-01,  ...,  2.1417e-01,\n",
       "             4.4062e-01,  1.6106e-01],\n",
       "           [ 1.0008e+00,  2.1571e+00, -1.9205e-01,  ...,  2.9570e-01,\n",
       "             5.5242e-01,  1.9933e-01],\n",
       "           [-3.1208e-01, -6.3597e-01,  7.3505e-03,  ...,  5.7064e-01,\n",
       "            -8.5199e-02, -6.0226e-02],\n",
       "           ...,\n",
       "           [-3.6816e-01,  2.7297e-01, -5.7915e-01,  ...,  5.1905e-01,\n",
       "            -7.3225e-01, -1.0970e+00],\n",
       "           [-7.1152e-01, -1.9223e-01, -1.9056e+00,  ..., -1.2619e+00,\n",
       "            -9.9958e-01,  2.0628e-01],\n",
       "           [-3.4397e-01, -5.6752e-01,  1.7811e-02,  ...,  3.2008e-01,\n",
       "             2.8299e-02,  4.1473e-02]]]], grad_fn=<TransposeBackward0>))"
      ]
     },
     "execution_count": 35,
     "metadata": {},
     "output_type": "execute_result"
    }
   ],
   "source": [
    "output[\"past_key_values\"][0]"
   ]
  },
  {
   "cell_type": "markdown",
   "metadata": {},
   "source": [
    "We get three outputs:\n",
    "\n",
    "- `logits`: The logits for each token in the vocabulary. The logits are the output of the linear layer (the `lm_head`) that maps the decoder's output to the vocabulary size. The logits are used to compute the probabilities of each token.\n",
    "\n",
    "- `past_key_values`: The past key-values of the decoder. This is used to speed up the generation process for future tokens. Remember: the decoder is autoregressive, so we generate one token at a time. Since each token can only pay attention to past tokens, it means that the predictions made for earlier tokens will not change. Thus, we can cache them and not re-compute them. So, if we pas `past_key_values` to the model the next time we call it, it will be faster.\n",
    "\n",
    "- `encoder_last_hidden_state`: The hidden states of the last layer of the encoder (also this one remains always the same during the generation!). This is not used for generating the next token, but we may find it useful for other tasks (e.g., summarization)."
   ]
  },
  {
   "cell_type": "code",
   "execution_count": 36,
   "metadata": {},
   "outputs": [
    {
     "name": "stdout",
     "output_type": "stream",
     "text": [
      "torch.Size([1, 1, 32128])\n"
     ]
    }
   ],
   "source": [
    "print(output.logits.shape)"
   ]
  },
  {
   "cell_type": "markdown",
   "metadata": {},
   "source": [
    "The shape of the logits is 1x1x32128. The first dimension is the batch size, the second dimension is the number of tokens in the output sequence (we are still at a single generated token), and the third dimension is the number of tokens in the vocabulary.\n",
    "\n",
    "So what's the next word going to be? We can use greedy decoding to take the token with the highest probability."
   ]
  },
  {
   "cell_type": "code",
   "execution_count": 37,
   "metadata": {},
   "outputs": [
    {
     "data": {
      "text/plain": [
       "tensor(2501)"
      ]
     },
     "execution_count": 37,
     "metadata": {},
     "output_type": "execute_result"
    }
   ],
   "source": [
    "output.logits[0,0].argmax()"
   ]
  },
  {
   "cell_type": "code",
   "execution_count": 38,
   "metadata": {},
   "outputs": [
    {
     "name": "stdout",
     "output_type": "stream",
     "text": [
      "Max probability token: 2501\n",
      "Corresponding token: Hall\n"
     ]
    }
   ],
   "source": [
    "max_proba_token = output.logits[0,0].argmax()\n",
    "print(\"Max probability token:\", max_proba_token.item())\n",
    "print(\"Corresponding token:\", tokenizer.decode(max_proba_token))"
   ]
  },
  {
   "cell_type": "markdown",
   "metadata": {},
   "source": [
    "Looks like we're on the right track. We have a new token, which we can add to our `decoder_input_ids` tensor and continue with the next iteration.\n"
   ]
  },
  {
   "cell_type": "code",
   "execution_count": 39,
   "metadata": {},
   "outputs": [
    {
     "name": "stdout",
     "output_type": "stream",
     "text": [
      "tensor([[   0, 2501]])\n"
     ]
    }
   ],
   "source": [
    "# .view() acts like .reshape(), but assumes that the tensor is contiguous in memory (& is faster)\n",
    "decoder_input_ids = torch.hstack([decoder_input_ids, max_proba_token.view(1, 1)])\n",
    "print(decoder_input_ids)"
   ]
  },
  {
   "cell_type": "code",
   "execution_count": 40,
   "metadata": {},
   "outputs": [
    {
     "data": {
      "text/plain": [
       "torch.Size([1, 2, 32128])"
      ]
     },
     "execution_count": 40,
     "metadata": {},
     "output_type": "execute_result"
    }
   ],
   "source": [
    "output = model(**tokens, decoder_input_ids=decoder_input_ids)\n",
    "output.logits.shape"
   ]
  },
  {
   "cell_type": "markdown",
   "metadata": {},
   "source": [
    "Now the output has shape 1x2x32128. We have generated two tokens! \n",
    "\n",
    "The first one, remember, will necessarily be the same as the one we produced before, since the masking mechanism prevents the model from seeing any following token. \n",
    "\n",
    "But just to be sure, let's decode both tokens. "
   ]
  },
  {
   "cell_type": "code",
   "execution_count": 41,
   "metadata": {},
   "outputs": [
    {
     "name": "stdout",
     "output_type": "stream",
     "text": [
      "Token ids tensor([2501,   32])\n",
      "Mapped tokens ['▁Hall', 'o']\n",
      "Decoded string Hallo\n"
     ]
    }
   ],
   "source": [
    "# 0 -> first (and only) batch\n",
    "max_proba_tokens = output.logits[0].argmax(axis=1)\n",
    "print(\"Token ids\", max_proba_tokens)\n",
    "print(\"Mapped tokens\", list(map(reverse_vocab.get, max_proba_tokens.tolist())))\n",
    "print(\"Decoded string\", tokenizer.decode(max_proba_tokens))"
   ]
  },
  {
   "cell_type": "markdown",
   "metadata": {},
   "source": [
    "We are onto something. We could go ahead and generate more tokens manually. "
   ]
  },
  {
   "cell_type": "code",
   "execution_count": 42,
   "metadata": {},
   "outputs": [
    {
     "name": "stdout",
     "output_type": "stream",
     "text": [
      "Step 1: Hall\n"
     ]
    },
    {
     "name": "stdout",
     "output_type": "stream",
     "text": [
      "Step 2: Hallo\n",
      "Step 3: Hallo,\n",
      "Step 4: Hallo, wie\n",
      "Step 5: Hallo, wie sind\n",
      "Step 6: Hallo, wie sind Sie\n",
      "Step 7: Hallo, wie sind Sie?\n",
      "Step 8: Hallo, wie sind Sie?</s>\n"
     ]
    }
   ],
   "source": [
    "\n",
    "decoder_input_ids = torch.tensor([[ tokenizer.pad_token_id ]])\n",
    "\n",
    "max_length = 50\n",
    "i = 0\n",
    "\n",
    "while i < max_length and decoder_input_ids[0,-1] != tokenizer.eos_token_id:\n",
    "    output = model(**tokens, decoder_input_ids=decoder_input_ids)\n",
    "    max_proba_tokens = output.logits[0].argmax(axis=1)\n",
    "    print(f\"Step {i+1}: {tokenizer.decode(max_proba_tokens)}\")\n",
    "    decoder_input_ids = torch.hstack([decoder_input_ids, max_proba_tokens[-1].view(1, 1)])\n",
    "    i += 1"
   ]
  },
  {
   "cell_type": "markdown",
   "metadata": {},
   "source": [
    "Note that we are introducing a `max_length` parameter. This is just in case, to prevent the model from generating an infinite sequence.\n",
    "\n",
    "Now, turns out that the model has a `generate()` method that does exactly what we just did."
   ]
  },
  {
   "cell_type": "code",
   "execution_count": 43,
   "metadata": {},
   "outputs": [
    {
     "data": {
      "text/plain": [
       "['<pad> Hallo, wie sind Sie?</s>']"
      ]
     },
     "execution_count": 43,
     "metadata": {},
     "output_type": "execute_result"
    }
   ],
   "source": [
    "out_tokens = model.generate(**tokens, max_length=max_length)\n",
    "tokenizer.batch_decode(out_tokens)"
   ]
  },
  {
   "cell_type": "markdown",
   "metadata": {},
   "source": [
    "You may also empirically verify that `model.generate()` is faster than the manual loop. This is because there are some optimizations in the `generate()` method that make the generation process faster (e.g., caching the encoder's outputs, or the previous decoder's hidden states). "
   ]
  },
  {
   "cell_type": "markdown",
   "metadata": {},
   "source": [
    "## Cross-attention_\n",
    "\n",
    "We can now run the previous code, but now let's compute the cross-attention weights. This will help us understand what the model is paying attention to in the input sequence, when generating the next token.\n",
    "\n",
    "To compute the attention weights, we need to reload the model, passing the `output_attentions=True` parameter. This will make the model return the attention weights for each layer."
   ]
  },
  {
   "cell_type": "code",
   "execution_count": 44,
   "metadata": {},
   "outputs": [
    {
     "name": "stderr",
     "output_type": "stream",
     "text": [
      "/home/csavelli/llm/.conda/lib/python3.11/site-packages/transformers/generation/configuration_utils.py:777: UserWarning: `return_dict_in_generate` is NOT set to `True`, but `output_attentions` is. When `return_dict_in_generate` is not `True`, `output_attentions` is ignored.\n",
      "  warnings.warn(\n"
     ]
    }
   ],
   "source": [
    "model = AutoModelForSeq2SeqLM.from_pretrained(model_name, output_attentions=True)"
   ]
  },
  {
   "cell_type": "code",
   "execution_count": 45,
   "metadata": {},
   "outputs": [
    {
     "name": "stdout",
     "output_type": "stream",
     "text": [
      "odict_keys(['logits', 'past_key_values', 'decoder_attentions', 'cross_attentions', 'encoder_last_hidden_state', 'encoder_attentions'])\n"
     ]
    }
   ],
   "source": [
    "# re-prepare encoder tokens and decoder tokens\n",
    "# input_sentence = \"translate from english to german: hello how are you?\"\n",
    "input_sentence = \"translate english to german: hello how are you?\"\n",
    "tokens = tokenizer(input_sentence, return_tensors=\"pt\")\n",
    "decoder_input_ids = torch.tensor([[ tokenizer.pad_token_id ]])\n",
    "\n",
    "output = model(**tokens, decoder_input_ids=decoder_input_ids)\n",
    "print(output.keys())"
   ]
  },
  {
   "cell_type": "code",
   "execution_count": 46,
   "metadata": {},
   "outputs": [
    {
     "name": "stderr",
     "output_type": "stream",
     "text": [
      "/home/csavelli/llm/.conda/lib/python3.11/site-packages/transformers/generation/utils.py:1220: UserWarning: Using the model-agnostic default `max_length` (=20) to control the generation length. We recommend setting `max_new_tokens` to control the maximum length of the generation.\n",
      "  warnings.warn(\n"
     ]
    },
    {
     "data": {
      "text/plain": [
       "['<pad> Hallo, wie sind Sie?</s>']"
      ]
     },
     "execution_count": 46,
     "metadata": {},
     "output_type": "execute_result"
    }
   ],
   "source": [
    "tokenizer.batch_decode(model.generate(**tokens, decoder_input_ids=decoder_input_ids))"
   ]
  },
  {
   "cell_type": "markdown",
   "metadata": {},
   "source": [
    "In addition to the previous values, we now have `decoder_attentions`, `cross_attentions`, and `encoder_attentions`.\n",
    "\n",
    "The names are self-explanatory. We will focus on the cross-attention to understand encoder-decoder interactions.\n",
    "\n",
    "Each of the decoder's layers has a corresponding cross-attention layer. So we expect to have 12 cross-attention layers. Indeed, the `cross_attention` is a tuple, with 12 elements."
   ]
  },
  {
   "cell_type": "code",
   "execution_count": 47,
   "metadata": {},
   "outputs": [
    {
     "data": {
      "text/plain": [
       "(tuple, 12)"
      ]
     },
     "execution_count": 47,
     "metadata": {},
     "output_type": "execute_result"
    }
   ],
   "source": [
    "type(output.cross_attentions), len(output.cross_attentions)"
   ]
  },
  {
   "cell_type": "markdown",
   "metadata": {},
   "source": [
    "The shape of any one of these attentions is the following: 1x12x1x13. Remember:\n",
    "\n",
    "- the first 1 is the batch size (a single sentence),\n",
    "- 12 are the attention heads, each one producing an attention mask,\n",
    "- 1 is the number of tokens passed as input to the decoder (just BOS, for now),\n",
    "- 11 is the number of tokens in the input sequence."
   ]
  },
  {
   "cell_type": "code",
   "execution_count": 48,
   "metadata": {},
   "outputs": [
    {
     "data": {
      "text/plain": [
       "torch.Size([1, 12, 1, 11])"
      ]
     },
     "execution_count": 48,
     "metadata": {},
     "output_type": "execute_result"
    }
   ],
   "source": [
    "output.cross_attentions[0].shape"
   ]
  },
  {
   "cell_type": "markdown",
   "metadata": {},
   "source": [
    "Let's look at the first layer's attentions. \n",
    "\n",
    "We can see that for early stages the attention is mostly focused on identifying the task (\"translate\", \"english\", \"german\").\n",
    "\n",
    "Interestingly, \"german\" gets attention from many of the heads, whereas \"translate\" and \"english\" are less attended to. We can expect this to be the case since T5 has been trained on various tasks, one of which was translation from english to other languages. "
   ]
  },
  {
   "cell_type": "code",
   "execution_count": 52,
   "metadata": {},
   "outputs": [
    {
     "data": {
      "image/png": "[encoded data removed]",
      "text/plain": [
       "<Figure size 400x400 with 1 Axes>"
      ]
     },
     "metadata": {},
     "output_type": "display_data"
    }
   ],
   "source": [
    "fig, ax = plt.subplots(figsize=(4,4))\n",
    "ax.imshow(output.cross_attentions[0][0, :, 0].detach().numpy())\n",
    "input_tokens = tokenizer.tokenize(input_sentence) + [ \"</s>\" ]\n",
    "ax.set_xticks(range(len(input_tokens)), input_tokens, rotation=90);"
   ]
  },
  {
   "cell_type": "markdown",
   "metadata": {},
   "source": [
    "We can check the rest of the attentions in the other layers as well. \n",
    "\n",
    "With the exception of the initial layer, the attention on \"translate\" and \"english\" is mostly gone. The attention is now focused on \"german\" and on the first word of the sentence (\"hello\"). \n"
   ]
  },
  {
   "cell_type": "code",
   "execution_count": 53,
   "metadata": {},
   "outputs": [
    {
     "data": {
      "image/png": "[encoded data removed]",
      "text/plain": [
       "<Figure size 1400x300 with 10 Axes>"
      ]
     },
     "metadata": {},
     "output_type": "display_data"
    }
   ],
   "source": [
    "fig, ax = plt.subplots(1, 10, figsize=(14, 3))\n",
    "\n",
    "ax[0].set_ylabel(\"Attention head\")\n",
    "\n",
    "for i in range(10):\n",
    "    ax[i].imshow(output.cross_attentions[i][0, :, 0].detach().numpy())\n",
    "    input_tokens = tokenizer.tokenize(input_sentence) + [ \"</s>\" ]\n",
    "    ax[i].set_xticks(range(len(input_tokens)), input_tokens, rotation=90);\n",
    "    ax[i].set_yticks([])"
   ]
  },
  {
   "cell_type": "markdown",
   "metadata": {},
   "source": [
    "As a final exploration, let's check the average attention across layers and heads, for the last token generated throughout the entire sequence. \n",
    "\n",
    "In this way, we can observe how the attention shifts as we generate more tokens."
   ]
  },
  {
   "cell_type": "code",
   "execution_count": 54,
   "metadata": {},
   "outputs": [
    {
     "name": "stdout",
     "output_type": "stream",
     "text": [
      "Step 1: Hall\n",
      "Step 2: Hallo\n",
      "Step 3: Hallo,\n",
      "Step 4: Hallo, wie\n",
      "Step 5: Hallo, wie sind\n",
      "Step 6: Hallo, wie sind Sie\n",
      "Step 7: Hallo, wie sind Sie?\n",
      "Step 8: Hallo, wie sind Sie?</s>\n"
     ]
    }
   ],
   "source": [
    "decoder_input_ids = torch.tensor([[ tokenizer.pad_token_id ]])\n",
    "\n",
    "attns = []\n",
    "\n",
    "max_length = 50\n",
    "i = 0\n",
    "\n",
    "while i < max_length and decoder_input_ids[0,-1] != tokenizer.eos_token_id:\n",
    "    output = model(**tokens, decoder_input_ids=decoder_input_ids)\n",
    "    max_proba_tokens = output.logits[0].argmax(axis=1)\n",
    "    print(f\"Step {i+1}: {tokenizer.decode(max_proba_tokens)}\")\n",
    "    decoder_input_ids = torch.hstack([decoder_input_ids, max_proba_tokens[-1].view(1, 1)])\n",
    "    attns.append(output.cross_attentions)\n",
    "    i += 1"
   ]
  },
  {
   "cell_type": "markdown",
   "metadata": {},
   "source": [
    "Note: taking the average across all heads and all layers may not necessarily be the best approach (for instance, some interesting aspects may be lost in this aggregation). However, it should give us a general idea of what the model is focusing on."
   ]
  },
  {
   "cell_type": "code",
   "execution_count": 55,
   "metadata": {},
   "outputs": [
    {
     "data": {
      "image/png": "[encoded data removed]",
      "text/plain": [
       "<Figure size 500x500 with 1 Axes>"
      ]
     },
     "metadata": {},
     "output_type": "display_data"
    }
   ],
   "source": [
    "fig, ax = plt.subplots(figsize=(5, 5))\n",
    "ax.imshow(torch.stack([ torch.stack(a).mean(axis=(0, 1, 2))[-1] for a in attns ]).detach().numpy())\n",
    "ax.set_xlabel(\"Input token\")\n",
    "ax.set_ylabel(\"Generated token\")\n",
    "\n",
    "input_tokens = tokenizer.tokenize(input_sentence) + [ \"</s>\" ]\n",
    "output_tokens = tokenizer.tokenize(tokenizer.decode(output.logits[0].argmax(axis=1)))\n",
    "ax.set_xticks(range(len(input_tokens)), input_tokens, rotation=90)\n",
    "ax.set_yticks(range(len(output_tokens)), output_tokens);"
   ]
  },
  {
   "cell_type": "markdown",
   "metadata": {},
   "source": [
    "Indeed, when Hall|o|, is generated, the most attention is paid to the word \"hello\". Then the attention shifts to the rest of the sentence gradually. This shows how the decoder can focus on different parts of the input sequence as it generates different parts of the output sequence!"
   ]
  }
 ],
 "metadata": {
  "kernelspec": {
   "display_name": "Python 3",
   "language": "python",
   "name": "python3"
  },
  "language_info": {
   "codemirror_mode": {
    "name": "ipython",
    "version": 3
   },
   "file_extension": ".py",
   "mimetype": "text/x-python",
   "name": "python",
   "nbconvert_exporter": "python",
   "pygments_lexer": "ipython3",
   "version": "3.11.10"
  }
 },
 "nbformat": 4,
 "nbformat_minor": 2
}
